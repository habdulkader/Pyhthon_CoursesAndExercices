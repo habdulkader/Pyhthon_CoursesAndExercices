{
 "cells": [
  {
   "cell_type": "markdown",
   "metadata": {},
   "source": [
    "# Introduction à la programmation avec Python\n",
    "## Les variables et les opérateurs\n",
    "\n",
    "Dr. H. Abdulkader (habdulkader68@gmail.com) "
   ]
  },
  {
   "cell_type": "markdown",
   "metadata": {},
   "source": [
    "## Outils de programmation sous Python\n",
    "Il y a deux séries du language python; python 2.x et python 3.x.\n",
    "Les deux séries co-existent malgré les différences minimes entre elles. \n",
    "#### Exemple :\n",
    "en python 2.x :\n",
    "   **print \"bonjour tout le monde\"**\n",
    "en python 3.x :\n",
    "   **print(\"bonjour tout le monde\")**\n",
    "## packages de python\n",
    "Python, ainsi que la plupart de ses bibliothèques, est un logiciel libre. On peut télécharger Python à partir du site web du projet: www.python.org\n",
    "\n",
    "Pourtant, il serait pratique d'installer une distribution complete de Python qui contient à côté de python un grand nombre de modules bien utiles pour les développeurs.\n",
    "On peut citer par exemple la distribution **Anaconda** que vous pouvez télécharger du site https://www.continuum.io/downloads, ou la distribution **Canopy** téléchargeable à partir de www.enthought.com\n",
    "Je vous recommende pour mon cours d'installer Anaconda, car il est doté d'un éditeur élaboré, simple et facile à utiliser. \n",
    "### Navigator :\n",
    "C'est l'interface graphique d'Anaconda qui permet de lancer plusieurs programmes interessants pour la programmation et le calcul scientifique. Parmi les logiciels que vous pouvez lancer **IPYTHON-NOTEBOOK** qui est une interface éducative riche. \n",
    "### Spyder :\n",
    "c'est le nom de l'éditeur sous Anaconda, il permmet de créer et d'éditer des fichiers python 'myProgram.py', et de l'éxecuter dans le même interface. Anaconda propose l'utilisation d'interprèteur IPYTHON plus riche que l'interpreteur Python.\n",
    "IPython est un terminal interactif qui propose des fonctionnalités telles que l'introspection, une syntaxe additionnelle, la complétion et un historique riche.\n"
   ]
  },
  {
   "cell_type": "markdown",
   "metadata": {},
   "source": [
    "### Codage des caractères \n",
    "\n",
    "Le codage standard utlisé, par défaut, est ASCII mais vous pouvez choisir d'autre codage comme UTF-8. Pour spécifier le codage, il faut l'écrire sur une ligne en tête du fichier, comme :\n",
    "\n",
    "    # -*- coding: UTF-8 -*-\n",
    "\n"
   ]
  },
  {
   "cell_type": "markdown",
   "metadata": {},
   "source": [
    "## Variables et types des variables\n",
    "\n",
    "### Noms de variables \n",
    "\n",
    "Pour nommer une variable en Python, le nom peut contenire des caractères alphanumeriques `a-z`, `A-Z`, `0-9` et le caractère special **`_`**. Normalement le nom de variable commence par une letter. \n",
    "\n",
    "Les programmateurs experts utilisent des noms significatifs de variables qui facilitent la lecture et la comprehension du code. Par convention, le nom d'une variable commence par une lettre miniscule et le nom d'une Class commence par une letter majuscule. \n",
    "\n",
    "Il faut bien éviter l'usage des noms réservés au langage de programmation. La liste suivante contient certains de ces noms à éviter absolument :\n",
    "\n",
    "    and, as, assert, break, class, continue, def, del, elif, else, except,     exec, finally, for, from, global, if, import, in, is, lambda, not, or,\n",
    "    pass, print, raise, return, try, while, with, yield\n",
    "\n",
    "Note: le nom `lambda` est un nom réservé qui permet de créer une fonction enligne, à ne pas utiliser ou confondre avec la lettre greque lambda souvent utilisé en mathématique et en physique.\n",
    "\n",
    "### Affectation (Assignement)\n",
    "\n",
    "L'operateur utlisé pour affecter une valeur à une variable est `=`. Le typage sous python est dynamique ce qui veut dire que le type de la variable change en fonction de la valeur affectée.\n",
    "\n",
    "Pour créer une variable, il suffit simplement de lui affecter une valeur (sans se soucier de typage) :"
   ]
  },
  {
   "cell_type": "code",
   "execution_count": 95,
   "metadata": {
    "collapsed": false
   },
   "outputs": [
    {
     "data": {
      "text/plain": [
       "(float, int)"
      ]
     },
     "execution_count": 95,
     "metadata": {},
     "output_type": "execute_result"
    }
   ],
   "source": [
    "# affectation à une variable \n",
    "x1 = 1.0\n",
    "x2 = 1\n",
    "type(x1),type(x2)"
   ]
  },
  {
   "cell_type": "markdown",
   "metadata": {},
   "source": [
    "Vous remarquez que le type de x1 est réel ou flotant **float** et le type de x2 est entier ou **int**. Si au cours du programme, une nouvelle valeur est affecté au même variable, l'ancienne valeur sera remplacée par la nouvelle et le type de la variable change pour correspondre à la nouvelle valeur."
   ]
  },
  {
   "cell_type": "code",
   "execution_count": 13,
   "metadata": {
    "collapsed": false
   },
   "outputs": [
    {
     "name": "stdout",
     "output_type": "stream",
     "text": [
      "x1 =  3  et  x2 =  3.06\n",
      "<class 'int'> <class 'float'>\n"
     ]
    }
   ],
   "source": [
    "x1 , x2 = 3 , 3.06\n",
    "print('x1 = ', x1, ' et ','x2 = ',x2)\n",
    "print(type(x1),type(x2))"
   ]
  },
  {
   "cell_type": "markdown",
   "metadata": {},
   "source": [
    "L'usage d'un nom de variable qui n'existe pas, ou n'a pas été créé par affectation, provoque un message d'erreur apparait `NameError`:"
   ]
  },
  {
   "cell_type": "code",
   "execution_count": 14,
   "metadata": {
    "collapsed": true
   },
   "outputs": [
    {
     "ename": "NameError",
     "evalue": "name 'age' is not defined",
     "traceback": [
      "\u001b[0;31m---------------------------------------------------------------------------\u001b[0m",
      "\u001b[0;31mNameError\u001b[0m                                 Traceback (most recent call last)",
      "\u001b[0;32m<ipython-input-14-d941829ce8b7>\u001b[0m in \u001b[0;36m<module>\u001b[0;34m()\u001b[0m\n\u001b[1;32m      1\u001b[0m \u001b[1;31m# age=??\u001b[0m\u001b[1;33m\u001b[0m\u001b[1;33m\u001b[0m\u001b[0m\n\u001b[0;32m----> 2\u001b[0;31m \u001b[0mprint\u001b[0m\u001b[1;33m(\u001b[0m\u001b[1;34m\"mon age est : \"\u001b[0m\u001b[1;33m,\u001b[0m \u001b[0mage\u001b[0m\u001b[1;33m)\u001b[0m\u001b[1;33m\u001b[0m\u001b[0m\n\u001b[0m",
      "\u001b[0;31mNameError\u001b[0m: name 'age' is not defined"
     ],
     "output_type": "error"
    }
   ],
   "source": [
    "# age=\n",
    "print(\"mon age est : \", age)"
   ]
  },
  {
   "cell_type": "markdown",
   "metadata": {},
   "source": [
    "### Types fundamentaux \n",
    "Le typage en Python est automatique, c'est à dire que le type d'une variable est le type de donnée affactée à la variable."
   ]
  },
  {
   "cell_type": "code",
   "execution_count": null,
   "metadata": {
    "collapsed": false
   },
   "outputs": [],
   "source": [
    "# entier, réel\n",
    "x1 = 1\n",
    "x2 = 1.0\n",
    "\n",
    "type(x1),type(x2)"
   ]
  },
  {
   "cell_type": "code",
   "execution_count": 99,
   "metadata": {
    "collapsed": false
   },
   "outputs": [
    {
     "name": "stdout",
     "output_type": "stream",
     "text": [
      "True <class 'bool'>\n"
     ]
    }
   ],
   "source": [
    "# booléen\n",
    "b1 = True\n",
    "b2 = False\n",
    "\n",
    "print(b1, type(b1))"
   ]
  },
  {
   "cell_type": "code",
   "execution_count": 15,
   "metadata": {
    "collapsed": false
   },
   "outputs": [
    {
     "name": "stdout",
     "output_type": "stream",
     "text": [
      "(2-1.2j) <class 'complex'>\n"
     ]
    }
   ],
   "source": [
    "# complex numbers: note the use of `j` to specify the imaginary part\n",
    "x = 2.0 - 1.2*1j\n",
    "\n",
    "print(x, type(x))"
   ]
  },
  {
   "cell_type": "code",
   "execution_count": 16,
   "metadata": {
    "collapsed": false
   },
   "outputs": [
    {
     "name": "stdout",
     "output_type": "stream",
     "text": [
      "2.0 -1.2\n"
     ]
    }
   ],
   "source": [
    "print(x.real, x.imag)"
   ]
  },
  {
   "cell_type": "markdown",
   "metadata": {},
   "source": [
    "### Entrer et afficher des valeurs\n",
    "Pour écrire des programmes interactifs, il vous appartient d'utiliser la fonction **`input`** qui permet de saisir une valeur au clavier. La syntaxe de cette fonction est :\n",
    "**input(\"un message descriptif de la valeur à saisir\")**\n",
    "Même si l'usage du message est optionel, les programmateurs professionnels  le recommendent fortement. Exemple :"
   ]
  },
  {
   "cell_type": "code",
   "execution_count": 17,
   "metadata": {
    "collapsed": false
   },
   "outputs": [
    {
     "name": "stdout",
     "output_type": "stream",
     "text": [
      "entrer un nombre entier --> 3\n",
      " x =  3\n"
     ]
    }
   ],
   "source": [
    "x = input(\"entrer un nombre entier --> \")\n",
    "print(\" x = \", x)"
   ]
  },
  {
   "cell_type": "markdown",
   "metadata": {},
   "source": [
    "Nous avons compris que le programme attend un entier. Voyons le type de la valeur saisie :"
   ]
  },
  {
   "cell_type": "code",
   "execution_count": 103,
   "metadata": {
    "collapsed": false
   },
   "outputs": [
    {
     "data": {
      "text/plain": [
       "str"
      ]
     },
     "execution_count": 103,
     "metadata": {},
     "output_type": "execute_result"
    }
   ],
   "source": [
    "type(x)"
   ]
  },
  {
   "cell_type": "markdown",
   "metadata": {},
   "source": [
    "La saisie est de type **chaîne de caractères !!**\n",
    "En python 3, la saisie au clavier est toujours une chaîne de caractères, il appartient au programmateur de convertir la saisie au type souhaité. Exemple :"
   ]
  },
  {
   "cell_type": "code",
   "execution_count": 104,
   "metadata": {
    "collapsed": false
   },
   "outputs": [
    {
     "name": "stdout",
     "output_type": "stream",
     "text": [
      "entrer un nombre entier--> 7\n"
     ]
    },
    {
     "data": {
      "text/plain": [
       "int"
      ]
     },
     "execution_count": 104,
     "metadata": {},
     "output_type": "execute_result"
    }
   ],
   "source": [
    "x = input(\"entrer un nombre entier--> \")\n",
    "x1 = int(x)\n",
    "type(x1)"
   ]
  },
  {
   "cell_type": "markdown",
   "metadata": {},
   "source": [
    "On pourra écrire aussi comme suite :"
   ]
  },
  {
   "cell_type": "code",
   "execution_count": 18,
   "metadata": {
    "collapsed": false
   },
   "outputs": [
    {
     "name": "stdout",
     "output_type": "stream",
     "text": [
      "entrer un nombre entier --> 5\n",
      "entrer un nombre réel --> 8\n"
     ]
    },
    {
     "data": {
      "text/plain": [
       "(int, float)"
      ]
     },
     "execution_count": 18,
     "metadata": {},
     "output_type": "execute_result"
    }
   ],
   "source": [
    "x = int(input(\"entrer un nombre entier --> \"))\n",
    "y = float(input(\"entrer un nombre réel --> \"))\n",
    "type(x),type(y)"
   ]
  },
  {
   "cell_type": "markdown",
   "metadata": {},
   "source": [
    "Maintenant, voyons comment afficher des résultats accompagnés de textes descriptifs. La fonction que vous utilisez est **`print`** et voici la syntxe :\n",
    "**`print(\"un message descriptif\",Valeur)`**\n",
    "Voyons des exemples :"
   ]
  },
  {
   "cell_type": "code",
   "execution_count": 106,
   "metadata": {
    "collapsed": false
   },
   "outputs": [
    {
     "name": "stdout",
     "output_type": "stream",
     "text": [
      "le nombre entier saisi est :  6\n",
      "le nombre réel saisi est :  6.5\n"
     ]
    }
   ],
   "source": [
    "print(\"le nombre entier saisi est : \",x)\n",
    "print(\"le nombre réel saisi est : \",y)"
   ]
  },
  {
   "cell_type": "markdown",
   "metadata": {},
   "source": [
    "## Operateurs : arithmétiques, booléens et comparisons\n",
    "\n",
    "\n",
    "** Operateurs Arithmetiques :**\n",
    "`+`, `-`, `*`, `/`, (division entier) `//` , (puissance) `**` et (modulo)`%`\n"
   ]
  },
  {
   "cell_type": "code",
   "execution_count": 107,
   "metadata": {
    "collapsed": false
   },
   "outputs": [
    {
     "data": {
      "text/plain": [
       "(3, -1, 2, 0.5)"
      ]
     },
     "execution_count": 107,
     "metadata": {},
     "output_type": "execute_result"
    }
   ],
   "source": [
    "1 + 2, 1 - 2, 1 * 2, 1 / 2"
   ]
  },
  {
   "cell_type": "code",
   "execution_count": 108,
   "metadata": {
    "collapsed": false
   },
   "outputs": [
    {
     "data": {
      "text/plain": [
       "(3.0, -1.0, 2.0, 0.5)"
      ]
     },
     "execution_count": 108,
     "metadata": {},
     "output_type": "execute_result"
    }
   ],
   "source": [
    "1.0 + 2.0, 1.0 - 2.0, 1.0 * 2.0, 1.0 / 2.0"
   ]
  },
  {
   "cell_type": "code",
   "execution_count": 20,
   "metadata": {
    "collapsed": false
   },
   "outputs": [
    {
     "data": {
      "text/plain": [
       "(3.5, 3, 1)"
      ]
     },
     "execution_count": 20,
     "metadata": {},
     "output_type": "execute_result"
    }
   ],
   "source": [
    "# division, partie entière de la division et le modulo\n",
    "7 / 2 , 7 // 2 , 7 % 2"
   ]
  },
  {
   "cell_type": "code",
   "execution_count": 110,
   "metadata": {
    "collapsed": false
   },
   "outputs": [
    {
     "data": {
      "text/plain": [
       "59049"
      ]
     },
     "execution_count": 110,
     "metadata": {},
     "output_type": "execute_result"
    }
   ],
   "source": [
    "# Note!  l'operateur de puissance en python n'est pas ^, mais **\n",
    "3 ** 10"
   ]
  },
  {
   "cell_type": "markdown",
   "metadata": {},
   "source": [
    "** Operateurs de comparison :**\n",
    "   `>`, `<`, `>=` (plus grand ou égal), `<=` (plus petit ou égal), `==` égalité, `is` identique."
   ]
  },
  {
   "cell_type": "code",
   "execution_count": null,
   "metadata": {
    "collapsed": false
   },
   "outputs": [],
   "source": [
    "2 > 1, 2 < 1"
   ]
  },
  {
   "cell_type": "code",
   "execution_count": null,
   "metadata": {
    "collapsed": false
   },
   "outputs": [],
   "source": [
    "2 > 2, 2 < 2"
   ]
  },
  {
   "cell_type": "code",
   "execution_count": null,
   "metadata": {
    "collapsed": false
   },
   "outputs": [],
   "source": [
    "2 >= 2, 2 <= 2"
   ]
  },
  {
   "cell_type": "code",
   "execution_count": 21,
   "metadata": {
    "collapsed": false
   },
   "outputs": [
    {
     "data": {
      "text/plain": [
       "(True, False)"
      ]
     },
     "execution_count": 21,
     "metadata": {},
     "output_type": "execute_result"
    }
   ],
   "source": [
    "# égalité\n",
    "[1,2] == [1,2], 7 != 7"
   ]
  },
  {
   "cell_type": "code",
   "execution_count": 22,
   "metadata": {
    "collapsed": false
   },
   "outputs": [
    {
     "data": {
      "text/plain": [
       "True"
      ]
     },
     "execution_count": 22,
     "metadata": {},
     "output_type": "execute_result"
    }
   ],
   "source": [
    "# objets identiques?\n",
    "l1 = l2 = [1,2]\n",
    "\n",
    "l1 is l2"
   ]
  },
  {
   "cell_type": "markdown",
   "metadata": {},
   "source": [
    "** operateurs booléens :**\n",
    "       `and`, `not`, `or`"
   ]
  },
  {
   "cell_type": "code",
   "execution_count": null,
   "metadata": {
    "collapsed": false
   },
   "outputs": [],
   "source": [
    "True and False"
   ]
  },
  {
   "cell_type": "code",
   "execution_count": null,
   "metadata": {
    "collapsed": false
   },
   "outputs": [],
   "source": [
    "not False"
   ]
  },
  {
   "cell_type": "code",
   "execution_count": null,
   "metadata": {
    "collapsed": false
   },
   "outputs": [],
   "source": [
    "True or False"
   ]
  }
 ],
 "metadata": {
  "anaconda-cloud": {},
  "kernelspec": {
   "display_name": "Python [default]",
   "language": "python",
   "name": "python3"
  },
  "language_info": {
   "codemirror_mode": {
    "name": "ipython",
    "version": 3.0
   },
   "file_extension": ".py",
   "mimetype": "text/x-python",
   "name": "python",
   "nbconvert_exporter": "python",
   "pygments_lexer": "ipython3",
   "version": "3.5.2"
  }
 },
 "nbformat": 4,
 "nbformat_minor": 0
}