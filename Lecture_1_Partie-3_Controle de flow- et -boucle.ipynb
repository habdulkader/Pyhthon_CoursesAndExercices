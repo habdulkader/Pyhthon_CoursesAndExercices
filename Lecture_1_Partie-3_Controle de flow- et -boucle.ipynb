{
 "cells": [
  {
   "cell_type": "markdown",
   "metadata": {},
   "source": [
    "# Introduction à la programmation avec Python \n",
    "\n",
    "Dr. H. Abdulkader (habdulkader68@gmail.com) "
   ]
  },
  {
   "cell_type": "markdown",
   "metadata": {},
   "source": [
    "# Contrôle de Flux"
   ]
  },
  {
   "cell_type": "markdown",
   "metadata": {},
   "source": [
    "## Instructions de sélection : if, elif, else\n",
    "\n",
    "Le contrôle de l'execution d'un programme se fait par les mots-clé : **`if`** (ou si), **`elif`** ( ou sinon si), **`else`** (ou sinon):"
   ]
  },
  {
   "cell_type": "code",
   "execution_count": 28,
   "metadata": {
    "collapsed": false
   },
   "outputs": [
    {
     "name": "stdout",
     "output_type": "stream",
     "text": [
      "expression1 et expression2 sont Fausses\n"
     ]
    }
   ],
   "source": [
    "#modifier la valeur dans expression1 et 2 dans la suite\n",
    "expression1 = False\n",
    "expression2 = False\n",
    "\n",
    "if expression1:\n",
    "    print(\"statement1 is True\")\n",
    "    \n",
    "elif expression2:\n",
    "    print(\"statement2 is True\")\n",
    "    \n",
    "else:\n",
    "    print(\"expression1 et expression2 sont Fausses\")"
   ]
  },
  {
   "cell_type": "markdown",
   "metadata": {},
   "source": [
    "Il faut noter que les parties **`elif`** et **`else`** sont optionnelles, leur utilisation dépend de l'algorithme ou du programme.\n",
    "\n",
    "## Contrôle imbriqué \n",
    "Il est tout à fait possible d'imbriquer les instructions de contrôle en fonction de besoins. Une chose importante est **l'indentation** qu'il faut prendre très au sérieux.\n",
    "\n",
    "**Example:**"
   ]
  },
  {
   "cell_type": "code",
   "execution_count": 138,
   "metadata": {
    "collapsed": false
   },
   "outputs": [
    {
     "name": "stdout",
     "output_type": "stream",
     "text": [
      "les deux expressions expr1 et expr2 sont True\n"
     ]
    }
   ],
   "source": [
    "expr1 = expr2 = True\n",
    "\n",
    "if expr1:\n",
    "    if expr2:\n",
    "        print(\"les deux expressions expr1 et expr2 sont True\")\n",
    "# remarquer qu'on peut ne pas utiliser 'elif' et 'else'"
   ]
  },
  {
   "cell_type": "markdown",
   "metadata": {},
   "source": [
    "## Les expressions booléennes\n",
    "il est courant en programmation de combiner les expressions booléennes. Voici un exemple simple :"
   ]
  },
  {
   "cell_type": "code",
   "execution_count": 2,
   "metadata": {
    "collapsed": false
   },
   "outputs": [
    {
     "name": "stdout",
     "output_type": "stream",
     "text": [
      "a est le +petit\n"
     ]
    }
   ],
   "source": [
    "a , b , c = 1,2,3\n",
    "if (a>b) and (a>c):#expr = (expr1) and (expr2)\n",
    "    print('a est le +grad')\n",
    "elif (a<b):\n",
    "    if (a<c) or (b<c): # expr = (expr1)or (expr2)\n",
    "        print('a est le +petit')\n",
    "    elif not (b > c): # négation d'une expression booléenne\n",
    "          print('c est le + grand')\n",
    "    else :\n",
    "          print('b est le +grand')\n",
    "          "
   ]
  },
  {
   "cell_type": "markdown",
   "metadata": {},
   "source": [
    "## Le test d'appartenance\n",
    "Il est d'une importance richissime de tester l'appartenance d'une grandeur à un objet itérable (comme une liste, une chaîne de caractàre, ...)\n",
    "Voici des exemples simples :"
   ]
  },
  {
   "cell_type": "code",
   "execution_count": 12,
   "metadata": {
    "collapsed": false
   },
   "outputs": [
    {
     "name": "stdout",
     "output_type": "stream",
     "text": [
      "[1, 3, 5, 7] contient 3\n",
      " 'Hello world' ne contient pas p \n"
     ]
    }
   ],
   "source": [
    "L = [1, 3, 5, 7]\n",
    "S = 'Hello world'\n",
    "a , b = 3, ('p')\n",
    "if a in L:\n",
    "    print('{} contient {}'.format(L, a))\n",
    "if b not in S:\n",
    "    print(\" '{}' ne contient pas {} \".format(S,b))"
   ]
  },
  {
   "cell_type": "markdown",
   "metadata": {},
   "source": [
    "# Les boucles\n",
    "\n",
    "En python, il y a deux types de boucles; boucle **`for`** qui est conçue pour explorer les termes d'un objet itérable comme la liste, le dictionnaire, ... et la boucle **`while`** utilisée avec une expression Boléenne (avec une ou plusieurs conditions)\n",
    "\n",
    "## La boucle `for` :"
   ]
  },
  {
   "cell_type": "code",
   "execution_count": 139,
   "metadata": {
    "collapsed": false
   },
   "outputs": [
    {
     "name": "stdout",
     "output_type": "stream",
     "text": [
      "1\n",
      "3\n",
      "5\n"
     ]
    }
   ],
   "source": [
    "for x in [1,3,5]:\n",
    "    print(x)"
   ]
  },
  {
   "cell_type": "markdown",
   "metadata": {},
   "source": [
    "La boucle explore les termes de la liste à partir du terme à gauche. Il est fréquent d'utiliser l'a fonction **`range`** pour générer un objet itérable. **Exemples :**"
   ]
  },
  {
   "cell_type": "code",
   "execution_count": 140,
   "metadata": {
    "collapsed": false
   },
   "outputs": [
    {
     "name": "stdout",
     "output_type": "stream",
     "text": [
      "0\n",
      "1\n",
      "2\n",
      "3\n"
     ]
    }
   ],
   "source": [
    "for x in range(4): # range par défaut commence à 0 et génère \n",
    "    #exactement 4 termes: 0,1,2,3\n",
    "    print(x)"
   ]
  },
  {
   "cell_type": "markdown",
   "metadata": {},
   "source": [
    "Note: `range(4)` ne contient pas le terme 4 !"
   ]
  },
  {
   "cell_type": "code",
   "execution_count": null,
   "metadata": {
    "collapsed": false
   },
   "outputs": [],
   "source": [
    "for x in range(-3,3):# range génère les termes: -3,-2, ...,2\n",
    "    print(x)"
   ]
  },
  {
   "cell_type": "code",
   "execution_count": 141,
   "metadata": {
    "collapsed": false
   },
   "outputs": [
    {
     "name": "stdout",
     "output_type": "stream",
     "text": [
      "-4\n",
      "-2\n",
      "0\n",
      "2\n"
     ]
    }
   ],
   "source": [
    "for x in range(-4,4,2):# range génère les termes: -4,-2,0,2. \n",
    "    #le paramètre 2 est le pas.\n",
    "    print(x)"
   ]
  },
  {
   "cell_type": "code",
   "execution_count": 29,
   "metadata": {
    "collapsed": false
   },
   "outputs": [
    {
     "name": "stdout",
     "output_type": "stream",
     "text": [
      "j'apprends\n",
      "la programmation\n",
      "avec\n",
      "python\n"
     ]
    }
   ],
   "source": [
    "subject = [\"j'apprends\", \"la programmation\", \"avec\", \"python\"]\n",
    "for word in subject:\n",
    "    print(word)"
   ]
  },
  {
   "cell_type": "code",
   "execution_count": null,
   "metadata": {
    "collapsed": false
   },
   "outputs": [],
   "source": [
    "for k in \"hello\":\n",
    "    print(k)"
   ]
  },
  {
   "cell_type": "markdown",
   "metadata": {},
   "source": [
    "Il est util dans certaines situations d'itérer sur les termes d'une liste et avoir l'accès aux indices simultanément. Pour celà on utilisera la fonction `enumerate` :"
   ]
  },
  {
   "cell_type": "code",
   "execution_count": 30,
   "metadata": {
    "collapsed": false
   },
   "outputs": [
    {
     "name": "stdout",
     "output_type": "stream",
     "text": [
      "0 j'apprends\n",
      "1 la programmation\n",
      "2 avec\n",
      "3 python\n"
     ]
    }
   ],
   "source": [
    "for idx, x in enumerate(subject):\n",
    "    print(idx, x)"
   ]
  },
  {
   "cell_type": "markdown",
   "metadata": {},
   "source": [
    "## La boucle `while` :\n",
    "La boucle `while` est utlisée pour itérer tant que une expression Booléenne est vérifier :"
   ]
  },
  {
   "cell_type": "code",
   "execution_count": null,
   "metadata": {
    "collapsed": false
   },
   "outputs": [],
   "source": [
    "i = 0\n",
    "\n",
    "while i < 5:\n",
    "    print(i)\n",
    "    \n",
    "    i = i + 1\n",
    "    \n",
    "print(\"done\")"
   ]
  },
  {
   "cell_type": "markdown",
   "metadata": {},
   "source": [
    "## continue et break\n",
    "ces deux commande permettent de controler l'execution à l'intérieur d'une boucle. La commande continue permet de sauter toutes les lignes derrière elle pour commencer une nouvelle itération. Quant à la commande break elle permet de sortir prématurellement de la boucle. Les deux commande sont executées sous conditions. Voici un exemple :"
   ]
  },
  {
   "cell_type": "code",
   "execution_count": 15,
   "metadata": {
    "collapsed": false
   },
   "outputs": [
    {
     "name": "stdout",
     "output_type": "stream",
     "text": [
      "[3, 7, 9, 11, 13, 17, 19, 21, 23]\n"
     ]
    }
   ],
   "source": [
    "L = []\n",
    "for k in range(3,50,2):\n",
    "    if k%5 ==0:\n",
    "        continue\n",
    "    if k >= 25:\n",
    "        break\n",
    "    L.append(k)\n",
    "print(L)"
   ]
  }
 ],
 "metadata": {
  "anaconda-cloud": {},
  "kernelspec": {
   "display_name": "Python [default]",
   "language": "python",
   "name": "python3"
  },
  "language_info": {
   "codemirror_mode": {
    "name": "ipython",
    "version": 3
   },
   "file_extension": ".py",
   "mimetype": "text/x-python",
   "name": "python",
   "nbconvert_exporter": "python",
   "pygments_lexer": "ipython3",
   "version": "3.5.2"
  }
 },
 "nbformat": 4,
 "nbformat_minor": 0
}
