{
 "cells": [
  {
   "cell_type": "markdown",
   "metadata": {
    "collapsed": true
   },
   "source": [
    "# Dictionnaires et n-tuples\n",
    "Dr. H. Abdulkader (habdulkader68@gmail.com) \n"
   ]
  },
  {
   "cell_type": "markdown",
   "metadata": {},
   "source": [
    "## Nouveaux types\n",
    "on a vu en cours précédent qques types de données tels que entier, réel, complexe, liste et chaîne de caractères. Nous apprenons à présent les types : dictionnaire **`dict`**, tuples **`tuple`** et ensemble **`set`**.\n",
    "\n",
    "### Les dictionnaires\n",
    "Le dictionnaire permet de stocker un mot clef et ce qui va avec (une valeur numérique, chaïne de caractère, liste, ...). Vous pouvez créer un dictionnaire en utilisant les collades **{}**. Exemple :"
   ]
  },
  {
   "cell_type": "code",
   "execution_count": 1,
   "metadata": {
    "collapsed": false
   },
   "outputs": [
    {
     "name": "stdout",
     "output_type": "stream",
     "text": [
      "23\n",
      "22\n"
     ]
    }
   ],
   "source": [
    "age = {\"Sami\" : 20, \"Jean\" : 21, \"Eric\" : 20, \"Sylvie\" : 23, \"Clara\" : 24}\n",
    "print(age[\"Sylvie\"])\n",
    "age['Sami'] = 22  # modifier la valeur de Sami\n",
    "print(age['Sami'])"
   ]
  },
  {
   "cell_type": "markdown",
   "metadata": {},
   "source": [
    "Chaque paire de donnée est appelé un article comme **Sami : 23**. Sami est la clef **``key``** et **``23``** est sa valeur **``value``**.\n",
    "Vous avez certainement constaté que la manipulation des deictionnaires se ressemble à la list, on utilise les crochets **`[]`**.\n",
    "Un dictionnaire n'a pas d'ordre. Ainsi vouloir le 3e élément n'a pas de sens tout comme le trier."
   ]
  },
  {
   "cell_type": "code",
   "execution_count": 2,
   "metadata": {
    "collapsed": false
   },
   "outputs": [
    {
     "name": "stdout",
     "output_type": "stream",
     "text": [
      "{'Eric': 20, 'Sylvie': 23, 'Sami': 22, 'Jean': 21, 'Clara': 24}\n",
      "5\n"
     ]
    }
   ],
   "source": [
    "print(age)\n",
    "print(len(age)) # par contre il a bien une longeur"
   ]
  },
  {
   "cell_type": "markdown",
   "metadata": {},
   "source": [
    "On ajoute ou retire un élément ainsi :"
   ]
  },
  {
   "cell_type": "code",
   "execution_count": 3,
   "metadata": {
    "collapsed": false
   },
   "outputs": [
    {
     "name": "stdout",
     "output_type": "stream",
     "text": [
      "{'Sylvie': 23, 'Eric': 20, 'Jean': 21, 'Sami': 22, 'Olivier': 26, 'Clara': 24}\n",
      "{'Sylvie': 23, 'Eric': 20, 'Jean': 21, 'Olivier': 26, 'Clara': 24}\n"
     ]
    }
   ],
   "source": [
    "age['Olivier'] = 26  # attention, si Olivier existe, alors cela change sa valeur\n",
    "print(age)\n",
    "del age['Sami']\n",
    "print(age)"
   ]
  },
  {
   "cell_type": "markdown",
   "metadata": {},
   "source": [
    "Un dictionnaire est un objet itérable. Vous pouvez l'utiliser dans une boucle **`for`**. Exemple :"
   ]
  },
  {
   "cell_type": "code",
   "execution_count": 4,
   "metadata": {
    "collapsed": false
   },
   "outputs": [
    {
     "name": "stdout",
     "output_type": "stream",
     "text": [
      "Sylvie 23\n",
      "Eric 20\n",
      "Jean 21\n",
      "Olivier 26\n",
      "Clara 24\n"
     ]
    }
   ],
   "source": [
    "for k in age :\n",
    "    print(k , age[k])# ou simplement print(k)"
   ]
  },
  {
   "cell_type": "markdown",
   "metadata": {},
   "source": [
    "Vous pouvez extraire les clefs, les valeurs et même les articles en utilisant les syntaxes :"
   ]
  },
  {
   "cell_type": "code",
   "execution_count": 5,
   "metadata": {
    "collapsed": false
   },
   "outputs": [
    {
     "name": "stdout",
     "output_type": "stream",
     "text": [
      "dict_keys(['Sylvie', 'Eric', 'Jean', 'Olivier', 'Clara'])\n",
      "dict_values([23, 20, 21, 26, 24])\n",
      "dict_items([('Sylvie', 23), ('Eric', 20), ('Jean', 21), ('Olivier', 26), ('Clara', 24)])\n"
     ]
    }
   ],
   "source": [
    "print(age.keys())\n",
    "print(age.values())\n",
    "print(age.items())"
   ]
  },
  {
   "cell_type": "markdown",
   "metadata": {},
   "source": [
    "Vous pouvez convertir les itérables clés, valeurs et articles en listes; Ensuite vous pouvez extraire une clé, valeur ou un article :"
   ]
  },
  {
   "cell_type": "code",
   "execution_count": 6,
   "metadata": {
    "collapsed": false
   },
   "outputs": [
    {
     "name": "stdout",
     "output_type": "stream",
     "text": [
      "Jean\n",
      "21\n",
      "('Jean', 21)\n"
     ]
    }
   ],
   "source": [
    "print(list(age.keys())[2])\n",
    "print(list(age.values())[2])\n",
    "print(list(age.items())[2])"
   ]
  },
  {
   "cell_type": "markdown",
   "metadata": {},
   "source": [
    "### Copie et copie profonde :\n",
    "Lorsque vous copiez un dictionnaire (une liste aussi), vous créer un objet unique qui possède 2 noms de varaible (**deux alias**)."
   ]
  },
  {
   "cell_type": "code",
   "execution_count": 7,
   "metadata": {
    "collapsed": false
   },
   "outputs": [
    {
     "name": "stdout",
     "output_type": "stream",
     "text": [
      "{'Sylvie': 23, 'Eric': 20, 'Jean': 21, 'Olivier': 26, 'Clara': 24}\n"
     ]
    }
   ],
   "source": [
    "AGE = age\n",
    "print(AGE)"
   ]
  },
  {
   "cell_type": "markdown",
   "metadata": {},
   "source": [
    "Si vous modifiez une des deux variables vous constatez facilement que l'autre est modifiée de la même façon. Exemple :"
   ]
  },
  {
   "cell_type": "code",
   "execution_count": 8,
   "metadata": {
    "collapsed": false
   },
   "outputs": [
    {
     "name": "stdout",
     "output_type": "stream",
     "text": [
      "{'Eric': 20, 'Jean': 21, 'Olivier': 26, 'Clara': 24}\n"
     ]
    }
   ],
   "source": [
    "del age[\"Sylvie\"]\n",
    "print(AGE)"
   ]
  },
  {
   "cell_type": "markdown",
   "metadata": {},
   "source": [
    "Pour créer une nouvelle variable indépendante il faut utiliser la méthode de copie profonde. Exemple : "
   ]
  },
  {
   "cell_type": "code",
   "execution_count": 9,
   "metadata": {
    "collapsed": false
   },
   "outputs": [
    {
     "name": "stdout",
     "output_type": "stream",
     "text": [
      "{'Eric': 20, 'Jean': 21, 'Olivier': 26}\n",
      "{'Eric': 20, 'Jean': 21, 'Clara': 24, 'Olivier': 26}\n"
     ]
    }
   ],
   "source": [
    "AGE = age.copy()\n",
    "# Démonstration\n",
    "del age[\"Clara\"]\n",
    "print(age)\n",
    "print(AGE)"
   ]
  },
  {
   "cell_type": "markdown",
   "metadata": {},
   "source": [
    "Finalement, il faudra mentionner ici que pour copier une liste imbriquée, liste de listes, ou un dictionnaire de listes (ou de tuples), on utilisera la methode de copie profonde comme **DIC.deepcopy(dic)**"
   ]
  },
  {
   "cell_type": "markdown",
   "metadata": {},
   "source": [
    "### Concaténation et mise à jour\n",
    "Contrairement aux liste et str, il n'est pas possible de concaténer des dictionnaires.\n",
    "**Age + AGE** renvoie un message d'erreur. Mais, il est possible de mettre à jour un dictionnaire par l'instruction **``update``**, sauf que cette méthode modifiera les articles existants et créera les nouveaux articles. "
   ]
  },
  {
   "cell_type": "code",
   "execution_count": 10,
   "metadata": {
    "collapsed": false
   },
   "outputs": [
    {
     "name": "stdout",
     "output_type": "stream",
     "text": [
      "{'Eric': 20, 'Jean': 24, 'Céline': 23, 'Olivier': 26, 'Louis': 21}\n"
     ]
    }
   ],
   "source": [
    "newItems = {'Céline':23,'Louis':21,'Jean':24}\n",
    "age.update(newItems)\n",
    "print(age)"
   ]
  },
  {
   "cell_type": "code",
   "execution_count": 11,
   "metadata": {
    "collapsed": false
   },
   "outputs": [
    {
     "name": "stdout",
     "output_type": "stream",
     "text": [
      "['__class__', '__contains__', '__delattr__', '__delitem__', '__dir__', '__doc__', '__eq__', '__format__', '__ge__', '__getattribute__', '__getitem__', '__gt__', '__hash__', '__init__', '__iter__', '__le__', '__len__', '__lt__', '__ne__', '__new__', '__reduce__', '__reduce_ex__', '__repr__', '__setattr__', '__setitem__', '__sizeof__', '__str__', '__subclasshook__', 'clear', 'copy', 'fromkeys', 'get', 'items', 'keys', 'pop', 'popitem', 'setdefault', 'update', 'values']\n"
     ]
    }
   ],
   "source": [
    "# pour découvrir les méthodes associées au type dictionnaire vous utilsez :\n",
    "print(dir(dict))"
   ]
  },
  {
   "cell_type": "markdown",
   "metadata": {},
   "source": [
    "### Les n-uplets (tuples en anglais)\n",
    "Les n-uplets sont des listes qu'on ne peut plus changer. Il s'agit donc de constantes, un concept utile car il offre la garantie que la variable a toujours la valeur initiale."
   ]
  },
  {
   "cell_type": "code",
   "execution_count": 12,
   "metadata": {
    "collapsed": false
   },
   "outputs": [
    {
     "name": "stdout",
     "output_type": "stream",
     "text": [
      "('lundi', 'mardi', 'mercredi', 'jeudi', 'vendredi', 'samedi', 'dimanche')\n"
     ]
    }
   ],
   "source": [
    "# on utilise les parenthèses pour définir les  \"tuples\"\n",
    "semaine = ('lundi','mardi','mercredi','jeudi','vendredi','samedi','dimanche')\n",
    "print(semaine)\n",
    "# semaine[0] = 'monday' # on ne peut modifier un n-uplet"
   ]
  },
  {
   "cell_type": "code",
   "execution_count": 13,
   "metadata": {
    "collapsed": false
   },
   "outputs": [
    {
     "name": "stdout",
     "output_type": "stream",
     "text": [
      "['lundi', 'mardi', 'mercredi', 'jeudi', 'vendredi', 'samedi', 'dimanche']\n",
      "['monday', 'mardi', 'mercredi', 'jeudi', 'vendredi', 'samedi', 'dimanche']\n"
     ]
    }
   ],
   "source": [
    "# on peut convertir le type d'un objet en un autre ainsi\n",
    "week = list(semaine)  \n",
    "print(week)\n",
    "week[0]= 'monday' # on peut à présent modifier le contenu de la liste week\n",
    "print(week)"
   ]
  },
  {
   "cell_type": "markdown",
   "metadata": {},
   "source": [
    "Comme le type n-uple est itérable, on peut l'utiliser dans la boucle **for** :"
   ]
  },
  {
   "cell_type": "code",
   "execution_count": 14,
   "metadata": {
    "collapsed": false
   },
   "outputs": [
    {
     "name": "stdout",
     "output_type": "stream",
     "text": [
      "lundi\n",
      "mardi\n",
      "mercredi\n",
      "jeudi\n",
      "vendredi\n",
      "samedi\n",
      "dimanche\n"
     ]
    }
   ],
   "source": [
    "for k in semaine :\n",
    "    print(k)"
   ]
  },
  {
   "cell_type": "markdown",
   "metadata": {},
   "source": [
    "La concaténation de n-uples est possible en utilisant l'opérateur **+** :"
   ]
  },
  {
   "cell_type": "code",
   "execution_count": 15,
   "metadata": {
    "collapsed": false
   },
   "outputs": [
    {
     "name": "stdout",
     "output_type": "stream",
     "text": [
      "('lundi', 'mardi', 'mercredi', 'jeudi', 'vendredi')\n"
     ]
    }
   ],
   "source": [
    "jour_ouvrable = (\"lundi\",\"mardi\",\"mercredi\")+(\"jeudi\",\"vendredi\")\n",
    "print(jour_ouvrable)"
   ]
  },
  {
   "cell_type": "code",
   "execution_count": 16,
   "metadata": {
    "collapsed": false
   },
   "outputs": [
    {
     "name": "stdout",
     "output_type": "stream",
     "text": [
      "['__add__', '__class__', '__contains__', '__delattr__', '__dir__', '__doc__', '__eq__', '__format__', '__ge__', '__getattribute__', '__getitem__', '__getnewargs__', '__gt__', '__hash__', '__init__', '__iter__', '__le__', '__len__', '__lt__', '__mul__', '__ne__', '__new__', '__reduce__', '__reduce_ex__', '__repr__', '__rmul__', '__setattr__', '__sizeof__', '__str__', '__subclasshook__', 'count', 'index']\n"
     ]
    }
   ],
   "source": [
    "# pour consulter les méthodes associé au type \"tuples\"\n",
    "print(dir(semaine))"
   ]
  },
  {
   "cell_type": "markdown",
   "metadata": {},
   "source": [
    "### Les méthodes **count** et **index**:\n",
    "Ces méthodes **count** et **index** existent pour tous les types d'objets itérables. Ils permettent respectivement de compter le nombre d'occurrence et de déterminer l'indice de la première occurrence."
   ]
  },
  {
   "cell_type": "code",
   "execution_count": 17,
   "metadata": {
    "collapsed": false
   },
   "outputs": [
    {
     "data": {
      "text/plain": [
       "(2, 0)"
      ]
     },
     "execution_count": 17,
     "metadata": {},
     "output_type": "execute_result"
    }
   ],
   "source": [
    "my_tuple =(1, 4, 7, 2, 4, 1, 99, 7)\n",
    "my_tuple.count(1),my_tuple.index(1)"
   ]
  }
 ],
 "metadata": {
  "anaconda-cloud": {},
  "kernelspec": {
   "display_name": "Python [default]",
   "language": "python",
   "name": "python3"
  },
  "language_info": {
   "codemirror_mode": {
    "name": "ipython",
    "version": 3
   },
   "file_extension": ".py",
   "mimetype": "text/x-python",
   "name": "python",
   "nbconvert_exporter": "python",
   "pygments_lexer": "ipython3",
   "version": "3.5.2"
  }
 },
 "nbformat": 4,
 "nbformat_minor": 0
}
