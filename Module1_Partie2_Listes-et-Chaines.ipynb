{
 "cells": [
  {
   "cell_type": "markdown",
   "metadata": {},
   "source": [
    "# Introduction à la programmation avec Python \n",
    "## *Listes et chaînes de caractère\n",
    "\n",
    "Dr. H. Abdulkader (habdulkader68@gmail.com) "
   ]
  },
  {
   "cell_type": "markdown",
   "metadata": {},
   "source": [
    "## Objets itérables\n",
    "Les objets itérables ont une importance particulière en programmation. Ils sont utilisés pour stocker des données numériques, ou des caratères.\n",
    "En python explorer le contenu d'un objet itérable est facilité grâce à la boucle **`for` plus `in`**.\n",
    "Parmi les objets itérables nous étudions, à présent, **les chaîne de caractères et les listes**.\n",
    "Dans un cours prochain nous étudierons **les dictionnaires et les tuples**."
   ]
  },
  {
   "cell_type": "markdown",
   "metadata": {},
   "source": [
    "## Chaînes de caractères\n",
    "\n",
    "\n",
    "Une chaîne de caractères est une variable utilisée pour stocker un message ou un texte. "
   ]
  },
  {
   "cell_type": "code",
   "execution_count": null,
   "metadata": {
    "collapsed": false
   },
   "outputs": [],
   "source": [
    "s = \"Hello world\"\n",
    "type(s)"
   ]
  },
  {
   "cell_type": "code",
   "execution_count": null,
   "metadata": {
    "collapsed": false
   },
   "outputs": [],
   "source": [
    "# longueur d'une chaîne : le nommbre des caractères\n",
    "len(s) # remarquer que l'espace compte pour un caractère"
   ]
  },
  {
   "cell_type": "code",
   "execution_count": null,
   "metadata": {
    "collapsed": false
   },
   "outputs": [],
   "source": [
    "# replacer une partie de la chaîne\n",
    "s1 = s.replace(\"world\", \"worlds\")\n",
    "print(s1)"
   ]
  },
  {
   "cell_type": "markdown",
   "metadata": {},
   "source": [
    "On peut créer une chaîne de caractère vide :"
   ]
  },
  {
   "cell_type": "code",
   "execution_count": null,
   "metadata": {
    "collapsed": false
   },
   "outputs": [],
   "source": [
    "s2 = ''\n",
    "print(s2,len(s2))"
   ]
  },
  {
   "cell_type": "markdown",
   "metadata": {
    "collapsed": true
   },
   "source": [
    "Les indices des caractères dans la chaîne doivent être exprimées dans **`[ ]`** :"
   ]
  },
  {
   "cell_type": "code",
   "execution_count": null,
   "metadata": {
    "collapsed": false
   },
   "outputs": [],
   "source": [
    "s[0]"
   ]
  },
  {
   "cell_type": "markdown",
   "metadata": {},
   "source": [
    "Nous pouvons sélectionner une partie de la chaîne en utilisant les indices `[start:stop]` :"
   ]
  },
  {
   "cell_type": "code",
   "execution_count": null,
   "metadata": {
    "collapsed": false
   },
   "outputs": [],
   "source": [
    "s[0:5] , s[:5] , s[6:] , s[:]"
   ]
  },
  {
   "cell_type": "markdown",
   "metadata": {},
   "source": [
    "Nous pouvons aussi réaliser un échantillonnage de la chaîne par un saut (un pas) donné. La syntaxe est **`[start:end:step]`** :"
   ]
  },
  {
   "cell_type": "code",
   "execution_count": null,
   "metadata": {
    "collapsed": false
   },
   "outputs": [],
   "source": [
    "print(s[::1])\n",
    "s[::2]"
   ]
  },
  {
   "cell_type": "markdown",
   "metadata": {},
   "source": [
    "**La concaténation** de chaînes de caractère est simple, elle se fait par l'opérateur **`+`** :"
   ]
  },
  {
   "cell_type": "code",
   "execution_count": null,
   "metadata": {
    "collapsed": false
   },
   "outputs": [],
   "source": [
    "s1 = \"hello\"\n",
    "s2 = \"everybody\"\n",
    "s = s1+s2\n",
    "print(s)"
   ]
  },
  {
   "cell_type": "markdown",
   "metadata": {},
   "source": [
    "#### Former des chaïnes de caractères : examples"
   ]
  },
  {
   "cell_type": "code",
   "execution_count": null,
   "metadata": {
    "collapsed": false
   },
   "outputs": [],
   "source": [
    "print(\"str1\", \"str2\", \"str3\")  \n",
    "# la fonction print concatene les chaînes séparées par des espaces"
   ]
  },
  {
   "cell_type": "code",
   "execution_count": null,
   "metadata": {
    "collapsed": false
   },
   "outputs": [],
   "source": [
    "print(\"str1\" + \"str2\" + \"str3\") # concatenation des chaînes"
   ]
  },
  {
   "cell_type": "code",
   "execution_count": null,
   "metadata": {
    "collapsed": false
   },
   "outputs": [],
   "source": [
    "print(\"valeur = %f\" % 1.0)       # le réel 1.0 susbtituera à la place de %f"
   ]
  },
  {
   "cell_type": "code",
   "execution_count": null,
   "metadata": {
    "collapsed": false
   },
   "outputs": [],
   "source": [
    "# créer une chaîne\n",
    "s2 = \"valeur1 = %.2f. valeur2 = %d\" % (3.1415, 1.5)\n",
    "\n",
    "print(s2)"
   ]
  },
  {
   "cell_type": "code",
   "execution_count": null,
   "metadata": {
    "collapsed": false
   },
   "outputs": [],
   "source": [
    "# Une méthode alternative pour former une chaîne \n",
    "s3 = 'valeur1 = {0}, valeur2 = {1}'.format(3.1415, 1.5)\n",
    "\n",
    "print(s3)"
   ]
  },
  {
   "cell_type": "markdown",
   "metadata": {},
   "source": [
    "Pour découvrir toutes les propriétés et fonctions applicables aux chaînes de caractères, on peut utiliser `dir` ou `help`"
   ]
  },
  {
   "cell_type": "code",
   "execution_count": null,
   "metadata": {
    "collapsed": false
   },
   "outputs": [],
   "source": [
    "print(dir(str))"
   ]
  },
  {
   "cell_type": "markdown",
   "metadata": {},
   "source": [
    "## Les listes\n",
    "\n",
    "Les listes sont des contenaires capables de stocker des données de types différents.\n",
    "\n",
    "La syntaxe d'une liste est **`[...]`**:"
   ]
  },
  {
   "cell_type": "code",
   "execution_count": null,
   "metadata": {
    "collapsed": false
   },
   "outputs": [],
   "source": [
    "lst = [1,2,3,4,0]\n",
    "\n",
    "print(lst, type(lst))"
   ]
  },
  {
   "cell_type": "markdown",
   "metadata": {},
   "source": [
    "Les listes sont manipulées de la même façon que les chaînes de caractères :"
   ]
  },
  {
   "cell_type": "code",
   "execution_count": null,
   "metadata": {
    "collapsed": false
   },
   "outputs": [],
   "source": [
    "lst[0],lst[1:3],lst[::2]"
   ]
  },
  {
   "cell_type": "markdown",
   "metadata": {},
   "source": [
    "Une liste en python peut contenir des listes, ou des chaînes de caractères. Voir les exemples ci-dessous :"
   ]
  },
  {
   "cell_type": "code",
   "execution_count": null,
   "metadata": {
    "collapsed": false
   },
   "outputs": [],
   "source": [
    "l = [1, '5', 't', 1.0, 1-1j]\n",
    "print(l)\n",
    "\n",
    "nested_list = [1, [2, [3, 4]]]\n",
    "print(nested_list)\n",
    "\n",
    "str_list = [\"hello\",\"every\",\"one\"]\n",
    "print(str_list)"
   ]
  },
  {
   "cell_type": "markdown",
   "metadata": {},
   "source": [
    "La fonction **`list`** permet de convertir des objets itérables en listes. Prenonos l'example de la fonction **`range`**. Cette fonction fort importante génère un objet itétable que l'on veut convertir en une liste :"
   ]
  },
  {
   "cell_type": "code",
   "execution_count": null,
   "metadata": {
    "collapsed": false
   },
   "outputs": [],
   "source": [
    "start = 10\n",
    "stop = 20\n",
    "step = 2\n",
    "\n",
    "print(range(start, stop, step))# range() produit un objet itérable"
   ]
  },
  {
   "cell_type": "code",
   "execution_count": null,
   "metadata": {
    "collapsed": false
   },
   "outputs": [],
   "source": [
    "lst1 = list(range(start, stop, step))\n",
    "lst2 = list(range(-4, 4))\n",
    "print(lst1)\n",
    "print(lst2)"
   ]
  },
  {
   "cell_type": "code",
   "execution_count": null,
   "metadata": {
    "collapsed": false
   },
   "outputs": [],
   "source": [
    "# convertir une chaîne de caractères en une liste :\n",
    "s = \"Hello world\"\n",
    "lst = list(s)\n",
    "\n",
    "lst"
   ]
  },
  {
   "cell_type": "code",
   "execution_count": null,
   "metadata": {
    "collapsed": false
   },
   "outputs": [],
   "source": [
    "# tri d'une liste\n",
    "lst.sort()\n",
    "\n",
    "print(lst)"
   ]
  },
  {
   "cell_type": "markdown",
   "metadata": {},
   "source": [
    "#### Création et manipulation de listes"
   ]
  },
  {
   "cell_type": "code",
   "execution_count": null,
   "metadata": {
    "collapsed": false
   },
   "outputs": [],
   "source": [
    "# créer une liste vide\n",
    "lst = []\n",
    "\n",
    "# ajouter des éléments par `append`\n",
    "lst.append(\"A\")\n",
    "lst.append(\"d\")\n",
    "lst.append(\"d\")\n",
    "\n",
    "print(lst)"
   ]
  },
  {
   "cell_type": "code",
   "execution_count": null,
   "metadata": {
    "collapsed": false
   },
   "outputs": [],
   "source": [
    "# modifier le contenu d'une liste\n",
    "lst[0] = \"c\"\n",
    "lst[2] = \"i\"\n",
    "\n",
    "print(lst)"
   ]
  },
  {
   "cell_type": "code",
   "execution_count": null,
   "metadata": {
    "collapsed": false
   },
   "outputs": [],
   "source": [
    "lst[1:3] = [\"d\", \"d\"]\n",
    "\n",
    "print(lst)"
   ]
  },
  {
   "cell_type": "raw",
   "metadata": {},
   "source": [
    "Insérer des éléments à des indices donées en utilisant `insert`"
   ]
  },
  {
   "cell_type": "code",
   "execution_count": null,
   "metadata": {
    "collapsed": false
   },
   "outputs": [],
   "source": [
    "l=['A','d','d']\n",
    "l.insert(0, \"i\")\n",
    "l.insert(1, \"n\")\n",
    "l.insert(2, \"s\")\n",
    "l.insert(3, \"e\")\n",
    "l.insert(4, \"r\")\n",
    "l.insert(5, \"t\")\n",
    "\n",
    "print(l)"
   ]
  },
  {
   "cell_type": "markdown",
   "metadata": {},
   "source": [
    "Effacer une valeur spécifique en utilisant `remove`"
   ]
  },
  {
   "cell_type": "code",
   "execution_count": null,
   "metadata": {
    "collapsed": false
   },
   "outputs": [],
   "source": [
    "l.remove(\"d\")\n",
    "\n",
    "print(l)"
   ]
  },
  {
   "cell_type": "markdown",
   "metadata": {},
   "source": [
    "Enlever une valeur en utilisant la fonction **`del`** ou **`pop`**:"
   ]
  },
  {
   "cell_type": "code",
   "execution_count": null,
   "metadata": {
    "collapsed": false
   },
   "outputs": [],
   "source": [
    "t= l.pop(4)\n",
    "del l[0]\n",
    "print(l,t)"
   ]
  },
  {
   "cell_type": "markdown",
   "metadata": {},
   "source": [
    "Faire concaténer des listes, vous uliliserez l'opérateur **`+`**. Vous pouvez également utiliser l'opérateur **`lst*n`** pour dubliquer la liste **`n fois`**. Exemples :"
   ]
  },
  {
   "cell_type": "code",
   "execution_count": null,
   "metadata": {
    "collapsed": false
   },
   "outputs": [],
   "source": [
    "lst1 = [1,3,7]\n",
    "lst2 = [2,4,8]\n",
    "lst = lst1 + lst2\n",
    "Lst = lst*3\n",
    "print(lst)\n",
    "print(Lst)"
   ]
  },
  {
   "cell_type": "markdown",
   "metadata": {},
   "source": [
    "Vous pouver consulter une documentation détaillée de list par `help(list)` ou visualiser les fonctions, méthodes et propriétés en utilisant `dir`"
   ]
  },
  {
   "cell_type": "code",
   "execution_count": null,
   "metadata": {
    "collapsed": false
   },
   "outputs": [],
   "source": [
    "print(dir(list))"
   ]
  }
 ],
 "metadata": {
  "anaconda-cloud": {},
  "kernelspec": {
   "display_name": "Python [default]",
   "language": "python",
   "name": "python3"
  },
  "language_info": {
   "codemirror_mode": {
    "name": "ipython",
    "version": 3
   },
   "file_extension": ".py",
   "mimetype": "text/x-python",
   "name": "python",
   "nbconvert_exporter": "python",
   "pygments_lexer": "ipython3",
   "version": "3.5.2"
  }
 },
 "nbformat": 4,
 "nbformat_minor": 0
}
