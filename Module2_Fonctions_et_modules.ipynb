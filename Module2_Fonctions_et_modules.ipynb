{
 "cells": [
  {
   "cell_type": "markdown",
   "metadata": {},
   "source": [
    "# Les fonctions et les modules \n",
    "\n",
    "Dr. H. Abdulkader (habdulkader68@gmail.com) "
   ]
  },
  {
   "cell_type": "markdown",
   "metadata": {},
   "source": [
    "## Modules\n",
    "\n",
    "La richesse  de Python, en fonctions, est assurée par des bibliothèques spécifiques dites **`modules`**. La librairie Standard de Python est une large collection de modules qui assurent des fonctions d'acces au système d'operation, traitement de fichiers E/S, chaînes de caractères, calcul scientifique, etc.\n",
    "\n",
    "### References\n",
    " \n",
    " * Le langage Python Reference:\n",
    " http://docs.python.org/3/reference/index.html\n",
    " * La librairie de Python :\n",
    " http://docs.python.org/3/library/\n",
    "\n",
    "Pour pouvoir appliquer des fonctions \" ou des méthodes\" d'un module quelconque, il faut d'abord importer le module. l'instruction qui permet d'importer un module est **`import`**. Nous montrons maintenant comment imprter le module `math` qui contient un grand nombre des fonctions mathématiques; On a plusieurs choix d'importation :"
   ]
  },
  {
   "cell_type": "code",
   "execution_count": null,
   "metadata": {
    "collapsed": true
   },
   "outputs": [],
   "source": [
    "import math"
   ]
  },
  {
   "cell_type": "markdown",
   "metadata": {},
   "source": [
    "Ceci import une liste des noms de fonctions, de méthodes et de constantes inclues dans math. Ceci est un exemple d'utilisation :"
   ]
  },
  {
   "cell_type": "code",
   "execution_count": 83,
   "metadata": {
    "collapsed": false
   },
   "outputs": [
    {
     "name": "stdout",
     "output_type": "stream",
     "text": [
      "1.0\n"
     ]
    }
   ],
   "source": [
    "import math\n",
    "\n",
    "x = math.cos(2 * math.pi)\n",
    "\n",
    "print(x)"
   ]
  },
  {
   "cell_type": "markdown",
   "metadata": {},
   "source": [
    "Vous remarquez certainement que vous devez utilser le nom du module et le nom de la fonction (ou de constante) séparés par un point. \n",
    "\n",
    "Il est d'usage de symboliser le nom du module pour rendre l'écriture du code plus simple. Exemple :\n"
   ]
  },
  {
   "cell_type": "code",
   "execution_count": 85,
   "metadata": {
    "collapsed": false
   },
   "outputs": [
    {
     "name": "stdout",
     "output_type": "stream",
     "text": [
      "1.0\n"
     ]
    }
   ],
   "source": [
    "import math as mt\n",
    "x = mt.cos(2 * mt.pi)\n",
    "\n",
    "print(x)"
   ]
  },
  {
   "cell_type": "markdown",
   "metadata": {},
   "source": [
    "Ainsi, on utilise fréquemment **``np``** pour **`numpy`**, **`sp`** pour **`scipy`** etc.\n",
    "\n",
    "Alternativement si le programmateur a besoin de certaines fonctions du module, il serait pratique d'importer les fonctions (ou méthode et même les constantes) pour les rendre utilisables directement. Exemple :"
   ]
  },
  {
   "cell_type": "code",
   "execution_count": 86,
   "metadata": {
    "collapsed": false
   },
   "outputs": [
    {
     "name": "stdout",
     "output_type": "stream",
     "text": [
      "1.0\n"
     ]
    }
   ],
   "source": [
    "from math import cos, pi\n",
    "\n",
    "x = cos(2 * pi)\n",
    "\n",
    "print(x)"
   ]
  },
  {
   "cell_type": "markdown",
   "metadata": {},
   "source": [
    "Dans le cas contraire, surtout en phase de développement d'un programme, lorsque l'on connait pas exactement quelles seront les fonctions nécessaires pour le programme. Il est possible d'importer toutes les fonctions (dites méthodes) et constantes (dites attribues) des modules. Cette méthode est deconseillée en générale car elle demande de la mémoire. "
   ]
  },
  {
   "cell_type": "code",
   "execution_count": 89,
   "metadata": {
    "collapsed": false
   },
   "outputs": [
    {
     "name": "stdout",
     "output_type": "stream",
     "text": [
      "-2.4492935982947064e-16\n"
     ]
    }
   ],
   "source": [
    "#Exemple\n",
    "from math import *\n",
    "\n",
    "x = tan(2 * pi)\n",
    "\n",
    "print(x)"
   ]
  },
  {
   "cell_type": "markdown",
   "metadata": {},
   "source": [
    "## Explorer le contenu d'un module et la documentation\n",
    "\n",
    "Une fois le module est importé, on pourra visualiser le contenu du module en utilisant la fonction **`dir`**. Exemple :"
   ]
  },
  {
   "cell_type": "code",
   "execution_count": 5,
   "metadata": {
    "collapsed": false
   },
   "outputs": [
    {
     "name": "stdout",
     "output_type": "stream",
     "text": [
      "['__doc__', '__loader__', '__name__', '__package__', '__spec__', 'acos', 'acosh', 'asin', 'asinh', 'atan', 'atan2', 'atanh', 'ceil', 'copysign', 'cos', 'cosh', 'degrees', 'e', 'erf', 'erfc', 'exp', 'expm1', 'fabs', 'factorial', 'floor', 'fmod', 'frexp', 'fsum', 'gamma', 'gcd', 'hypot', 'inf', 'isclose', 'isfinite', 'isinf', 'isnan', 'ldexp', 'lgamma', 'log', 'log10', 'log1p', 'log2', 'modf', 'nan', 'pi', 'pow', 'radians', 'sin', 'sinh', 'sqrt', 'tan', 'tanh', 'trunc']\n"
     ]
    }
   ],
   "source": [
    "import math\n",
    "\n",
    "print(dir(math))"
   ]
  },
  {
   "cell_type": "markdown",
   "metadata": {},
   "source": [
    "Vous pouvez voir parmi les méthodes affichées **sin, log, esp, ...** et parmi les attribues **pi, inf, nan**. On utilisera ensuite la fonction **`help`** pour obtenir une description d'une fonction aisi que la syntaxe à utiliser et les paramètres de la fonction. Exemple :"
   ]
  },
  {
   "cell_type": "code",
   "execution_count": 6,
   "metadata": {
    "collapsed": false
   },
   "outputs": [
    {
     "name": "stdout",
     "output_type": "stream",
     "text": [
      "Help on built-in function log in module math:\n",
      "\n",
      "log(...)\n",
      "    log(x[, base])\n",
      "    \n",
      "    Return the logarithm of x to the given base.\n",
      "    If the base not specified, returns the natural logarithm (base e) of x.\n",
      "\n"
     ]
    }
   ],
   "source": [
    "help(math.log)"
   ]
  },
  {
   "cell_type": "markdown",
   "metadata": {},
   "source": [
    "Ensuite, on peut utilser la fonction `log` avec la bonne syntaxe. "
   ]
  },
  {
   "cell_type": "code",
   "execution_count": 7,
   "metadata": {
    "collapsed": false
   },
   "outputs": [
    {
     "data": {
      "text/plain": [
       "2.302585092994046"
      ]
     },
     "execution_count": 7,
     "metadata": {},
     "output_type": "execute_result"
    }
   ],
   "source": [
    "from math import log\n",
    "log(10)"
   ]
  },
  {
   "cell_type": "code",
   "execution_count": 8,
   "metadata": {
    "collapsed": false
   },
   "outputs": [
    {
     "data": {
      "text/plain": [
       "3.3219280948873626"
      ]
     },
     "execution_count": 8,
     "metadata": {},
     "output_type": "execute_result"
    }
   ],
   "source": [
    "log(10, 2)# logarithme base 2"
   ]
  },
  {
   "cell_type": "markdown",
   "metadata": {},
   "source": [
    "**Vous pouvez utiliser la fonction `help` d'un module. Exemples :\n",
    "\n",
    "    help(math), help(list),help(str)  \n",
    "\n",
    "**Attention : ** L'aide sera long, détaillée et souvent encombrant.\n",
    "\n",
    "Une liste complète des modules de python 2 et python 3 est consultable sur le site http://docs.python.org/2/library/ et http://docs.python.org/3/library/."
   ]
  },
  {
   "cell_type": "markdown",
   "metadata": {},
   "source": [
    "## Functions\n",
    "\n",
    "Le mot-clé pour définir une fonction est **`def`**, suivi par le nom de fonction, des parenthèses `()`, et **`:`** à la fin. Le code qui constitue la fonction doit être **indenter ou decaler** vers la droite."
   ]
  },
  {
   "cell_type": "code",
   "execution_count": 31,
   "metadata": {
    "collapsed": false
   },
   "outputs": [],
   "source": [
    "def func0(): \n",
    "    print(\"test\")\n",
    "    "
   ]
  },
  {
   "cell_type": "code",
   "execution_count": 32,
   "metadata": {
    "collapsed": false
   },
   "outputs": [
    {
     "name": "stdout",
     "output_type": "stream",
     "text": [
      "test\n"
     ]
    }
   ],
   "source": [
    "# invoquer la fonction \n",
    "func0()"
   ]
  },
  {
   "cell_type": "markdown",
   "metadata": {},
   "source": [
    "Un programmateur exerimenté écrit une description de la fonction juste après la ligne de **def**, ce teste servira comme **`help`** de la fonction."
   ]
  },
  {
   "cell_type": "code",
   "execution_count": 2,
   "metadata": {
    "collapsed": true
   },
   "outputs": [],
   "source": [
    "def func1(ch):\n",
    "    \"\"\"\n",
    "    Afficher une chaïne de caractère 'ch' et sa longueur    \n",
    "    \"\"\"\n",
    "    \n",
    "    print(ch, \"contient\", len(ch), \"caracteres\")"
   ]
  },
  {
   "cell_type": "code",
   "execution_count": 35,
   "metadata": {
    "collapsed": false
   },
   "outputs": [
    {
     "name": "stdout",
     "output_type": "stream",
     "text": [
      "Help on function func1 in module __main__:\n",
      "\n",
      "func1(ch)\n",
      "    Afficher une chaïne de caractère 'ch' et sa longueur\n",
      "\n"
     ]
    }
   ],
   "source": [
    "help(func1)"
   ]
  },
  {
   "cell_type": "code",
   "execution_count": 4,
   "metadata": {
    "collapsed": false
   },
   "outputs": [
    {
     "name": "stdout",
     "output_type": "stream",
     "text": [
      "Python contient 6 caracteres\n"
     ]
    }
   ],
   "source": [
    "#invoquer la fonction\n",
    "func1(\"Python\")"
   ]
  },
  {
   "cell_type": "markdown",
   "metadata": {},
   "source": [
    "Une fonction peut retouner une ou plusieurs valeurs, results de calcul par exemple. Le mot-clé utilisé est **`return`** :"
   ]
  },
  {
   "cell_type": "code",
   "execution_count": null,
   "metadata": {
    "collapsed": true
   },
   "outputs": [],
   "source": [
    "def cube(x):\n",
    "    \"\"\"\n",
    "    Retourner la puissance cube de x.\n",
    "    \"\"\"\n",
    "    return x ** 3"
   ]
  },
  {
   "cell_type": "code",
   "execution_count": null,
   "metadata": {
    "collapsed": false
   },
   "outputs": [],
   "source": [
    "#invoquer la fonction\n",
    "cube(4)"
   ]
  },
  {
   "cell_type": "markdown",
   "metadata": {},
   "source": [
    "Il est possible de retourner plusieurs valeurs hors de la fonction. Exemple :"
   ]
  },
  {
   "cell_type": "code",
   "execution_count": 151,
   "metadata": {
    "collapsed": true
   },
   "outputs": [],
   "source": [
    "def multiples(x):\n",
    "    \"\"\"\n",
    "    retourner qques multiples de x.\n",
    "    \"\"\"\n",
    "    return x * 2, x * 3, x * 4"
   ]
  },
  {
   "cell_type": "code",
   "execution_count": 152,
   "metadata": {
    "collapsed": false
   },
   "outputs": [
    {
     "data": {
      "text/plain": [
       "(6, 9, 12)"
      ]
     },
     "execution_count": 152,
     "metadata": {},
     "output_type": "execute_result"
    }
   ],
   "source": [
    "multiples(3)"
   ]
  },
  {
   "cell_type": "code",
   "execution_count": null,
   "metadata": {
    "collapsed": false
   },
   "outputs": [],
   "source": [
    "x2, x3, x4 = multiples(3)\n",
    "\n",
    "print(x3)"
   ]
  },
  {
   "cell_type": "markdown",
   "metadata": {},
   "source": [
    "### Arguments par défaut et les mots -clés relatifs aux arguments\n",
    "\n",
    "Lors de la création d'une fonction, le programmateur peut spécifier des valeurs par défaut à certaines variables. Voir dans l'exemple suivant comment définir des valeurs par défaut aux variables **`p`** et **`debug`** :"
   ]
  },
  {
   "cell_type": "code",
   "execution_count": 36,
   "metadata": {
    "collapsed": true
   },
   "outputs": [],
   "source": [
    "def myfunc(x, p=2, debug=False):\n",
    "    if debug:\n",
    "        print(\"calculer la puissance x**p, avec x = \", x, \"et p =\", p)\n",
    "    return x**p"
   ]
  },
  {
   "cell_type": "markdown",
   "metadata": {},
   "source": [
    "Si vous ne specifiez pas une valeur de **`debug`** lorsque vous appelez la fonction **`myfunc`** elle aura la valeur par défaut définie lors de la création de la fonction (**`debug = False`**), exemple :"
   ]
  },
  {
   "cell_type": "code",
   "execution_count": 37,
   "metadata": {
    "collapsed": false
   },
   "outputs": [
    {
     "data": {
      "text/plain": [
       "25"
      ]
     },
     "execution_count": 37,
     "metadata": {},
     "output_type": "execute_result"
    }
   ],
   "source": [
    "myfunc(5)"
   ]
  },
  {
   "cell_type": "code",
   "execution_count": 38,
   "metadata": {
    "collapsed": false
   },
   "outputs": [
    {
     "name": "stdout",
     "output_type": "stream",
     "text": [
      "calculer la puissance x**p, avec x =  5 et p = 2\n"
     ]
    },
    {
     "data": {
      "text/plain": [
       "25"
      ]
     },
     "execution_count": 38,
     "metadata": {},
     "output_type": "execute_result"
    }
   ],
   "source": [
    "myfunc(5, debug=True)"
   ]
  },
  {
   "cell_type": "code",
   "execution_count": null,
   "metadata": {
    "collapsed": false
   },
   "outputs": [],
   "source": [
    "myfunc(p=3, debug=True, x=7)# observer l'ordre des arguments !!!"
   ]
  },
  {
   "cell_type": "markdown",
   "metadata": {},
   "source": [
    "## Comment écrire un module simple\n",
    "Un module peut contenir une ou plusieurs fonctions, un ou plusieurs class et un programme principal. Dans l'exemple ci-dessous, je donne un module composé de 3 fonctions et un programme principal qui sera utilisé pour saisir les entrées, lancer les fonctions et afficher les résultats. Voici l'exemple :"
   ]
  },
  {
   "cell_type": "code",
   "execution_count": 5,
   "metadata": {
    "collapsed": false
   },
   "outputs": [
    {
     "name": "stdout",
     "output_type": "stream",
     "text": [
      "Overwriting myLittleModule.py\n"
     ]
    }
   ],
   "source": [
    "%%file myLittleModule.py\n",
    "# -*- coding: UTF-8 -*-\n",
    "\"\"\"\n",
    "Ceci est la documentation de mon module, elle sera affichée si j'utilise \n",
    "'help'. Ce module calcul les statistiques d'une liste\n",
    "\"\"\"\n",
    "from math import sqrt\n",
    "def moyenne(lst) :\n",
    "    \"\"\"\n",
    "    Ceci est une documentation de la fonction moyenne.\n",
    "    Elle retourne la valeur moyenne d'une liste de valeurs\n",
    "    \"\"\"\n",
    "    return sum(lst)/len(lst)\n",
    "\n",
    "def variance (lst):\n",
    "    \"\"\"\n",
    "    Ceci est une documentation de la fonction variance.\n",
    "    Elle retourne la variance d'une liste de valeurs\n",
    "    \"\"\"\n",
    "    lst2 = []\n",
    "    for k in lst:\n",
    "        lst2.append(k**2)\n",
    "    return moyenne(lst2) - moyenne(lst)**2\n",
    "\n",
    "def ecartType(lst):\n",
    "    \"\"\"\n",
    "    Ceci est une documentation de la fonction ecartType.\n",
    "    Elle retourne l'ecart-type d'une liste de valeurs\n",
    "    \"\"\"\n",
    "    return sqrt(variance(lst))\n",
    "\n",
    "# programme principale\n",
    "if __name__ == \"__main__\":\n",
    "    Liste = [12,5,7.5,32,9,5,-7,9,10,5.2]\n",
    "    print(moyenne(Liste))\n",
    "    print(variance(Liste))\n",
    "    print(ecartType(Liste))"
   ]
  },
  {
   "cell_type": "code",
   "execution_count": 2,
   "metadata": {
    "collapsed": false
   },
   "outputs": [
    {
     "name": "stdout",
     "output_type": "stream",
     "text": [
      "0.0\n"
     ]
    }
   ],
   "source": [
    "from myLittleModule import ecartType\n",
    "Lst = [1,1,1,1,1]\n",
    "ET = ecartType(Lst)\n",
    "print(ET)"
   ]
  },
  {
   "cell_type": "code",
   "execution_count": 4,
   "metadata": {
    "collapsed": false
   },
   "outputs": [
    {
     "name": "stdout",
     "output_type": "stream",
     "text": [
      "Help on module myLittleModule:\n",
      "\n",
      "NAME\n",
      "    myLittleModule\n",
      "\n",
      "DESCRIPTION\n",
      "    Ceci est la documentation de mon module, elle sera affichée si j'utilise \n",
      "    'help'. Ce module calcul les statistiques d'une liste\n",
      "\n",
      "FUNCTIONS\n",
      "    ecartType(lst)\n",
      "        Ceci est une documentation de la fonction ecartType.\n",
      "        Elle retourne l'ecart-type d'une liste de valeurs\n",
      "    \n",
      "    moyenne(lst)\n",
      "        Ceci est une documentation de la fonction moyenne.\n",
      "        Elle retourne la valeur moyenne d'une liste de valeurs\n",
      "    \n",
      "    sqrt(...)\n",
      "        sqrt(x)\n",
      "        \n",
      "        Return the square root of x.\n",
      "    \n",
      "    variance(lst)\n",
      "        Ceci est une documentation de la fonction variance.\n",
      "        Elle retourne la variance d'une liste de valeurs\n",
      "\n",
      "FILE\n",
      "    c:\\users\\h_abdulkader\\documents\\cours_ipsa_tlse\\algotithmie\\python_in-21\\mylittlemodule.py\n",
      "\n",
      "\n"
     ]
    }
   ],
   "source": [
    "import myLittleModule\n",
    "help(myLittleModule)"
   ]
  },
  {
   "cell_type": "markdown",
   "metadata": {},
   "source": [
    "## Un autre exemple"
   ]
  },
  {
   "cell_type": "code",
   "execution_count": null,
   "metadata": {
    "collapsed": true
   },
   "outputs": [],
   "source": [
    "%%file simpleModule.py\n",
    "# -*- coding: UTF-8 -*-\n",
    "\"\"\"\n",
    "Ceci est la documentation de mon module, elle sera affichée si j'utilise \n",
    "'help'. \n",
    "Ce module calcul le double et le triple d'une liste\n",
    "\"\"\"\n",
    "\n",
    "from math import sqrt\n",
    "\n",
    "def double(lst) :\n",
    "    \"\"\"\n",
    "    Ceci est une documentation de la fonction double.\n",
    "    Elle retourne le double de chaque élément d'une liste\n",
    "    \"\"\"\n",
    "    liste2 = [2 * x for x in lst]\n",
    "    return liste2\n",
    "\n",
    "def triple (lst):\n",
    "    \"\"\"\n",
    "    Ceci est une documentation de la fonction variance.\n",
    "    Elle retourne le triple de chaque élément d'une liste\n",
    "    \"\"\"\n",
    "    liste3 = []\n",
    "    for k in lst:\n",
    "        liste3.append(3 * k)\n",
    "    return liste3\n",
    "\n",
    "# programme principale\n",
    "if __name__ == \"__main__\":\n",
    "    Liste = [12,5,7.5,-7,9,10,5.2]\n",
    "    print(double(Liste))\n",
    "    print(triple(Liste))"
   ]
  },
  {
   "cell_type": "code",
   "execution_count": null,
   "metadata": {
    "collapsed": true
   },
   "outputs": [],
   "source": [
    "from simpleModule import *\n",
    "liste = [1,1,1,1]\n",
    "l2 = double(liste)\n",
    "l3 = triple(liste)\n",
    "print(l2)\n",
    "print(l3)"
   ]
  },
  {
   "cell_type": "markdown",
   "metadata": {},
   "source": [
    "# Fonctions et variables : variable locales, nonlocales et globales"
   ]
  },
  {
   "cell_type": "markdown",
   "metadata": {},
   "source": [
    "La durée de vie d'une variable commence lorsqu'elle est déclarée (à gauche d'un signe =) et finie à la fin du bloc où elle a été déclarée.\n",
    "                                                                  \n",
    "Elle est visible à l'intérieur des sous-blocs du bloc.\n",
    "\n",
    "Elle est visible à l'intérieur des fonctions qui sont appelée dans son bloc (c'est récursif).\n",
    "\n",
    "Si un sous-bloc ou une fonction définie une variable du même nom, alors elle n'est plus visible jusqu'à la mort de la nouvelle variable (c'est la nouvelle variable qui est visible).\n",
    "\n",
    "On appelle variables globales les variables qui sont définies dans le programme principal. Elles sont visibles de partout (sauf cas ci-dessus).\n",
    "En principe, une variable du programme principal ne peut être modifiée dans une fonction ou sous fonction. Toutefois, le mot clé **`global`** utilisé à l'intérieur de la fonction permet un contrôle total de la variable.\n",
    "Un autre mot clé util lors de l'utilisation des fonctions imbriquées, il s'agit de **``nonlocal``**. Il permet, dans une sous fonction, le contrôle d'une variable définit dans la fonction imbriquant. Regardez ces exemples :"
   ]
  },
  {
   "cell_type": "code",
   "execution_count": 5,
   "metadata": {
    "collapsed": false
   },
   "outputs": [
    {
     "name": "stdout",
     "output_type": "stream",
     "text": [
      "a =  16\n",
      "F =  5\n",
      "g =  11\n",
      "variables globales: \n",
      "a =  3\n",
      "F =  8\n",
      "b =  16\n"
     ]
    }
   ],
   "source": [
    "def myFun1(F):\n",
    "    a = F + g          # \"a\" ici est une variable en locale\n",
    "                       # j'ai le droit d'uiliser g la globale\n",
    "                       # je peux utiliser les variables globales\n",
    "    print(\"a = \",a)    # Observer la valeur de 'a', a est locale\n",
    "    print(\"F = \",F)    # Observer la valeur de 'F', F est locale\n",
    "    print(\"g = \",g)    # Observer la valeur de 'g', \n",
    "    return a\n",
    "a = 3\n",
    "F , g = 8, 11\n",
    "b = myFun1(5)\n",
    "print(\"variables globales: \")\n",
    "print(\"a = \",a)   # Observer la valeur de 'a', c'est la globale\n",
    "print(\"F = \",F)   # Observer la valeur de 'F', c'est la globale\n",
    "print(\"b = \",b)   # 'b' reçoie la valeur retournée par la commande return"
   ]
  },
  {
   "cell_type": "code",
   "execution_count": 6,
   "metadata": {
    "collapsed": false
   },
   "outputs": [
    {
     "name": "stdout",
     "output_type": "stream",
     "text": [
      "a =  2\n",
      "b =  10 \t x =  10\n",
      "les variables locales de myFun1sont :  {'x': 10, 'a': 2, 'y': 500}\n",
      "1\n"
     ]
    }
   ],
   "source": [
    "# Au lieu d'utiliserles variables globales dans une fonction, vous les passez dedans, comme argument.\n",
    "# ensuite vous les utilisez comme locales\n",
    "def myFun1(x):\n",
    "    a = 2                         # création d'un nouveau a\n",
    "    print('a = ', a)              # a est local\n",
    "    print('b = ',b,'\\t','x = ',x) # x est local mais b est global\n",
    "    y = 5 * b**2                  # il est préférable d'utiliser x à la place de b\n",
    "    #y = 5 * x**2\n",
    "    print(\"les variables locales de myFun1sont : \", locals())\n",
    "a , b = 1 , 10       \n",
    "myFun1(b)            #vous pouvez invoquer la fonction en envoyant des constante entre parenthèses\n",
    "print(a)             # seul a global est visible ici"
   ]
  },
  {
   "cell_type": "code",
   "execution_count": null,
   "metadata": {
    "collapsed": true
   },
   "outputs": [],
   "source": [
    "# Au lieu d'utiliserles variables globales dans une fonction, vous les passez dedans, comme argument.\n",
    "def myFun1(x,y):\n",
    "    c = 0.7\n",
    "    r1 = 5 * x**2                  # x reçois la valeur de a\n",
    "    r2 = c * x / y                 # y reçois la valeur de b\n",
    "    return r1 , r2\n",
    "a , b = 1 , 10              \n",
    "print(myFun1(a,b))   #vous pouvez invoquer la fonction en envoyant des constante entre parenthèses\n",
    "u , w = myFun1(a,b)  # u recois r1 et w reçois r2\n",
    "print(u ,'\\t', w)"
   ]
  },
  {
   "cell_type": "markdown",
   "metadata": {},
   "source": [
    "Les résultats qui sort de la fonction sont présentés dans un tuple, r1 est le premier et r2 est le deuxième."
   ]
  },
  {
   "cell_type": "code",
   "execution_count": null,
   "metadata": {
    "collapsed": true
   },
   "outputs": [],
   "source": [
    "# dans des fonctions différentes, vous pouvez utiliser les même noms de variables sans interférence\n",
    "# entre les deux fonction\n",
    "def myFun1(x):\n",
    "    # x est locale 'elle ne peut être utiliséee en dehors de la fonction\n",
    "    print('a = ',a, 'x = ',x)  # a est global\n",
    "    print(\"les variables locales de myFun1 sont : \", locals())\n",
    "def myFun2(x):\n",
    "    a = 2            # création d'un nouveau a\n",
    "    print('a = ', a) # a est local\n",
    "    print('b = ',b,'\\t','x = ',x) # x est local mais b est global\n",
    "    print(\"les variables locales de myFun2sont : \", locals())\n",
    "a , b = 1 , 10       # si cette ligne est commentée, myFun2(x) et myFun2 auront un problème\n",
    "myFun1(3)    #vous pouvez invoquer la fonction en envoyant des constante comme argument\n",
    "myFun2(b)    #vous pouvez invoquer la fonction en envoyaant écrivant des noms de variables"
   ]
  },
  {
   "cell_type": "code",
   "execution_count": null,
   "metadata": {
    "collapsed": true
   },
   "outputs": [],
   "source": [
    "# dans une fonction, vous n'avez pas le droit d'utiliser une variable globale et, au même temps,\n",
    "# donner le même nom à une variable locale.\n",
    "def myFun1(F):\n",
    "    c = a+ F         #Erreur dans cette function a est locale, regarder la ligne suivante.\n",
    "                     #donc, la variable globale a n'est plus définies dans dette fonction   \n",
    "    a = 2 * g\n",
    "    print(\"a = \", a)\n",
    "a ,g = 3 , 11\n",
    "myFun1(9)"
   ]
  },
  {
   "cell_type": "code",
   "execution_count": null,
   "metadata": {
    "collapsed": true
   },
   "outputs": [],
   "source": [
    "# Vous pouvez modifier la varibale globale dans une fonction si vous utilisé la commande globale\n",
    "def myFun1(F):\n",
    "    global a         # La variable 'a' est déclarée globale\n",
    "    a = a+ F         # Attention vous avez modifié la valeur de a même en dehors de cette fonction\n",
    "    print(\"___ dans la fonction ___\")\n",
    "    print(\"a = \", a, \"F = \", F)\n",
    "    print('les variables locales sont : ',locals())\n",
    "    #print(globals())\n",
    "    return a\n",
    "a = 3\n",
    "b = 9\n",
    "print(\"a = \", a, \"b = \", b)\n",
    "b = myFun1(b)        #la sortie de la fonction remplacera la valeur actuelle de b \n",
    "print(\"___ après la fonction ___\")\n",
    "print(\"a = \", a , \"b = \",b)     #Observer la valeur de 'a', elle a été modifiée par myFun1\n",
    "                                #observer 'b', ça était modifié"
   ]
  },
  {
   "cell_type": "markdown",
   "metadata": {},
   "source": [
    "### Les fonctions imbriquées\n",
    "lorsque vous programmer une sous fonction, elle ne peut pas être invoquer directement à partir du programme principal, elle est définit seulement dans la fonction parent, qui la contient.\n",
    "Lorsque vous utilisez une variable dans un calcul, au sein de sousFun1, l'interpréteur cherche sa valeur dans sousFun1, ensuite dans myFun1 et finalement dans le programme principal.  "
   ]
  },
  {
   "cell_type": "code",
   "execution_count": null,
   "metadata": {
    "collapsed": true
   },
   "outputs": [],
   "source": [
    "# quand l'interpréteur cherche une valeur de variable, commence par les variables locales \n",
    "# ensuite, il regarde dans les variables nonlocales de la fonction parent,\n",
    "# et en dernier dans les variables globales\n",
    "# le passage de variable comme des arguments vous évite une vrai casse-tête..!!\n",
    "def myFun1(x):\n",
    "    def subFun1(x):\n",
    "        m = 10\n",
    "        print(\"m = \",m,\"x = \",x)  # il s'agit du 'm' et 'x' locales\n",
    "        print(\"n = \",n,\"p = \",p)  # il s'agit du 'n' non locale et 'p' globale\n",
    "        print('les variables locales sont : ',locals())\n",
    "    m , n = 1 , 2    # remplacent les variables globales\n",
    "    subFun1(x+2)\n",
    "    print('les variables locales sont : ',locals())\n",
    "m , n , p = 1.4 , 5 , 4\n",
    "myFun1(p + 2)\n",
    "#subFun1(5) # cette ligne provoque une erreur car subFun1 n'est pas connu ici\n"
   ]
  },
  {
   "cell_type": "code",
   "execution_count": null,
   "metadata": {
    "collapsed": true
   },
   "outputs": [],
   "source": [
    "# quand l'interpréteur cherche une valeur de variable, commence par les variables locales \n",
    "# ensuite, il regarde dans les variables nonlocales de la fonction parent,\n",
    "# et en dernier dans les variables globales\n",
    "# le passage de variable comme des arguments vous évite une vrai casse-tête..!!\n",
    "def myFun1(x):\n",
    "    def subFun1(x):\n",
    "        m = 10\n",
    "        print(\"m = \",m,\"x = \",x)  # il s'agit du 'm' et 'x' locales\n",
    "        print(\"n = \",n,\"p = \",p)  # il s'agit du 'n' non locale et 'p' globale\n",
    "        print('les variables locales sont : ',locals())\n",
    "    m , n = 1 , 2    # remplacent les variables globales\n",
    "    subFun1(x+2)\n",
    "    print('les variables locales sont : ',locals())\n",
    "m , n , p = 1.4 , 5 , 4\n",
    "myFun1(p + 2)\n",
    "#subFun1(5) # cette ligne provoque une erreur car subFun1 n'est pas connu ici\n"
   ]
  },
  {
   "cell_type": "code",
   "execution_count": null,
   "metadata": {
    "collapsed": true
   },
   "outputs": [],
   "source": [
    "# la valeur d'une variable nonlocale ne peut pas être modifiée localement\n",
    "def myFun1(x):\n",
    "    a = 1\n",
    "    def sousFun1(x):\n",
    "        a = a + 1   # Erreur, 'a' locale, donc les 'a's précédents n'est pas disponible\n",
    "        print(a , x)\n",
    "    sousFun1(x+1)\n",
    "    print(a)\n",
    "a = 99\n",
    "myFun1(a)"
   ]
  },
  {
   "cell_type": "markdown",
   "metadata": {},
   "source": [
    "### Variables globale\n",
    "\n",
    "Vous pouvez modifier une variable globale dans une sous fonction. Sa valeur sera définitivement modifié dans tout le programme.\n",
    "\n",
    "     def sousFun1(x):\n",
    "         global a\n",
    "         a = a + 1"
   ]
  },
  {
   "cell_type": "code",
   "execution_count": null,
   "metadata": {
    "collapsed": true
   },
   "outputs": [],
   "source": [
    "# Utilisation de variable globale\n",
    "def myFun1(x):\n",
    "    a = 1\n",
    "    def sousFun1(x):\n",
    "        global a\n",
    "        a = a + x     # Etant 'a' global permet de modifier sa valeur\n",
    "                      # Attention vous avez écraser la valeur de 'a' global\n",
    "        print(\"a = \", a)\n",
    "    sousFun1(x+1)\n",
    "    print(\"a non locale = \", a)\n",
    "a = 99\n",
    "myFun1(4)\n",
    "print(\"a = \",a)             # Observer la valeur de 'a', elle a été modifié par sousFun1"
   ]
  },
  {
   "cell_type": "markdown",
   "metadata": {},
   "source": [
    "### Variables nonlocale\n",
    "\n",
    "En Python 3 il existe le mot clef `nonlocal` qui permet d'indiquer que l'on fait référence à une variable d'un niveau supérieur. Ainsi\n",
    "\n",
    "     def sousFun1(x):\n",
    "         nonlocal a\n",
    "         a = a + 1\n",
    "        \n",
    "fonctionnerait car alors le `a` aurait été celui de `myFun1`. Par contre la valeur de a, qui est non locale sera définitivement modifiée dans la fonction parent et tous des enfants. "
   ]
  },
  {
   "cell_type": "code",
   "execution_count": null,
   "metadata": {
    "collapsed": true
   },
   "outputs": [],
   "source": [
    "def myFun1(x):\n",
    "    a = 1\n",
    "    def sousFun1(x):\n",
    "        nonlocal a\n",
    "        a = a + x     # Etant 'a' non local permet l'acces à la variable 'a' de niveau supérieur\n",
    "                      # Attention vous avez modifié une valeur non locale définitivement !!\n",
    "        print(\"a = \",a)\n",
    "    sousFun1(x+1)\n",
    "    print(\"a non locale = \",a)   # observer la valeur de 'a', elle a été modifiée par sousFun1\n",
    "a = 11\n",
    "myFun1(a)\n",
    "print(\"a globale = \",a)             # Observer la valeur de 'a'"
   ]
  },
  {
   "cell_type": "markdown",
   "metadata": {},
   "source": [
    "### Invoquer une fonction\n",
    "Sans doute, vous avez remarqué qu'une fonction peut être invoquée à partir du programme principal. Elle peut être invoquée aussi à partir d'une fonction vosine ou à partir d'une de ses sous-fonctions.\n",
    "En revanche une sous fonction de la fonction myFun1 ne peut pas invoquer une sous fonction de la fonction myFun2."
   ]
  },
  {
   "cell_type": "code",
   "execution_count": null,
   "metadata": {
    "collapsed": true
   },
   "outputs": [],
   "source": [
    "def myFun2(x):\n",
    "    print('3- Je réponds au fils de mon voisin')\n",
    "    print(\"j'ai recu la valeur : \", x)\n",
    "    def sousFun2(w):\n",
    "        print('4- je ne répond pas à sousFun1')\n",
    "def myFun1(x):\n",
    "    print(\"1- Je réponds à l'appel du programme principal\")\n",
    "    print(\"j'ai recu la valeur : \", x)\n",
    "    def sousFun1(x):\n",
    "        print(\"2- Je réponds à l'appel de mon parent myFun1\")\n",
    "        print(\"j'ai recu la valeur : \", x)\n",
    "        m , n = 10 , 2\n",
    "        myFun2(n*m)\n",
    "        #sousFun2()  #cette ligne provoque une erreur\n",
    "        #myFun1()    #Attention, elle va créer une boucle infinie\n",
    "    sousFun1(x+2)\n",
    "p = 4\n",
    "myFun1(p)"
   ]
  },
  {
   "cell_type": "markdown",
   "metadata": {},
   "source": [
    "**REMARQUE :** une sous fonction peut invoquer son père , la fonction qui la contient. Mais, ça peut provoquer une boucle infinie qui est extrêmement dangereuse."
   ]
  },
  {
   "cell_type": "markdown",
   "metadata": {},
   "source": [
    "### La sortie d'une fonction\n",
    "Dans cette section nous expliquons comment passer des valeur, résultat de calcul, de la fonction vers le programme qui l'a invoqué.\n",
    "Une fonction peut retourner une ou plusieurs variables dans le programme qui l'a appelé via la commande **return**.\n",
    "            exemple **return a, b, c**\n",
    "renvoie les valeurs des variables a, b et c. Voici un exemple :"
   ]
  },
  {
   "cell_type": "code",
   "execution_count": null,
   "metadata": {
    "collapsed": true
   },
   "outputs": [],
   "source": [
    "def myFun1(x):\n",
    "    print(\"1- Je réponds à l'appel du programme principal\")\n",
    "    print(\"j'ai recu la valeur : \", x)\n",
    "    def sousFun1(x1):\n",
    "        print(\"2- Je réponds à l'appel de mon parent myFun1\")\n",
    "        print(\"j'ai recu la valeur : \", x)\n",
    "        m = x1%2   # la valeur modulo\n",
    "        n = x1//2  # la division entiere\n",
    "        return m, n\n",
    "    a, b = sousFun1(x)\n",
    "    print(\"3- sousFun1 m'a retourné les resultats : \")\n",
    "    print(\"a = \",a, \"b = \",b)\n",
    "    return a, b\n",
    "p = 4\n",
    "u, w = myFun1(p)\n",
    "print(\"4- myFun1 m'a retourné les resultats : \")\n",
    "print(\"u = \",u, \"w = \",w)"
   ]
  },
  {
   "cell_type": "markdown",
   "metadata": {},
   "source": [
    "## Conclusion (Espace des noms)\n",
    "La comprehension de l'espace des noms est crucial pour un programmeur car l'usage des variables, surtout dans des longues programmes, devient problematique.\n",
    "L'espace des noms dans un programme est dynamique au sense que les variables disponibles au calculateur varient en fonction du morceau de code executé. Prenons cet exemple :"
   ]
  },
  {
   "cell_type": "code",
   "execution_count": null,
   "metadata": {
    "collapsed": true
   },
   "outputs": [],
   "source": [
    "# Utilisation de variable globale\n",
    "def myFun1(x):\n",
    "    a = 1\n",
    "    g = 61\n",
    "    def subFun1(x):\n",
    "        nonlocal a\n",
    "        h = 72\n",
    "        a = a + 1     # la valeur de 'a' est celle définie dans myFun1\n",
    "        def subsubFun1(x):\n",
    "            global a\n",
    "            a = a * 2 # la valeur de 'a' c'est celle du programme principale c.a.d. la globale\n",
    "            print(\"--subsubFun1--\")\n",
    "            print(\" a = \" , a ,\"\\t x = \", x)\n",
    "            print('les variables locales sont : ',locals())\n",
    "            print(\"je connais a = {} , la globale \".format(a) )\n",
    "            print(\"je connais aussi f = {}, g ={}, h ={}\".format(f,g,h))\n",
    "            print(\"je sais aussi appeler mes parents {} et {} \\n\".format('subFun1','myFun1'))\n",
    "        subsubFun1(5*a)\n",
    "        print(\"--subFun1--\")\n",
    "        print(\" a = \" , a ,\"\\t x = \", x)\n",
    "        print('les variables locales sont : ',locals())\n",
    "        print(\"je connais a = {} , la non locale \".format(a) )\n",
    "        print(\"je connais aussi f = {}, g ={} \".format(f,g))\n",
    "        print(\"je sais aussi appeler mon enfant {} et mon parent {} \\n\".format('subsubFun1','myFun1'))\n",
    "    subFun1(x+2)\n",
    "    print(\"--myFun1--\")\n",
    "    print(\" a = \" , a ,\"\\t x = \", x)\n",
    "    print('les variables locales sont : ',locals())\n",
    "    print(\"je connais aussi que f = {} \".format(f))\n",
    "    print(\"je sais aussi appeler mon enfant {} \\n\".format('subFun1'))\n",
    "    \n",
    "a = 11\n",
    "f = 50\n",
    "myFun1(a)      # l'argument passé à myFun1 est \"la somme\" f + a = 17 \n",
    "print(\"\\n\\n--programme principal--\")\n",
    "print(\" a = \", a, \" f = \", f)  # observer la valeur de \"a\"  \n",
    "print(\"je sais aussi appeler : myFun1 \")\n"
   ]
  },
  {
   "cell_type": "markdown",
   "metadata": {},
   "source": [
    "Voyons à présent l'espace des noms dans le programme principal, la fonction myFun1 et la fonction souFun1 :\n",
    "**Espace de noms du programme principal** contient a = 11, f = 50 et myFun1.\n",
    "**Espace de noms de myFun1** contient a = 1, f = 6, g = 61, x = 17 et subFun1.\n",
    "**Espace de noms de subFun1** contient a ``non locale``, f = 6, g = 61, h = 72 et x = 18et les noms de fonctions : le parent `myFun` et l'enfant `subsubFun1`.\n",
    "**Espace de noms de subsubFun1** contient a ``globale``, f = 6, g = 61, h = 72 et x = 18et les noms de fonctions : les parent `myFun` et `subFun1`.<p>\n",
    "**Remarque :** les variables \"héritées\" d'un niveau supérieur sont utilisables mais non modifiables sauf si l'on déclare la variable comme \"global\" ou \"nonlocal\"."
   ]
  },
  {
   "cell_type": "markdown",
   "metadata": {},
   "source": [
    "**Exercice** Etudier l'espace des noms dans le code suivant :"
   ]
  },
  {
   "cell_type": "code",
   "execution_count": null,
   "metadata": {
    "collapsed": true
   },
   "outputs": [],
   "source": [
    "def myFun1(x):\n",
    "    a = 1\n",
    "    def sousFun1(x):\n",
    "        nonlocal a\n",
    "        a = a + 1     # Etant 'a' non local permet de calculer une nouvelle 'a'\n",
    "        t = 3 * a + 1\n",
    "        print(\" a = \" , a ,\"\\t x = \", x)\n",
    "        return t - a\n",
    "    \n",
    "    b = sousFun1(x+1)\n",
    "    print(\" a = \" , a ,\"\\t x = \", x)\n",
    "    print(\" a = \" , a ,\"\\t b = \", b)\n",
    "    \n",
    "a = 5\n",
    "b = myFun1(a)\n",
    "print(\" a = \" , a ,\"\\t b = \", b)             # Observer la valeur de 'a'"
   ]
  }
 ],
 "metadata": {
  "anaconda-cloud": {},
  "kernelspec": {
   "display_name": "Python [default]",
   "language": "python",
   "name": "python3"
  },
  "language_info": {
   "codemirror_mode": {
    "name": "ipython",
    "version": 3
   },
   "file_extension": ".py",
   "mimetype": "text/x-python",
   "name": "python",
   "nbconvert_exporter": "python",
   "pygments_lexer": "ipython3",
   "version": "3.5.2"
  }
 },
 "nbformat": 4,
 "nbformat_minor": 0
}
