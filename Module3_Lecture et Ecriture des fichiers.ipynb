{
 "cells": [
  {
   "cell_type": "markdown",
   "metadata": {},
   "source": [
    "<img src = \"Python_Icon.png\", width=300, height=300>"
   ]
  },
  {
   "cell_type": "markdown",
   "metadata": {},
   "source": [
    "# Manipulation de fichiers : enregistrer et lire des fichier\n",
    "par Dr. H. Abdulkader"
   ]
  },
  {
   "cell_type": "markdown",
   "metadata": {},
   "source": [
    "Programmeurs sont affrontés à utiliser des fichiers abadamment. Importer les données dans un programme ou stocker les résultats dans un fichier sont des tâches nien courantes.\n",
    "Python offre plusieurs possibilités pour travailler avec les fichiers, nous apprenons à manipuler les fichier de type txt.\n",
    "Créer un fichier ou ouvrir un fichier pour une lecture est simplifié grâce à la fonction open()"
   ]
  },
  {
   "cell_type": "code",
   "execution_count": null,
   "metadata": {
    "collapsed": false
   },
   "outputs": [],
   "source": [
    "fichier = open(\"nomDeFichier.txt\",'w') #'w' signifie l'écriture le fichier sera créé ou effacé\n",
    "type(fichier)"
   ]
  },
  {
   "cell_type": "markdown",
   "metadata": {},
   "source": [
    "**Ecriture dans un fichier texte :**\n",
    "Avant d'écrire les données dans un fichier, il faut savoir que ces données sont conservées comme un texte. L'écriture du fichier s'achève à la ligne **fichier.close()**"
   ]
  },
  {
   "cell_type": "code",
   "execution_count": null,
   "metadata": {
    "collapsed": false
   },
   "outputs": [],
   "source": [
    "fichier = open(\"nomDeFichier.txt\",'w')\n",
    "fichier.write(\"Bonjour M. 007\")\n",
    "fichier.write(\"voici votre mission:\")\n",
    "#fichier.write([700,56.0,145.0]) # cette ligne provoque une erreur: il faut chaine de caractères\n",
    "for k in range(5):\n",
    "    fichier.write(\"Go downtown \\t\\t turn left \\n\")\n",
    "fichier.close()"
   ]
  },
  {
   "cell_type": "markdown",
   "metadata": {},
   "source": [
    "**Lecture d'un fichier texte :**\n",
    "Après l'ouverture du fichier pour une lecture (option 'r'), nous lisons le fichier ligne par ligne en utilisant la méthode **fichier.readline()**. Il existe une méthode qui permet la lecture du fichier en une seule fois, il s'agit de **fichier.readlines()**. "
   ]
  },
  {
   "cell_type": "code",
   "execution_count": null,
   "metadata": {
    "collapsed": false
   },
   "outputs": [],
   "source": [
    "fichier = open('nomDeFichier.txt','r')\n",
    "for line in fichier :\n",
    "    print(line)\n",
    "    if not line:\n",
    "        break\n",
    "print(\"type de lines lisées :\", type(line))\n",
    "fichier.close() # Rappelez-vous de fermer toujours le fichier à la fin de traitement"
   ]
  },
  {
   "cell_type": "markdown",
   "metadata": {},
   "source": [
    "## Créer un fichier structuré\n",
    "Vous constatez que la première ligne n'est pas bien structurée. Trois lignes de code `fichier.write()` ont écrit sur la même ligne!. En réalité, la structure de données dans le fichier doit être décidée et conçue par le programmateur lui-même.\n",
    "Utiliser \"\\n\" pour sauter à une nouvelle ligne, \"\\t\" pour suater une tabulation, **+** pour concatener des chaines de caractères et insérer manuellement les séparateurs **',', ';', ' espace ', ':', etc."
   ]
  },
  {
   "cell_type": "code",
   "execution_count": null,
   "metadata": {
    "collapsed": false
   },
   "outputs": [],
   "source": [
    "# voici une écriture d'un fichier structuré\n",
    "fichier = open(\"registreDeMissions.txt\",'w')\n",
    "fichier.write(\"Bonjour M. 007,\\n\")\n",
    "fichier.write(\"Le monde a besoin de vous aujourd'hui plus que jamais..!! \\n\")\n",
    "fichier.write(\"voici votre {0} mission : \\n\".format('1er', '2em', '3em'))\n",
    "fichier.write(\"Allez chez {1} \\t, approtez {2} {0} \\n\".format('fleur', 'fleuriste', 'trois'))\n",
    "\n",
    "fichier.write(\"voici votre {1} mission : \\n\".format('1er', '2em', '3em'))\n",
    "fichier.write(\"Avancez dans {0} \\t attendez l'arrivée de {2} \\t donnez lui {1} \\n\".format(\n",
    "              'le parc', 'les fleurs' , 'Mme Lablonde', 'Mr. Lejardinier'))\n",
    "\n",
    "fichier.close()\n"
   ]
  },
  {
   "cell_type": "code",
   "execution_count": null,
   "metadata": {
    "collapsed": false
   },
   "outputs": [],
   "source": [
    "# voici la lecture :\n",
    "fichier = open('registreDeMissions.txt','r')\n",
    "for line in fichier :\n",
    "    print(line)\n",
    "    if not line:\n",
    "        break\n",
    "fichier.close() # Rappelez-vous de fermer toujours le fichier à la fin de traitement"
   ]
  },
  {
   "cell_type": "markdown",
   "metadata": {},
   "source": [
    "## Enregister des données numériques et structurées\n",
    "Nous avons constater que la méthode d'écriture précédente est appropriée au stockage de chaines de caractères. Enregistrer des données numériques necessite la conversion des données en chaïne de caractère, ensuite les données doivent être reconverties en entiers ou réels apère la lecture.<p>\n",
    "Soit le fichier notesDesEleves.txt dont le contenu est :\n",
    "<P>\n",
    "Annie<P>\n",
    "14, 12, 8.5, 16, 9<P>\n",
    "Jourdain<P>\n",
    "10, 15, 17, 7.5, 11<P>\n",
    "...<P>\n",
    "...<P>\n",
    "\n",
    "Il s'agit des notes des élèves 'Annie' et 'Jourdain'. Nous allons créer un dictionnaire **notesDesEleves** à partir du fichier."
   ]
  },
  {
   "cell_type": "code",
   "execution_count": null,
   "metadata": {
    "collapsed": false
   },
   "outputs": [],
   "source": [
    "# voici la lecture d'un fichier structuré\n",
    "fichier = open(\"notesDesEleves.txt\",'r')\n",
    "notesDesEleves={}\n",
    "line = fichier.readline()\n",
    "while line != 'Eof' :\n",
    "    if line[0] == '#':\n",
    "        # dépasser les lignes commentées en tête du fichier \n",
    "        line =fichier.readline()\n",
    "        continue\n",
    "    if line[0].isalpha() :\n",
    "        # détecter les noms des elèves\n",
    "        cle = line\n",
    "        valeur = fichier.readline()\n",
    "        notesDesEleves[line] = valeur.split(sep=',')\n",
    "        print('cle est : ',cle,'\\t valeur est :',notesDesEleves[line])        \n",
    "    line = fichier.readline()\n",
    "fichier.close()\n",
    "print(\"le dictionnaire de notes : \",notesDesEleves)"
   ]
  },
  {
   "cell_type": "markdown",
   "metadata": {},
   "source": [
    "## Pickle\n",
    "La bibliothque **pickle** permet de stocker les variables de tout type dans un fichier. La restauration est facilitée grâce à cette bibliothèque. Voir l'exemple :"
   ]
  },
  {
   "cell_type": "code",
   "execution_count": null,
   "metadata": {
    "collapsed": false
   },
   "outputs": [],
   "source": [
    "import pickle as pcl\n",
    "fichier = open(\"newPickle\",'wb') # 'wb' signifie un fichier binaire\n",
    "tup1 = (1,2,3)\n",
    "lst1 = [1,2,3]\n",
    "di1 = {'a':12,'b':76,'t':91}\n",
    "a = 22\n",
    "p = 3.1415\n",
    "pcl.dump(tup1,fichier)\n",
    "pcl.dump(lst1,fichier)\n",
    "pcl.dump(di1,fichier)\n",
    "pcl.dump(a,fichier)\n",
    "pcl.dump(p,fichier)\n",
    "\n",
    "fichier.close()\n"
   ]
  },
  {
   "cell_type": "code",
   "execution_count": null,
   "metadata": {
    "collapsed": false
   },
   "outputs": [],
   "source": [
    "# la lecture :\n",
    "\n",
    "import pickle as pcl\n",
    "fichier = open(\"newPickle\",'rb')\n",
    "\n",
    "a = pcl.load(fichier)\n",
    "b = pcl.load(fichier)\n",
    "c = pcl.load(fichier)\n",
    "d = pcl.load(fichier)\n",
    "e = pcl.load(fichier)\n",
    "\n",
    "fichier.close()\n",
    "\n",
    "print(a,'\\n',b,'\\n',c,'\\n',d,'\\t',e)"
   ]
  },
  {
   "cell_type": "markdown",
   "metadata": {},
   "source": [
    "Pickle propose deux fonctions **dumps** et **loads** pour respectivement enregistrer blusieurs variables d'une seule fois et de lire tout le fichier en une seule fois."
   ]
  },
  {
   "cell_type": "markdown",
   "metadata": {},
   "source": [
    " "
   ]
  }
 ],
 "metadata": {
  "anaconda-cloud": {},
  "kernelspec": {
   "display_name": "Python [default]",
   "language": "python",
   "name": "python3"
  },
  "language_info": {
   "codemirror_mode": {
    "name": "ipython",
    "version": 3
   },
   "file_extension": ".py",
   "mimetype": "text/x-python",
   "name": "python",
   "nbconvert_exporter": "python",
   "pygments_lexer": "ipython3",
   "version": "3.5.2"
  }
 },
 "nbformat": 4,
 "nbformat_minor": 0
}
