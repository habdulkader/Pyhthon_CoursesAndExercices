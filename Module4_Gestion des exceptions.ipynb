{
 "cells": [
  {
   "cell_type": "markdown",
   "metadata": {},
   "source": [
    "<img src = \"Python_Icon.png\", width=300, height=300>"
   ]
  },
  {
   "cell_type": "markdown",
   "metadata": {},
   "source": [
    "# Gestion des exceptions\n",
    "par Dr. H. Abdulkader"
   ]
  },
  {
   "cell_type": "markdown",
   "metadata": {},
   "source": [
    "Programmeurs sont affrontés à utiliser des fichiers abadamment. Importer les données dans un programme ou stocker les résultats dans un fichier sont des tâches nien courantes.\n",
    "Python offre plusieurs possibilités pour travailler avec les fichiers, nous apprenons à manipuler les fichier de type txt.\n",
    "Créer un fichier ou ouvrir un fichier pour une lecture est simplifié grâce à la fonction open()"
   ]
  },
  {
   "cell_type": "code",
   "execution_count": null,
   "metadata": {
    "collapsed": false
   },
   "outputs": [],
   "source": [
    "fichier = open(\"nomDeFichier.txt\",'w') #'w' signifie l'écriture le fichier sera créé ou effacé\n",
    "type(fichier)"
   ]
  },
  {
   "cell_type": "markdown",
   "metadata": {},
   "source": [
    "**Ecriture dans un fichier texte :**\n",
    "Avant d'écrire les données dans un fichier, il faut savoir que ces données sont conservées comme un texte. L'écriture du fichier s'achève à la ligne **fichier.close()**"
   ]
  },
  {
   "cell_type": "code",
   "execution_count": null,
   "metadata": {
    "collapsed": false
   },
   "outputs": [],
   "source": [
    "fichier = open(\"nomDeFichier.txt\",'w')\n",
    "fichier.write(\"Bonjour M. 007\")\n",
    "fichier.write(\"voici votre mission:\")\n",
    "#fichier.write([700,56.0,145.0]) # cette ligne provoque une erreur: il faut chaine de caractères\n",
    "for k in range(5):\n",
    "    fichier.write(\"Go downtown \\t\\t turn left \\n\")\n",
    "fichier.close()"
   ]
  },
  {
   "cell_type": "markdown",
   "metadata": {},
   "source": [
    "**Lecture d'un fichier texte :**\n",
    "Après l'ouverture du fichier pour une lecture (option 'r'), nous lisons le fichier ligne par ligne en utilisant la méthode **fichier.readline()**. Il existe une méthode qui permet la lecture du fichier en une seule fois, il s'agit de **fichier.readlines()**. "
   ]
  },
  {
   "cell_type": "code",
   "execution_count": null,
   "metadata": {
    "collapsed": false
   },
   "outputs": [],
   "source": [
    "fichier = open('nomDeFichier.txt','r')\n",
    "for line in fichier :\n",
    "    print(line)\n",
    "    if not line:\n",
    "        break\n",
    "print(\"type de lines lisées :\", type(line))\n",
    "fichier.close() # Rappelez-vous de fermer toujours le fichier à la fin de traitement"
   ]
  },
  {
   "cell_type": "markdown",
   "metadata": {},
   "source": [
    "## Créer un fichier structuré\n",
    "Vous constatez que la première ligne n'est pas bien structurée. Trois lignes de code `fichier.write()` ont écrit sur la même ligne!. En réalité, la structure de données dans le fichier doit être décidée et conçue par le programmateur lui-même.\n",
    "Utiliser \"\\n\" pour sauter à une nouvelle ligne, \"\\t\" pour suater une tabulation, **+** pour concatener des chaines de caractères et insérer manuellement les séparateurs **',', ';', ' espace ', ':', etc."
   ]
  },
  {
   "cell_type": "code",
   "execution_count": null,
   "metadata": {
    "collapsed": false
   },
   "outputs": [],
   "source": [
    "# voici une écriture d'un fichier structuré\n",
    "fichier = open(\"registreDeMissions.txt\",'w')\n",
    "fichier.write(\"Bonjour M. 007,\\n\")\n",
    "fichier.write(\"Le monde a besoin de vous aujourd'hui plus que jamais..!! \\n\")\n",
    "fichier.write(\"voici votre {0} mission : \\n\".format('1er', '2em', '3em'))\n",
    "fichier.write(\"Allez chez {1} \\t, approtez {2} {0} \\n\".format('fleur', 'fleuriste', 'trois'))\n",
    "\n",
    "fichier.write(\"voici votre {1} mission : \\n\".format('1er', '2em', '3em'))\n",
    "fichier.write(\"Avancez dans {0} \\t attendez l'arrivée de {2} \\t donnez lui {1} \\n\".format(\n",
    "              'le parc', 'les fleurs' , 'Mme Lablonde', 'Mr. Lejardinier'))\n",
    "\n",
    "fichier.close()\n"
   ]
  },
  {
   "cell_type": "code",
   "execution_count": null,
   "metadata": {
    "collapsed": false
   },
   "outputs": [],
   "source": [
    "# voici la lecture :\n",
    "fichier = open('registreDeMissions.txt','r')\n",
    "for line in fichier :\n",
    "    print(line)\n",
    "    if not line:\n",
    "        break\n",
    "fichier.close() # Rappelez-vous de fermer toujours le fichier à la fin de traitement"
   ]
  },
  {
   "cell_type": "markdown",
   "metadata": {},
   "source": [
    "## Enregister des données numériques et structurées\n",
    "Nous avons constater que la méthode d'écriture précédente est appropriée au stockage de chaines de caractères. Enregistrer des données numériques necessite la conversion des données en chaïne de caractère, ensuite les données doivent être reconverties en entiers ou réels apère la lecture.<p>\n",
    "Soit le fichier notesDesEleves.txt dont le contenu est :\n",
    "<P>\n",
    "Annie<P>\n",
    "14, 12, 8.5, 16, 9<P>\n",
    "Jourdain<P>\n",
    "10, 15, 17, 7.5, 11<P>\n",
    "...<P>\n",
    "...<P>\n",
    "\n",
    "Il s'agit des notes des élèves 'Annie' et 'Jourdain'. Nous allons créer un dictionnaire **notesDesEleves** à partir du fichier."
   ]
  },
  {
   "cell_type": "code",
   "execution_count": null,
   "metadata": {
    "collapsed": false
   },
   "outputs": [],
   "source": [
    "# voici la lecture d'un fichier structuré\n",
    "fichier = open(\"notesDesEleves.txt\",'r')\n",
    "notesDesEleves={}\n",
    "line = fichier.readline()\n",
    "while line != 'Eof' :\n",
    "    if line[0] == '#':\n",
    "        # dépasser les lignes commentées en tête du fichier \n",
    "        line =fichier.readline()\n",
    "        continue\n",
    "    if line[0].isalpha() :\n",
    "        # détecter les noms des elèves\n",
    "        cle = line\n",
    "        valeur = fichier.readline()\n",
    "        notesDesEleves[line] = valeur.split(sep=',')\n",
    "        print('cle est : ',cle,'\\t valeur est :',notesDesEleves[line])        \n",
    "    line = fichier.readline()\n",
    "fichier.close()\n",
    "print(\"le dictionnaire de notes : \",notesDesEleves)"
   ]
  },
  {
   "cell_type": "markdown",
   "metadata": {},
   "source": [
    "## Pickle\n",
    "La bibliothque **pickle** permet de stocker les variables de tout type dans un fichier. La restauration est facilitée grâce à cette bibliothèque. Voir l'exemple :"
   ]
  },
  {
   "cell_type": "code",
   "execution_count": null,
   "metadata": {
    "collapsed": false
   },
   "outputs": [],
   "source": [
    "import pickle as pcl\n",
    "fichier = open(\"newPickle\",'wb') # 'wb' signifie un fichier binaire\n",
    "tup1 = (1,2,3)\n",
    "lst1 = [1,2,3]\n",
    "di1 = {'a':12,'b':76,'t':91}\n",
    "a = 22\n",
    "p = 3.1415\n",
    "pcl.dump(tup1,fichier)\n",
    "pcl.dump(lst1,fichier)\n",
    "pcl.dump(di1,fichier)\n",
    "pcl.dump(a,fichier)\n",
    "pcl.dump(p,fichier)\n",
    "\n",
    "fichier.close()\n"
   ]
  },
  {
   "cell_type": "code",
   "execution_count": null,
   "metadata": {
    "collapsed": false
   },
   "outputs": [],
   "source": [
    "# la lecture :\n",
    "\n",
    "import pickle as pcl\n",
    "fichier = open(\"newPickle\",'rb')\n",
    "\n",
    "a = pcl.load(fichier)\n",
    "b = pcl.load(fichier)\n",
    "c = pcl.load(fichier)\n",
    "d = pcl.load(fichier)\n",
    "e = pcl.load(fichier)\n",
    "\n",
    "fichier.close()\n",
    "\n",
    "print(a,'\\n',b,'\\n',c,'\\n',d,'\\t',e)"
   ]
  },
  {
   "cell_type": "markdown",
   "metadata": {},
   "source": [
    "Pickle propose deux fonctions **dumps** et **loads** pour respectivement enregistrer blusieurs variables d'une seule fois et de lire tout le fichier en une seule fois."
   ]
  },
  {
   "cell_type": "markdown",
   "metadata": {},
   "source": [
    " "
   ]
  },
  {
   "cell_type": "markdown",
   "metadata": {},
   "source": [
    "# Gestion d'exceptions"
   ]
  },
  {
   "cell_type": "markdown",
   "metadata": {},
   "source": [
    "Les exceptions sont les opérations qu’effectue un interpréteur ou un compilateur lorsqu’une erreur est détectée au cours de l’exécution d’un programme. En règle générale, l’exécution du programme est alors interrompue, et un message d’erreur est affiché. Exemple :"
   ]
  },
  {
   "cell_type": "code",
   "execution_count": null,
   "metadata": {
    "collapsed": false
   },
   "outputs": [],
   "source": [
    "a,b =3,0\n",
    "print(a/b) "
   ]
  },
  {
   "cell_type": "markdown",
   "metadata": {},
   "source": [
    "Le message d'erreur indique que l'origine de l'erreur est la division par zéro `ZeroDivisionError`. Voyons à présent quelles causes des erreurs :\n",
    "    + AssertionError : cetter erreur résult de la commande ** assert (une cond.)**\n",
    "    + AttributeError : sort lorque vous appliqer une fonction non appropriée au type de données\n",
    "    + ImportError : si vous essayer d'importer une bibliothèque qui n'existe pas\n",
    "    + IndentationError : une erreur d'indentation de votre code\n",
    "    + IndexError : l'itérable traité ne possède pas un élèment à l'indice donnée\n",
    "    + SyntaxError : erreur de syntaxe\n",
    "    + TypeError : erreur de type de donnée"
   ]
  },
  {
   "cell_type": "markdown",
   "metadata": {},
   "source": [
    "Dans beaucop de cas, il est possible de prévoir à l’avance certaines des erreurs qui risquent de se produire à tel ou tel endroit du programme et d’inclure à cet endroit des instructions particulières, qui seront activées seulement si ces erreurs se produisent. \n",
    "<p>\n",
    "Dans Python, il est possible d’associer un mécanisme de surveillance à tout un ensemble d’instructions, et donc de simplifié le traitement des erreurs qui peuvent se produire dans n’importe laquelle de ces instructions. L’ensemble d’instructions **try - except – else**, permettent d'intercepter une erreur et d’exécuter une portion de script spécifique de cette erreur."
   ]
  },
  {
   "cell_type": "code",
   "execution_count": null,
   "metadata": {
    "collapsed": false
   },
   "outputs": [],
   "source": [
    "# Exemple 1 :\n",
    "a , b = 3 , 0\n",
    "try:\n",
    "    print(a/b)\n",
    "except:\n",
    "    print(\"Warning : division par 0\")\n",
    "        "
   ]
  },
  {
   "cell_type": "code",
   "execution_count": null,
   "metadata": {
    "collapsed": false
   },
   "outputs": [],
   "source": [
    "# Exemple 2 :\n",
    "def inverseDe(a):\n",
    "    try:\n",
    "        1/a\n",
    "    except:\n",
    "        return(\"\\n \\t\\t Warning : division par 0\")\n",
    "    else : return(1/a)\n",
    "\n",
    "x = float(input('Entrer un nbre réel'))\n",
    "sortie = inverseDe(x)\n",
    "print(\"l'inverse de {} est : \".format(x), sortie)"
   ]
  },
  {
   "cell_type": "markdown",
   "metadata": {},
   "source": [
    "### Erreur de lecture de fichier\n",
    "Prévenir les erreurs et empêcher le programme de s'aarêter est un des devoirs du programmateur. Considérons le cas d'un programme qui ouvre un fichier; Il est possible que ce fichier soit supprimé ou déplacé ou tout simplement inéxistant pas. L'execution du programme s'arrête, et un message d'erreur s'affiche qui donne une alerte. Celà peut endommager la réputation du produit!.\n",
    "Le programmateur peut éviter ce genre de situation en prévoyant la possibilité de cet incident comme suit :"
   ]
  },
  {
   "cell_type": "code",
   "execution_count": null,
   "metadata": {
    "collapsed": false
   },
   "outputs": [],
   "source": [
    "fichier = input(\"Entrer le nom du fichier : \")\n",
    "try:\n",
    "    f = open(fichier, \"r\")\n",
    "except:\n",
    "    print(\"Le fichier\", fichier, \"est introuvable ...\")\n"
   ]
  },
  {
   "cell_type": "markdown",
   "metadata": {},
   "source": [
    "## Déclarer une erreur"
   ]
  },
  {
   "cell_type": "markdown",
   "metadata": {},
   "source": [
    "Python permet à l'utilisateur de personnaliser des message d'erreur. La commende qui permet de poser une erreur est **raise**. Voici un exemple :"
   ]
  },
  {
   "cell_type": "code",
   "execution_count": null,
   "metadata": {
    "collapsed": false
   },
   "outputs": [],
   "source": [
    "prix = float(input(\"Entrer le prix du portable en euro : --> \"))\n",
    "if prix > 700:\n",
    "    raise ValueError(\"ErrorClientEnColere\")"
   ]
  },
  {
   "cell_type": "code",
   "execution_count": null,
   "metadata": {
    "collapsed": false
   },
   "outputs": [],
   "source": [
    "# le mëme exemple avec assert\n",
    "prix = float(input(\"Entrer le prix du portable en euro : --> \"))\n",
    "assert (prix < 700)"
   ]
  },
  {
   "cell_type": "code",
   "execution_count": null,
   "metadata": {
    "collapsed": false
   },
   "outputs": [],
   "source": [
    "# mëme exemple avec try ... except ... finally\n",
    "prix = float(input(\"Entrer le prix du portable en euro : --> \"))\n",
    "try:\n",
    "    assert(prix < 700)\n",
    "except :\n",
    "    raise AssertionError(\"Budget Insuffisant\")\n",
    "finally :\n",
    "    print(\"Ouf !! \")"
   ]
  },
  {
   "cell_type": "code",
   "execution_count": null,
   "metadata": {
    "collapsed": true
   },
   "outputs": [],
   "source": []
  }
 ],
 "metadata": {
  "anaconda-cloud": {},
  "kernelspec": {
   "display_name": "Python [default]",
   "language": "python",
   "name": "python3"
  },
  "language_info": {
   "codemirror_mode": {
    "name": "ipython",
    "version": 3
   },
   "file_extension": ".py",
   "mimetype": "text/x-python",
   "name": "python",
   "nbconvert_exporter": "python",
   "pygments_lexer": "ipython3",
   "version": "3.5.2"
  }
 },
 "nbformat": 4,
 "nbformat_minor": 0
}
