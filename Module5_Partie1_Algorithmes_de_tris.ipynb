{
 "cells": [
  {
   "cell_type": "markdown",
   "metadata": {},
   "source": [
    "<img src = \"Python_Icon.png\", width=300, height=300>"
   ]
  },
  {
   "cell_type": "markdown",
   "metadata": {},
   "source": [
    "# Algorithmes de tri et de recherche\n",
    "par Dr. H. Abdulkader"
   ]
  },
  {
   "cell_type": "markdown",
   "metadata": {},
   "source": [
    "L'art de l'algorithmique consiste à trouver les algorithmes les plus performants. En général il s'agit des plus rapides, mais cela peut aussi être les moins gourmand en mémoire ou ceux qui se parallélisent le mieux. On peut aussi se focaliser sur le comportement moyen de l'algorithme ou son comportement dans le pire des cas.\n",
    "\n",
    "Quoi qu'il en soit, pour écrire un algorithme performant, il faut savoir l'analyser. La première étape consiste à calculer sa compléxité à savoir le nombre d'opérations qu'il nécessite en fonction de la taille des données.\n",
    "\n",
    "Exemple :\n",
    "\n",
    "    for i in range(N):\n",
    "      res += i\n",
    "   \n",
    "est un programme qui exécute `+=` N fois donc en autant opérations qu'il y a de données. Il est dit __linéaire__.\n",
    "\n",
    "    l1 = [1,2,3,4,5,6,7,8,9]\n",
    "    for i in range(len(l1)):\n",
    "      for j in range(len(l1)):\n",
    "        l1[i] += 2\n",
    "       \n",
    "est un programme en N² opérations (avec `N = len(l1)`). Il est dit __quadratique__."
   ]
  },
  {
   "cell_type": "markdown",
   "metadata": {},
   "source": [
    "## Examples de complexité de calcul\n",
    "<p>\n",
    "O(1) fois\n",
    " 1. Acceder à un indice dans un tableau ou liste ( a = lst[5] )\n",
    " 2. Insertion an élément dans un tableau\n",
    " 3. Insertion et suppression d'un élément de queue\n",
    " 4. ...\n",
    "\n",
    "O(n) fois\n",
    " 1. Survoler un tableau ou une liste\n",
    " 2. Recherche linéaire\n",
    " 3. Deletion d'un élément particulier dans une liste non mise en ordre\n",
    " 4. Comparaison de deux chaînes de caractères\n",
    " 5. ...\n",
    "\n",
    "O(log n) fois\n",
    " 1. Algorithmes de recherche binaires et linéaires\n",
    " 2. Trouver la valeur Max ou Min par la méthode de recherche binaire\n",
    " 3. Algorithmes de diviser pour régner linéaire\n",
    " 4. ...\n",
    "\n",
    "O(nlogn) fois\n",
    " 1. Tri par fusion \n",
    " 2. Tri rapid\n",
    " 3. Algorithmes d'optimization O(n^2) basés sur la méthode de diviser pour régner \n",
    " 4. ...\n",
    "\n",
    "O(n^2) fois\n",
    " 1. Tri de Bulle \n",
    " 2. Tri par Insertion \n",
    " 3. Tri par Selection \n",
    " 4. Exploration de tableaux de 2D\n",
    " 5. ...\n",
    " <p>\n",
    " <p>\n",
    "(cf. https://fr.wikipedia.org/wiki/Analyse_de_la_complexit%C3%A9_des_algorithmes )"
   ]
  },
  {
   "cell_type": "markdown",
   "metadata": {},
   "source": [
    "## Algorithmes de tri"
   ]
  },
  {
   "cell_type": "markdown",
   "metadata": {},
   "source": [
    "Le but est de trier un grand tableau de nombre aléatoire de différentes façon et de calculer laquelle est la plus rapide."
   ]
  },
  {
   "cell_type": "code",
   "execution_count": null,
   "metadata": {
    "collapsed": false
   },
   "outputs": [],
   "source": [
    "import numpy.random as rnd\n",
    "Len = 12   # longueur de liste\n",
    "N = 10     # intervalle des valeur aléatoires [0,N-1]\n",
    "# generer une liste de Len entiers tirés aléatoirement de l'intervalle [0,N-1]\n",
    "data = list(rnd.randint(N,size=Len))\n",
    "print('liste originale : ',data)\n",
    "data.sort()     # pour mettre en ordre croissant\n",
    "print('liste en ordre croissant : ',data)\n",
    "data.reverse()\n",
    "print('liste en ordre decroissant : ',data)     # pour mettre en ordre decroissant"
   ]
  },
  {
   "cell_type": "markdown",
   "metadata": {},
   "source": [
    "**Dans la littérature, il existe un grand nombre d'algorithmes de tri. Nous nous intéressons à 4 méthodes parmi elles :**\n",
    "+ Tri par selection (ou permutation)\n",
    "+ Tri par insertion\n",
    "+ Tri à bulle\n",
    "+ Tri rapid  "
   ]
  },
  {
   "cell_type": "markdown",
   "metadata": {},
   "source": [
    "### Tri par permutation"
   ]
  },
  {
   "cell_type": "markdown",
   "metadata": {},
   "source": [
    "Le tri par permutation parcourt tous les éléments dans l'ordre pour trouver la valzur minimale (ou maximale) afin de permuter cette valeur avec la valeur qui occupe la position. La valeur dans la position k est la valeur minimale (ou maximale) parmi les valeur de rang 0 jusqu'à rang (k).\n",
    "<p>\n",
    "Si on ne parcourt qu'une seule fois la liste, cela ne suffit pas. \n",
    "<p>\n",
    "Ecrire la fonction triParPermutation(tableau)"
   ]
  },
  {
   "cell_type": "code",
   "execution_count": null,
   "metadata": {
    "collapsed": false
   },
   "outputs": [],
   "source": [
    "import numpy\n",
    "import numpy.random as rnd\n",
    "Len = 12   # longueur de liste\n",
    "N = 10     # intervalle des valeur aléatoires [0,N-1]\n",
    "# generer une liste de Len entiers tirés aléatoirement de l'intervalle [0,N-1]\n",
    "data = list(rnd.randint(N,size=Len))\n",
    "print('liste originale : ',data)\n",
    "for j in range(Len):\n",
    "    enOrdre = True \n",
    "    positionMax = Len - 1 - j\n",
    "    maximale = data[positionMax]\n",
    "    for i in range(Len - 1 - j):\n",
    "        if maximale < data[i] :\n",
    "            positionMax = i\n",
    "            maximale = data[i]\n",
    "    data[Len - 1 - j],data[positionMax] = data[positionMax], data[Len - 1 - j]\n",
    "    print('Etape {} : '.format(j+1),data)\n",
    "    \n",
    "print('liste  en ordre croissant : ',data)\n",
    "data.reverse()\n",
    "print('liste  en ordre decroissant : ',data)"
   ]
  },
  {
   "cell_type": "markdown",
   "metadata": {},
   "source": [
    "<img src = \"Sort_Selection.png\", width=30, height=30>"
   ]
  },
  {
   "cell_type": "markdown",
   "metadata": {},
   "source": [
    "### Tri par insertion"
   ]
  },
  {
   "cell_type": "raw",
   "metadata": {},
   "source": [
    "Le tri par insertion parcourt tous les éléments dans l'ordre et si l'élément en position k est plus petit que ses précédents, alors on l'insert dans l'ordre.\n",
    "\n",
    "Si l'on ne parcourt qu'une seule fois la liste, cela ne suffit pas. \n",
    "\n",
    "Ecrire la fonction triParInsertion(liste) :"
   ]
  },
  {
   "cell_type": "code",
   "execution_count": null,
   "metadata": {
    "collapsed": false
   },
   "outputs": [],
   "source": [
    "import numpy.random as rnd\n",
    "Len = 12   # longueur de liste\n",
    "N = 10     # intervalle des valeur aléatoires [0,N-1]\n",
    "data = list(rnd.randint(N,size=Len)) \n",
    "print('liste originale : ',data)\n",
    "for j in range (Len): \n",
    "  for i in range(j) :\n",
    "    if data[j] < data[i] :\n",
    "        data.insert(i,data.pop(j))\n",
    "  print('Etape {} : '.format(j), data)\n",
    "print('liste  en ordre croissant : ',data)"
   ]
  },
  {
   "cell_type": "markdown",
   "metadata": {},
   "source": [
    "<img src = \"Sort_Insertion.png\", width=30, height=30>"
   ]
  },
  {
   "cell_type": "markdown",
   "metadata": {},
   "source": [
    "### Tri à bulle"
   ]
  },
  {
   "cell_type": "raw",
   "metadata": {},
   "source": [
    "gLe tri à bulle parcourt tous les éléments dans l'ordre et si l'élément est plus grand que son suivant, alors on les permute.\n",
    "<p>\n",
    "Si on ne parcourt qu'une seule fois la liste, cela ne suffit pas. \n",
    "<p>\n",
    "Ecrire la fonction triABulle(liste):"
   ]
  },
  {
   "cell_type": "code",
   "execution_count": null,
   "metadata": {
    "collapsed": false
   },
   "outputs": [],
   "source": [
    "import numpy.random as rnd\n",
    "Len = 12   # longueur de liste\n",
    "N = 10     # intervalle des valeur aléatoires [0,N-1]\n",
    "# generer une liste de Len entiers tirés aléatoirement de l'intervalle [0,N-1]\n",
    "data = rnd.randint(N,size=Len)   \n",
    "print(\"liste originale\", data)\n",
    "for j in range (Len):\n",
    "    enOrdre = True \n",
    "    for i in range(1,Len-j) :\n",
    "        if data[i-1] > data[i] :\n",
    "            data[i-1], data[i] = data[i], data[i-1]\n",
    "            enOrdre = False\n",
    "    print('Etape {} : '.format(j), data)\n",
    "    if enOrdre :\n",
    "        break\n",
    "print('liste  en ordre croissant : ',data)"
   ]
  },
  {
   "cell_type": "markdown",
   "metadata": {},
   "source": [
    "### Diviser pour régner\n",
    "Un problème complexe peut-être diviser en plusieurs problèmes plus simple. La solution finale est la somme (cobinaison) des solutions parielles."
   ]
  },
  {
   "cell_type": "markdown",
   "metadata": {},
   "source": [
    "<img src = \"Sort_Divide.png\", width=50, height=50>"
   ]
  },
  {
   "cell_type": "markdown",
   "metadata": {},
   "source": [
    "### Tri rapide (Quicksort in English)\n",
    "Cet algorithme est basé sur le principe dit **diviser pour régner (divide and conquer en anglais)**."
   ]
  },
  {
   "cell_type": "markdown",
   "metadata": {},
   "source": [
    "Le tri rapide consiste à choisir un pivot et à mettre tous les éléments plus petit que le pivot dans une première partie de la liste et tous les plus grands dans la seconde partie.\n",
    "\n",
    "     [5, 4, 9, 6, 4, 7, 8, 4, 9, 2, 1]\n",
    "\n",
    "Choisissons comme pivot la valeur au mileu à savoir la 5e c.a.d. 8. Je parcours mes données et je place les éléments en fonction de leur valeur. Cela donne :\n",
    "\n",
    "     [5, 4, 6, 4, 4, 2, 1]  7  [9, 8, 9]\n",
    "\n",
    "maintenant il ne me reste plus qu'à trier le deux listes (par récursivité bien sûr).\n",
    "\n",
    "Ecrire la fonction **deviserPourReigner(liste)**"
   ]
  },
  {
   "cell_type": "code",
   "execution_count": null,
   "metadata": {
    "collapsed": false
   },
   "outputs": [],
   "source": [
    "import numpy.random as rnd\n",
    "\n",
    "def deviserPourReigner(lst):\n",
    "    if len(lst) <2 :\n",
    "        return lst     \n",
    "    pivot = lst[len(lst)//2]\n",
    "    print('Element de milieu : ',pivot)\n",
    "    lst1 = list(filter(lambda x : x < pivot ,   lst))\n",
    "    print('liste inferieur à pivot : ',lst1)\n",
    "    lst2 = list(filter(lambda x : x > pivot ,   lst))\n",
    "    print('liste superieur à pivot : ',lst2)\n",
    "    lst3 = list(filter(lambda x : x == pivot ,   lst))\n",
    "    print('liste egale à pivot : ',lst3)\n",
    "    if len(lst1) > 0 and len(lst2) > 0 :\n",
    "        return [deviserPourReigner(lst1), lst3, deviserPourReigner(lst2)]\n",
    "    elif len(lst1)==0 and len(lst2)!=0:\n",
    "        return [ lst3, deviserPourReigner(lst2)]\n",
    "    elif len(lst1)!=0 and len(lst2)==0:\n",
    "        return [deviserPourReigner(lst1), lst3]\n",
    "    else:\n",
    "        return lst3\n",
    "Len = 12   # longueur de liste\n",
    "N = 10     # intervalle des valeur aléatoires [0,N]\n",
    "data = list(rnd.randint(N,size=Len))\n",
    "print(data)\n",
    "res = deviserPourReigner(data)\n",
    "print(res)"
   ]
  },
  {
   "cell_type": "markdown",
   "metadata": {},
   "source": [
    "### Exercice : calcul de la durée d'execution"
   ]
  },
  {
   "cell_type": "markdown",
   "metadata": {},
   "source": [
    "Calculez la complexité du tri à bulle et du tri rapide. \n",
    "\n",
    "Pour valider vos résultats vous pouvez chronométrer vos programmes avec la fonction de `time` de Python"
   ]
  },
  {
   "cell_type": "code",
   "execution_count": null,
   "metadata": {
    "collapsed": false
   },
   "outputs": [],
   "source": [
    "import time \n",
    "\n",
    "start = time.time()\n",
    "res = 0                 # mettre votre code entre start et stop\n",
    "for i in range(1000):\n",
    "    res += i**2 + 3.0/2\n",
    "stop =  time.time()\n",
    "duree = stop - start\n",
    "print('la duree est : ', duree)"
   ]
  },
  {
   "cell_type": "code",
   "execution_count": null,
   "metadata": {
    "collapsed": false
   },
   "outputs": [],
   "source": [
    "# dans notebook, il y a la fonction timeit qui donne une estimation precise\n",
    "# après plusiers repetition du code\n",
    "%%timeit\n",
    "res = 0                 # mettre votre code entre start et stop\n",
    "for i in range(1000):\n",
    "    res += i**2 + 3.0/2\n"
   ]
  },
  {
   "cell_type": "markdown",
   "metadata": {},
   "source": [
    "### Comment utiliser la méthode sort() ?"
   ]
  },
  {
   "cell_type": "markdown",
   "metadata": {},
   "source": [
    "Dans un exemple plus haut, nous avons montré l'usage de cette méthode au tri en ordre croissant ou décroissant d'une liste. Nous allons, à présent, découvrir davantage sur cette méthode."
   ]
  },
  {
   "cell_type": "code",
   "execution_count": null,
   "metadata": {
    "collapsed": false
   },
   "outputs": [],
   "source": [
    "help(list.sort)  # sort seulement suffit avec iPython mais pas avec Python"
   ]
  },
  {
   "cell_type": "markdown",
   "metadata": {
    "collapsed": false
   },
   "source": [
    "Sort accepte deux paramètres optionnels : key et reverse.\n",
    "Sans ses paramètres, ``sort`` permet de mettre en ordre croissant une liste. Or, le paramètre **reverse = True** permet la mise en ordre décroissant. "
   ]
  },
  {
   "cell_type": "code",
   "execution_count": null,
   "metadata": {
    "collapsed": false
   },
   "outputs": [],
   "source": [
    "lst1 = [1,2,7,0,4]\n",
    "lst2 = lst1.copy()\n",
    "lst1.sort()\n",
    "lst2.sort(reverse=True)\n",
    "print(lst1)\n",
    "print(lst2)"
   ]
  },
  {
   "cell_type": "markdown",
   "metadata": {},
   "source": [
    "Le deuxième paramètre, **`key`**, permet de selectionner un critère specifique pour la mise en ordre. Cette clé est implémentée sous une fonction."
   ]
  },
  {
   "cell_type": "code",
   "execution_count": null,
   "metadata": {
    "collapsed": false
   },
   "outputs": [],
   "source": [
    "def distanceCarree(a):\n",
    "    \"\"\" calcul la distance depuis l'origine (0,0) \"\"\"\n",
    "    return a[0]**2 + a[1]**2\n",
    "lst = [(1,1),(0,2),(2,2),(1,2),(0,0),(1,0)]\n",
    "lst.sort(key=distanceCarree, reverse = True)\n",
    "print(lst)"
   ]
  },
  {
   "cell_type": "markdown",
   "metadata": {},
   "source": [
    "## Fonction lambda\n",
    "La fonction lambda est une fonction **anonyme** utilisée pour exprimer des courtes fonctions qui ne dépasse pas une ligne. Cette fonction est très utile quand nous voulons passer une fonction comme argumet dans une autre fonction."
   ]
  },
  {
   "cell_type": "code",
   "execution_count": null,
   "metadata": {
    "collapsed": false
   },
   "outputs": [],
   "source": [
    "#Exemple de la fonction lambda\n",
    "f = lambda x,y : x+y\n",
    "print(f(5,8))"
   ]
  },
  {
   "cell_type": "code",
   "execution_count": null,
   "metadata": {
    "collapsed": false
   },
   "outputs": [],
   "source": [
    "#usage de la fonction lambda comme un argument\n",
    "def accumuler(g,lst):\n",
    "    somme = 0\n",
    "    accumuls = []\n",
    "    for k in lst:\n",
    "        somme += g(k)\n",
    "        accumuls.append(somme)\n",
    "    return accumuls\n",
    "\n",
    "liste = list(range(8))\n",
    "g = lambda x : x**3\n",
    "f  = lambda x : x**5\n",
    "print('list entree : ',liste)\n",
    "print('liste de cubes cumules : ',accumuler(g,liste))\n",
    "print('liste de puissance 5 cumules : ',accumuler(f,liste))"
   ]
  },
  {
   "cell_type": "markdown",
   "metadata": {},
   "source": [
    "## Fonctions map et filter\n",
    "la fonction lambda est souvent utilisée comme argment des fonctions **map** et **filter**\n",
    "La fonction map permet de générer une liste (ou un itérable) dont les éléments obeissent à une régle donnée.\n",
    "La fonction filter permet d'extraire les éléments d'une liste qui satisfont une régle donnée.\n",
    "Voir les deux exemple ci-dessous :"
   ]
  },
  {
   "cell_type": "code",
   "execution_count": null,
   "metadata": {
    "collapsed": false
   },
   "outputs": [],
   "source": [
    "# Ex1:\n",
    "from math import sin\n",
    "b = range(5,15,2)\n",
    "a = range(15,5,-2)\n",
    "f = lambda x,y : x*(1+y)\n",
    "lst = list(map(f, a, b))\n",
    "print(lst)"
   ]
  },
  {
   "cell_type": "code",
   "execution_count": null,
   "metadata": {
    "collapsed": false
   },
   "outputs": [],
   "source": [
    "#Ex2:\n",
    "a = range(5,20,2)\n",
    "f = lambda x : (x**2>100)\n",
    "lst = list(filter(f, a))\n",
    "print(lst)"
   ]
  },
  {
   "cell_type": "markdown",
   "metadata": {},
   "source": [
    "## Appliquer la fonction lambda avec la méthode sort."
   ]
  },
  {
   "cell_type": "code",
   "execution_count": null,
   "metadata": {
    "collapsed": false
   },
   "outputs": [],
   "source": [
    "distanceCarree = lambda a : a[0]**2 + a[1]**2\n",
    "lst = [(1,1),(0,2),(2,2),(1,2),(0,0),(1,0)]\n",
    "lst.sort(key=distanceCarree, reverse = True)\n",
    "print(lst)"
   ]
  },
  {
   "cell_type": "code",
   "execution_count": null,
   "metadata": {
    "collapsed": false
   },
   "outputs": [],
   "source": [
    "distanceCarree = lambda a : a[0]**2 + a[1]**2\n",
    "lst = [(1,1),(0,2),(2,2),(1,2),(0,0),(1,0)]\n",
    "lst.sort(key=distanceCarree)# ordre croissant\n",
    "print(lst)"
   ]
  },
  {
   "cell_type": "code",
   "execution_count": null,
   "metadata": {
    "collapsed": true
   },
   "outputs": [],
   "source": []
  }
 ],
 "metadata": {
  "anaconda-cloud": {},
  "celltoolbar": "Raw Cell Format",
  "kernelspec": {
   "display_name": "Python [default]",
   "language": "python",
   "name": "python3"
  },
  "language_info": {
   "codemirror_mode": {
    "name": "ipython",
    "version": 3
   },
   "file_extension": ".py",
   "mimetype": "text/x-python",
   "name": "python",
   "nbconvert_exporter": "python",
   "pygments_lexer": "ipython3",
   "version": "3.5.2"
  }
 },
 "nbformat": 4,
 "nbformat_minor": 0
}
