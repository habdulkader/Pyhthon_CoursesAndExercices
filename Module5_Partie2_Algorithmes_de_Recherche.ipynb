{
 "cells": [
  {
   "cell_type": "markdown",
   "metadata": {},
   "source": [
    "<img src = \"Python_Icon.png\", width=300, height=300>"
   ]
  },
  {
   "cell_type": "markdown",
   "metadata": {},
   "source": [
    "# Algorithmes de recherche\n",
    "par Dr. H. Abdulkader"
   ]
  },
  {
   "cell_type": "markdown",
   "metadata": {},
   "source": [
    "## Algorithmes de Recherche\n",
    "Rechercher l'existance d'une valeur dans une liste et déterminer son indice est une problèmatique courante. Nous donnons dans cette section quelques méthodes utlisées à la fouille dans une liste (plus généralement un itérable : tuple ou dictionnaire, etc.)"
   ]
  },
  {
   "cell_type": "markdown",
   "metadata": {},
   "source": [
    "### Recherche séquentielle dite naïve\n",
    "Vous constater l'avantage de cette méthode par rapport à la méthode de recherche naïve séquentielle suivant :"
   ]
  },
  {
   "cell_type": "code",
   "execution_count": 27,
   "metadata": {
    "collapsed": false
   },
   "outputs": [
    {
     "name": "stdout",
     "output_type": "stream",
     "text": [
      "Element recherche est :  77\n",
      "nombre de teste est :  38\n"
     ]
    }
   ],
   "source": [
    "lst = list(range(1,100,2))\n",
    "# x = int(input(\"entrer l'entier que vous chercher, entre 0 et 99\"))\n",
    "x=77\n",
    "for valeur in lst :\n",
    "    if valeur == x:\n",
    "        indice =lst.index(valeur)\n",
    "        break\n",
    "print('Element recherche est : ',lst[indice])   \n",
    "print('nombre de teste est : ', indice)"
   ]
  },
  {
   "cell_type": "markdown",
   "metadata": {},
   "source": [
    "### Recherche par la méthode diviser pour régner\n",
    "Lorsque la liste n'est pas en ordre, il est recommendé de commenser par la mise en ordre. Si pour une raison ou autre, on décide ne pas modifier l'ordre de la liste, on peut fouiller dans la liste par la méthode naïve qui est, hélas, très lente.\n",
    "La téchnique de \"**diviser pour régner**\" permet de paralleliser la fouille dans des listes partielles dérivées de la liste d'origine. Cette méthode est plus complexe car nécessite la gestion de plusieurs sous liste, en revanche elle permet d'accelerer considérablement la recherche. Voir l'exemple :"
   ]
  },
  {
   "cell_type": "code",
   "execution_count": 29,
   "metadata": {
    "collapsed": false
   },
   "outputs": [
    {
     "name": "stdout",
     "output_type": "stream",
     "text": [
      "Element recherche est :  77\n",
      "Indice recherche est :  38\n",
      "nombre de teste est :  6\n"
     ]
    }
   ],
   "source": [
    "lst = list(range(1,100,2))\n",
    "# x = int(input(\"entrer l'entier que vous chercher, entre 0 et 99\"))\n",
    "x=77\n",
    "Len = len(lst)//3\n",
    "indice10 , indice20 , indice30 = 0 , Len, 2*Len\n",
    "for k in range(Len) :\n",
    "    if lst[indice10+k] == x :\n",
    "        indice = indice10+k\n",
    "        valeur = lst[indice10+k]\n",
    "        break\n",
    "    elif lst[indice20+k] == x :\n",
    "        indice = indice20+k\n",
    "        valeur = lst[indice20+k]\n",
    "        break\n",
    "    elif lst[indice30+k] == x :\n",
    "        indice = indice30+k\n",
    "        valeur = lst[indice30+k]\n",
    "        break\n",
    "print('Element recherche est : ',valeur) \n",
    "print('Indice recherche est : ',indice) \n",
    "print('nombre de teste est : ', k)"
   ]
  },
  {
   "cell_type": "markdown",
   "metadata": {},
   "source": [
    "### Algorithme de l'arbre binaire\n",
    "Un avantage majeur de la mise en ordre des listes est la facilité de recherche. L'arbre binaire est une méthode très efficace de recherche dans une liste en ordre croissant(ou décroissant).\n",
    "Le principe de cet algorithme est de tester le médian de la liste, si l'élément recherché se trouve au-delà du médian en teste le médian de la partie supérieure.\n",
    "Soit lst = [n1,n2,n3, ..., n[len/2], ..., n[len]). Si le nombre recherché m>n[len/2], on passe directement à tester m>n[3/4len]. Cette procedure se répète jusqu'à la trouvaille du terme recherché. Voir l'exemple :"
   ]
  },
  {
   "cell_type": "code",
   "execution_count": 100,
   "metadata": {
    "collapsed": false
   },
   "outputs": [
    {
     "name": "stdout",
     "output_type": "stream",
     "text": [
      "Element recherche est :  21\n",
      "Element trouve est :  21\n",
      "nombre de teste est :  4\n"
     ]
    }
   ],
   "source": [
    "lst = list(range(1,100,2))\n",
    "# x = int(input(\"entrer l'entier que vous chercher, entre 0 et 99\"))\n",
    "from random import randint\n",
    "x= 2 * randint(0,49) +1\n",
    "infLimit , supLimit = 0 , len(lst)\n",
    "indice  = (infLimit+supLimit)//2 \n",
    "valeur =  lst[indice]\n",
    "found = False   # résultat de recherche ; initialization\n",
    "k = 0           # no. d'itération\n",
    "while (not found and k<100) :\n",
    "    if valeur == x:\n",
    "        found = True\n",
    "        break\n",
    "    elif valeur < x :\n",
    "        infLimit = indice\n",
    "    else :\n",
    "        supLimit = indice\n",
    "    indice = (infLimit+supLimit)//2\n",
    "    valeur = lst[indice]\n",
    "    k+=1\n",
    "print('Element recherche est : ',x)\n",
    "print('Element trouve est : ',valeur)\n",
    "print('nombre de teste est : ', k)"
   ]
  },
  {
   "cell_type": "markdown",
   "metadata": {},
   "source": [
    "### Méthodes de recherche de Python\n",
    "Python propose des méthodes de fouille propres à chaque type de données.\n",
    "Pour une liste, utiliser **lst.index(valeur)**, pour un tuple utiliser **tup.index(valeur)** et pour une chaîne de caractère utiliser utiliser **ch.find(caracter)**. \n",
    "Pour un dictionnaire, la fouille dans les clés s'applique sur une liste de clés **list(di.keys())** et la fouille dans les valeurs s'applique sur la liste des valeurs **list(di.values())**.\n",
    "Python propose une façon très pratique pour détecter l'existence (ou l'absence) d'une valeur dans un itérabel :\n",
    "**if vleur in iterable:** ou **if vleur not in iterable:**. Voir les exemples :"
   ]
  },
  {
   "cell_type": "code",
   "execution_count": 32,
   "metadata": {
    "collapsed": false
   },
   "outputs": [
    {
     "name": "stdout",
     "output_type": "stream",
     "text": [
      "la position de e :  2\n",
      "la position de 3 :  2\n",
      "la position de 3 :  2\n",
      "True\n",
      "True\n",
      "True\n"
     ]
    }
   ],
   "source": [
    "ch = 'azerty'\n",
    "print('la position de e : ',ch.find('e'))\n",
    "tup = tuple(ch)\n",
    "print('la position de 3 : ', tup.index('e'))\n",
    "lst = list(ch)\n",
    "print('la position de 3 : ', lst.index('e'))\n",
    "di = {1 : 'A' , 2 : 'B' , 3 : 'C' , 4 : 'D'}\n",
    "print(2 in di)\n",
    "print('B' in di.values())\n",
    "print(6 not in di.keys())"
   ]
  },
  {
   "cell_type": "code",
   "execution_count": null,
   "metadata": {
    "collapsed": true
   },
   "outputs": [],
   "source": []
  }
 ],
 "metadata": {
  "anaconda-cloud": {},
  "celltoolbar": "Raw Cell Format",
  "kernelspec": {
   "display_name": "Python [default]",
   "language": "python",
   "name": "python3"
  },
  "language_info": {
   "codemirror_mode": {
    "name": "ipython",
    "version": 3
   },
   "file_extension": ".py",
   "mimetype": "text/x-python",
   "name": "python",
   "nbconvert_exporter": "python",
   "pygments_lexer": "ipython3",
   "version": "3.5.2"
  }
 },
 "nbformat": 4,
 "nbformat_minor": 0
}
