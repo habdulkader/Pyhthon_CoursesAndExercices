{
 "cells": [
  {
   "cell_type": "markdown",
   "metadata": {},
   "source": [
    "<img src = \"Python_Icon.png\", width=300, height=300>"
   ]
  },
  {
   "cell_type": "markdown",
   "metadata": {},
   "source": [
    "# PROGRAMMATION ORIENTEE OBJETS\n",
    "par Dr. Abdulkader"
   ]
  },
  {
   "cell_type": "markdown",
   "metadata": {},
   "source": [
    "Le language python est un langage orienté objet, Nous avons auparavent utilisé PYTHON comme un langage de programmation imperative (ou procedurale), pour écrire des codes et des algorithmes, sans se soucier trop de la nature d'objets que representaient les variables. "
   ]
  },
  {
   "cell_type": "code",
   "execution_count": 1,
   "metadata": {
    "collapsed": false
   },
   "outputs": [
    {
     "name": "stdout",
     "output_type": "stream",
     "text": [
      "['ArithmeticError', 'AssertionError', 'AttributeError', 'BaseException', 'BlockingIOError', 'BrokenPipeError', 'BufferError', 'BytesWarning', 'ChildProcessError', 'ConnectionAbortedError', 'ConnectionError', 'ConnectionRefusedError', 'ConnectionResetError', 'DeprecationWarning', 'EOFError', 'Ellipsis', 'EnvironmentError', 'Exception', 'False', 'FileExistsError', 'FileNotFoundError', 'FloatingPointError', 'FutureWarning', 'GeneratorExit', 'IOError', 'ImportError', 'ImportWarning', 'IndentationError', 'IndexError', 'InterruptedError', 'IsADirectoryError', 'KeyError', 'KeyboardInterrupt', 'LookupError', 'MemoryError', 'NameError', 'None', 'NotADirectoryError', 'NotImplemented', 'NotImplementedError', 'OSError', 'OverflowError', 'PendingDeprecationWarning', 'PermissionError', 'ProcessLookupError', 'RecursionError', 'ReferenceError', 'ResourceWarning', 'RuntimeError', 'RuntimeWarning', 'StopAsyncIteration', 'StopIteration', 'SyntaxError', 'SyntaxWarning', 'SystemError', 'SystemExit', 'TabError', 'TimeoutError', 'True', 'TypeError', 'UnboundLocalError', 'UnicodeDecodeError', 'UnicodeEncodeError', 'UnicodeError', 'UnicodeTranslateError', 'UnicodeWarning', 'UserWarning', 'ValueError', 'Warning', 'WindowsError', 'ZeroDivisionError', '__IPYTHON__', '__IPYTHON__active', '__build_class__', '__debug__', '__doc__', '__import__', '__loader__', '__name__', '__package__', '__spec__', 'abs', 'all', 'any', 'ascii', 'bin', 'bool', 'bytearray', 'bytes', 'callable', 'chr', 'classmethod', 'compile', 'complex', 'copyright', 'credits', 'delattr', 'dict', 'dir', 'divmod', 'dreload', 'enumerate', 'eval', 'exec', 'filter', 'float', 'format', 'frozenset', 'get_ipython', 'getattr', 'globals', 'hasattr', 'hash', 'help', 'hex', 'id', 'input', 'int', 'isinstance', 'issubclass', 'iter', 'len', 'license', 'list', 'locals', 'map', 'max', 'memoryview', 'min', 'next', 'object', 'oct', 'open', 'ord', 'pow', 'print', 'property', 'range', 'repr', 'reversed', 'round', 'set', 'setattr', 'slice', 'sorted', 'staticmethod', 'str', 'sum', 'super', 'tuple', 'type', 'vars', 'zip']\n"
     ]
    }
   ],
   "source": [
    "# pour commencer, Il faut rappeler les fonctions, classes, méthodes,...,\n",
    "# de base dans python :\n",
    "print(dir(__builtin__))"
   ]
  },
  {
   "cell_type": "markdown",
   "metadata": {},
   "source": [
    "Nous ne croyons pas que cette liste minime contient toute les fonctions du langage Python. D'ailleurs beeaucoups de fonctions que nous avons utilisées auparavant ne figurent pas dans cette liste. Vous pouvez chercher **append, pop, insert, ...**. Nous allons découvrir dans la suite que beaucoup de fonctoins que nous utilisons sont des fonctionsencapsulées dans la variable qui est un objet en fait.\n",
    "Nous apprenons des principes de la programmation orientée objet (object oriented programming). Les sujets majeurs de ce cours sont :\n",
    "        + Qu'est-ce que c'est une class? un objet?\n",
    "        + Création de class\n",
    "        + Héritage\n",
    "        + Création des méthodes dans une class, les attributs\n",
    "        + Encapsulation\n",
    "        + méthodes publiques et méthodes privées\n",
    "        + Quelques méthodes privée important (les méthodes primitives)\n",
    "        + Polymorphisme\n",
    "        + Des exemples"
   ]
  },
  {
   "cell_type": "markdown",
   "metadata": {},
   "source": [
    "pour **DEFINITION D'OBJET :**\n",
    "<p>\n",
    "Un objet en programmation est une association des fonctions et des variables à un type de données. Prenons l'exemple concret des listes; Lorsque l'on écrit le code `print(dir(list))` on découvre un ensemble de fonctions comme sort, reverse, insert, count, ..., qui sont les fonctions définies pour le type **list**.\n",
    "<p>"
   ]
  },
  {
   "cell_type": "code",
   "execution_count": 2,
   "metadata": {
    "collapsed": false
   },
   "outputs": [
    {
     "name": "stdout",
     "output_type": "stream",
     "text": [
      "['__add__', '__class__', '__contains__', '__delattr__', '__delitem__', '__dir__', '__doc__', '__eq__', '__format__', '__ge__', '__getattribute__', '__getitem__', '__gt__', '__hash__', '__iadd__', '__imul__', '__init__', '__iter__', '__le__', '__len__', '__lt__', '__mul__', '__ne__', '__new__', '__reduce__', '__reduce_ex__', '__repr__', '__reversed__', '__rmul__', '__setattr__', '__setitem__', '__sizeof__', '__str__', '__subclasshook__', 'append', 'clear', 'copy', 'count', 'extend', 'index', 'insert', 'pop', 'remove', 'reverse', 'sort']\n"
     ]
    }
   ],
   "source": [
    "print(dir(list))"
   ]
  },
  {
   "cell_type": "markdown",
   "metadata": {},
   "source": [
    "Nous découvrons une courte liste des fonctions applicable sur tout objet de type liste. Quand on crée un objet de liste (on dit une instance), le noouveau né hérite de la classe **list** toutes les fonctions qui possède. "
   ]
  },
  {
   "cell_type": "code",
   "execution_count": 3,
   "metadata": {
    "collapsed": false
   },
   "outputs": [
    {
     "name": "stdout",
     "output_type": "stream",
     "text": [
      "[1, 2, -4]\n",
      "['__add__', '__class__', '__contains__', '__delattr__', '__delitem__', '__dir__', '__doc__', '__eq__', '__format__', '__ge__', '__getattribute__', '__getitem__', '__gt__', '__hash__', '__iadd__', '__imul__', '__init__', '__iter__', '__le__', '__len__', '__lt__', '__mul__', '__ne__', '__new__', '__reduce__', '__reduce_ex__', '__repr__', '__reversed__', '__rmul__', '__setattr__', '__setitem__', '__sizeof__', '__str__', '__subclasshook__', 'append', 'clear', 'copy', 'count', 'extend', 'index', 'insert', 'pop', 'remove', 'reverse', 'sort']\n"
     ]
    }
   ],
   "source": [
    "# créer une instance L de type list, cet instance possessera toutes les fonctions attachées au type\n",
    "L = list((1,2, -4))\n",
    "print(L)\n",
    "print(dir(L))"
   ]
  },
  {
   "cell_type": "markdown",
   "metadata": {},
   "source": [
    "Cela signifie que l'on peut appliquer toutes ces fonctions directement sur cette nouvelle variable. Ces fonctions s'appellent **des méthodes** dans le jargot du langage orienté objet (OOP en anglais).<p>\n",
    "Il y a deux façons pour appliquer une méthode sur la liste L :<p>\n",
    "    1- En considérant L comme un argument <p>\n",
    "    2- En considérant L comme un objet"
   ]
  },
  {
   "cell_type": "code",
   "execution_count": 4,
   "metadata": {
    "collapsed": false
   },
   "outputs": [
    {
     "name": "stdout",
     "output_type": "stream",
     "text": [
      "[1, 2, -4, -1]\n",
      "[1, 99, 2, -4, -1]\n",
      "[-4, -1, 1, 2, 99]\n"
     ]
    }
   ],
   "source": [
    "# L est un argument dans :\n",
    "L = list((1,2, -4))\n",
    "list.append(L,-1)  # ajouter à la queue de L\n",
    "print(L)\n",
    "list.insert(L,1,99)   # inserer en 2eme position dans L la valeur 99\n",
    "print(L)\n",
    "list.sort(L)   # Trier L\n",
    "print(L)"
   ]
  },
  {
   "cell_type": "code",
   "execution_count": 5,
   "metadata": {
    "collapsed": false
   },
   "outputs": [
    {
     "name": "stdout",
     "output_type": "stream",
     "text": [
      "[1, 2, -4, -1]\n",
      "[1, 99, 2, -4, -1]\n",
      "[-4, -1, 1, 2, 99]\n"
     ]
    }
   ],
   "source": [
    "# L est un objet :\n",
    "L = list((1,2, -4))\n",
    "L.append(-1)  # ajouter à la queue de L\n",
    "print(L)\n",
    "L.insert(1,99)   # inserer en 2eme position dans L la valeur 99\n",
    "print(L)\n",
    "L.sort()   # Trier L\n",
    "print(L)"
   ]
  },
  {
   "cell_type": "markdown",
   "metadata": {},
   "source": [
    "<img src = \"class-methode-argument.png\", width=400, height=400>"
   ]
  },
  {
   "cell_type": "markdown",
   "metadata": {},
   "source": [
    "** Pourquoi les objets? **<p>\n",
    "La programmation orientée objets, en regroupant les méthodes et les variables dans un objets, facilite énormément le développement des codes et des algorithmes.<p>\n",
    "En langage Python, il est facilité la progammation OOP. Autrement dit, on peut créer des nouvelles types de données \"des classes\", où l'on fait incruster des fonctions et des variables nécessaires pour le traitement de données.<p>\n",
    "**Exemple 1 :** création de **fiches des élèves** avec des méthodes comme création, modification, recherches, sauvegarde, ...<p>\n",
    "**Exemple 2 :** création de base de donnée **notes des élèves** avec les méthodes saisir, modifier, calcul de la moyenne et de l'écart type, des recherches, ...<p>\n",
    "Par conséquence vous pouvez reécrire vos programme comme des classes et vous faciliter le traitement des données comme prévue par le cahier de charge."
   ]
  },
  {
   "cell_type": "markdown",
   "metadata": {},
   "source": [
    "## Création de classes\n",
    "Pour créer un nouveau type de données, on utilise le mot clé **class**. La syntaxe de classe ressemble à la syntax de création des fonctions. On remplace le mot clé **def** par le mot clé **class**. Exemple :"
   ]
  },
  {
   "cell_type": "code",
   "execution_count": 6,
   "metadata": {
    "collapsed": false
   },
   "outputs": [],
   "source": [
    "# Par convention, le nom d'une classe commence par un majuscule\n",
    "class ExempleClass():\n",
    "    \"\"\" Voici une classe :) \"\"\"\n",
    "    pass"
   ]
  },
  {
   "cell_type": "markdown",
   "metadata": {},
   "source": [
    "Là, on a juste créé la classe qui s'appelle **ExempleClasse**. Vous remarquez qu'il y a des parenthèses après le nom de la classe; celà permet de passer des paramètres à l'intérieur de la classe comme des arguments d'entrée.\n",
    "Le mot clé **pass** permet de sortir de la classe sans rien y ajouter. Voyons un peu qu'est-ce que c'est cet objet :"
   ]
  },
  {
   "cell_type": "code",
   "execution_count": 7,
   "metadata": {
    "collapsed": false
   },
   "outputs": [
    {
     "name": "stdout",
     "output_type": "stream",
     "text": [
      "Help on class ExempleClass in module __main__:\n",
      "\n",
      "class ExempleClass(builtins.object)\n",
      " |  Voici une classe :)\n",
      " |  \n",
      " |  Data descriptors defined here:\n",
      " |  \n",
      " |  __dict__\n",
      " |      dictionary for instance variables (if defined)\n",
      " |  \n",
      " |  __weakref__\n",
      " |      list of weak references to the object (if defined)\n",
      "\n"
     ]
    }
   ],
   "source": [
    "help(ExempleClass)"
   ]
  },
  {
   "cell_type": "code",
   "execution_count": 8,
   "metadata": {
    "collapsed": false
   },
   "outputs": [
    {
     "data": {
      "text/plain": [
       "__main__.ExempleClass"
      ]
     },
     "execution_count": 8,
     "metadata": {},
     "output_type": "execute_result"
    }
   ],
   "source": [
    "#Créer une instance (un objet) de la classe est tellement simple\n",
    "E = ExempleClass()\n",
    "type(E)"
   ]
  },
  {
   "cell_type": "markdown",
   "metadata": {},
   "source": [
    "Observer le mot clé **\\_\\_main\\_\\_**, qui remplace le nom du module puisquee l'on n'a pas sauvegardé la classe dans un module **` *.py `**."
   ]
  },
  {
   "cell_type": "markdown",
   "metadata": {},
   "source": [
    "## Héritage\n",
    "Avant d'aller plus loin, voyons comment créer un objet simplement en profitant d'un type de données déjà construit. Prenons par exemlple le type de données **list**; On peut créer une classe qui possède les mêmes méthodes que ``list`` et on ajoute des méthodes selon les besoins de cahier de charge :"
   ]
  },
  {
   "cell_type": "code",
   "execution_count": 2,
   "metadata": {
    "collapsed": true
   },
   "outputs": [],
   "source": [
    "class MyList(list):\n",
    "    \"\"\" Une copie de list \"\"\"\n",
    "    pass"
   ]
  },
  {
   "cell_type": "code",
   "execution_count": 10,
   "metadata": {
    "collapsed": false
   },
   "outputs": [
    {
     "name": "stdout",
     "output_type": "stream",
     "text": [
      "['__add__', '__class__', '__contains__', '__delattr__', '__delitem__', '__dict__', '__dir__', '__doc__', '__eq__', '__format__', '__ge__', '__getattribute__', '__getitem__', '__gt__', '__hash__', '__iadd__', '__imul__', '__init__', '__iter__', '__le__', '__len__', '__lt__', '__module__', '__mul__', '__ne__', '__new__', '__reduce__', '__reduce_ex__', '__repr__', '__reversed__', '__rmul__', '__setattr__', '__setitem__', '__sizeof__', '__str__', '__subclasshook__', '__weakref__', 'append', 'clear', 'copy', 'count', 'extend', 'index', 'insert', 'pop', 'remove', 'reverse', 'sort']\n"
     ]
    }
   ],
   "source": [
    "# Nous pouvons vérifier que mylist possède les mêmes méthodes que list :\n",
    "print(dir(MyList))"
   ]
  },
  {
   "cell_type": "code",
   "execution_count": 3,
   "metadata": {
    "collapsed": false
   },
   "outputs": [
    {
     "name": "stdout",
     "output_type": "stream",
     "text": [
      "[-4, 1, 2]\n"
     ]
    }
   ],
   "source": [
    "#lst ci-dessous est une instance de l'objet qui s'appelle myList\n",
    "lst = MyList((1,2,-4))\n",
    "lst.sort()\n",
    "print(lst)"
   ]
  },
  {
   "cell_type": "markdown",
   "metadata": {},
   "source": [
    "Une classe que vous créez peut hériter d'une classe prédéfinie dans PYTHON ou même d'une classe que vous avez créé auparavant et vous voulez la modifier ou l'amender. Exemple: le code **class MyList2(MyList) :pass** créera une classe MyList2 qui hérite les méthodes de MyList.\n",
    "<p>\n",
    "<p>"
   ]
  },
  {
   "cell_type": "markdown",
   "metadata": {},
   "source": [
    "## création d'une méthode (une fonction sous class)\n",
    "<p>\n",
    "Une méthode, ce n'est rien qu'une fonction sous une classe. Comme exemple, nous allons ajouter une fonction ``multiplier_`` à la nouvelle classe MyList. Nous allons permettre la multiplication de deux listes terme à terme :"
   ]
  },
  {
   "cell_type": "code",
   "execution_count": 12,
   "metadata": {
    "collapsed": false
   },
   "outputs": [],
   "source": [
    "class MyList(list):\n",
    "    \"\"\" Une copie de list \"\"\"\n",
    "    def multiplier_(self,autre):\n",
    "        \"\"\" Une méthode pour multiplier 2 listes terme par terme \"\"\"\n",
    "        self.multiplier = [a*b for a,b in zip(self, autre)]\n",
    "        return self.multiplier"
   ]
  },
  {
   "cell_type": "code",
   "execution_count": 13,
   "metadata": {
    "collapsed": false
   },
   "outputs": [
    {
     "name": "stdout",
     "output_type": "stream",
     "text": [
      "[4, 10, 18]\n"
     ]
    }
   ],
   "source": [
    "# multiplication de deux listes numériques\n",
    "a = MyList((1, 2, 3)) # a et b sont deux instances (deux objets) de la classe myList \n",
    "b = MyList((4, 5, 6))\n",
    "c = a.multiplier_(b)\n",
    "print(c)"
   ]
  },
  {
   "cell_type": "code",
   "execution_count": 14,
   "metadata": {
    "collapsed": false
   },
   "outputs": [
    {
     "name": "stdout",
     "output_type": "stream",
     "text": [
      "['__add__', '__class__', '__contains__', '__delattr__', '__delitem__', '__dict__', '__dir__', '__doc__', '__eq__', '__format__', '__ge__', '__getattribute__', '__getitem__', '__gt__', '__hash__', '__iadd__', '__imul__', '__init__', '__iter__', '__le__', '__len__', '__lt__', '__module__', '__mul__', '__ne__', '__new__', '__reduce__', '__reduce_ex__', '__repr__', '__reversed__', '__rmul__', '__setattr__', '__setitem__', '__sizeof__', '__str__', '__subclasshook__', '__weakref__', 'append', 'clear', 'copy', 'count', 'extend', 'index', 'insert', 'multiplier_', 'pop', 'remove', 'reverse', 'sort']\n"
     ]
    }
   ],
   "source": [
    "# observer la liste des méthodes et reperer la methode multiplier_\n",
    "# consulter la documentation de la classe\n",
    "print(dir(MyList))"
   ]
  },
  {
   "cell_type": "code",
   "execution_count": 15,
   "metadata": {
    "collapsed": false
   },
   "outputs": [
    {
     "name": "stdout",
     "output_type": "stream",
     "text": [
      "Help on function multiplier_ in module __main__:\n",
      "\n",
      "multiplier_(self, autre)\n",
      "    Une méthode pour multiplier 2 listes terme par terme\n",
      "\n"
     ]
    }
   ],
   "source": [
    "# consulter la documentation de la méthode crée\n",
    "help(MyList.multiplier_)"
   ]
  },
  {
   "cell_type": "markdown",
   "metadata": {},
   "source": [
    "C'est génial, on peut créer une classe de listes numériques et on peut rendre les opérations mathématiques possibles. \n",
    "<p>\n",
    "**La variable self** : Observer bien le role de la variable **``self``** dans la méthode `multiplier_`; Ce concept de la variable `self` qui représente l'objet est au coeur de la programmation OOP sous Python."
   ]
  },
  {
   "cell_type": "markdown",
   "metadata": {},
   "source": [
    "## Les attributs\n",
    "<p>\n",
    "Un objet comporte pas seulement des méthodes, mais aussi des attributs. Un attribut est une variable utilisée dans une classe : un entier, un réel, une liste, ... <p>\n",
    "<p>\n",
    "Affecter des attributs à un objet, en principe, est simple avec le système des points que l'on a introduit dans ce cours. Voici un exemple simple :"
   ]
  },
  {
   "cell_type": "code",
   "execution_count": 16,
   "metadata": {
    "collapsed": false
   },
   "outputs": [],
   "source": [
    "# Nous créons une classe Point qui permettra de créer et traiter les coordonnées d'un point\n",
    "class Point():\n",
    "    \"\"\" un point dans le plan \"\"\"\n",
    "    pass"
   ]
  },
  {
   "cell_type": "markdown",
   "metadata": {},
   "source": [
    "<p>\n",
    "En créant un instance, un point dans le plan, on peut lui affecter des coordonnées comme suit :\n",
    "<p>"
   ]
  },
  {
   "cell_type": "code",
   "execution_count": 17,
   "metadata": {
    "collapsed": false
   },
   "outputs": [
    {
     "name": "stdout",
     "output_type": "stream",
     "text": [
      "coordonnées du point p1 : x = 1 \t y = 1 \n",
      "coordonnées du point p2 : x = 1 \t y = 2 \n"
     ]
    }
   ],
   "source": [
    "p1 = Point()\n",
    "p2 = Point()\n",
    "# attribuer à p1 et p2 leurs coordonnées respectives x et y\n",
    "p1.x = p1.y = 1\n",
    "p2.x , p2.y = 1 , 2\n",
    "print(\"coordonnées du point p1 : x = {} \\t y = {} \".format(p1.x,p1.y) )\n",
    "print(\"coordonnées du point p2 : x = {} \\t y = {} \".format(p2.x,p2.y) )"
   ]
  },
  {
   "cell_type": "markdown",
   "metadata": {},
   "source": [
    "Les coordonnées x et y sont crées à l'extérieur de la clasee, nous apprenons par la suite comment les incruster (**on dit les encapsuler!**) dans la classe. Les points, ainsi créés, peuvent être utilisés dans de calcul :"
   ]
  },
  {
   "cell_type": "code",
   "execution_count": 18,
   "metadata": {
    "collapsed": true
   },
   "outputs": [],
   "source": [
    "class Point():\n",
    "    \"\"\" un point dans le plan \"\"\"\n",
    "    def distance(p1, p2):\n",
    "        \"\"\" calcul de la distance au carré \"\"\"\n",
    "        return (p1.x - p2.x)**2 + (p1.y - p2.y) ** 2"
   ]
  },
  {
   "cell_type": "code",
   "execution_count": 19,
   "metadata": {
    "collapsed": false
   },
   "outputs": [
    {
     "data": {
      "text/plain": [
       "1"
      ]
     },
     "execution_count": 19,
     "metadata": {},
     "output_type": "execute_result"
    }
   ],
   "source": [
    "Point.distance(p1,p2)"
   ]
  },
  {
   "cell_type": "markdown",
   "metadata": {},
   "source": [
    "## Encapsulation \n",
    "<p>\n",
    "Le concept des objets associe des méthodes et des attributs à l'objet. La façon de créer et de modifier des attributs en dehors de l'objet ou de la classe n'est pas recommendée.\n",
    "<p>\n",
    "<p>\n",
    "L'encapsulation signifie que les instances de l'objet sont créés, modifiés, traités ...  dans la classe (ou l'instance de la classe). Dans l'exemple ci-dessous nous affectons les coordonnées à l'intérieure de la classe par la méthode **\\_\\_init\\_\\_** :"
   ]
  },
  {
   "cell_type": "code",
   "execution_count": 20,
   "metadata": {
    "collapsed": true
   },
   "outputs": [],
   "source": [
    "class Point():\n",
    "    \"\"\" un point dans le plan \"\"\"\n",
    "    # les valeurs par défaut de l'abscisse et l'ordonnée sont égales à 0\n",
    "    def __init__(self, x = 0, y = 0):\n",
    "        \"\"\" constructeur d'objet de la classe Point \"\"\"\n",
    "        self.x = x\n",
    "        self.y = y\n",
    "    def distance(p1, p2):\n",
    "        \"\"\" calcul de la distance au carré \"\"\"\n",
    "        return (p1.x - p2.x)**2 + (p1.y - p2.y) ** 2"
   ]
  },
  {
   "cell_type": "code",
   "execution_count": 21,
   "metadata": {
    "collapsed": false
   },
   "outputs": [
    {
     "name": "stdout",
     "output_type": "stream",
     "text": [
      "<__main__.Point object at 0x000002473CA81978>\n",
      "0 \t 0\n"
     ]
    }
   ],
   "source": [
    "# p5 prend les coordonnées définies par défaut\n",
    "p5 = Point()\n",
    "print(p5)\n",
    "print(p5.x,\"\\t\", p5.y)"
   ]
  },
  {
   "cell_type": "code",
   "execution_count": 22,
   "metadata": {
    "collapsed": false
   },
   "outputs": [
    {
     "name": "stdout",
     "output_type": "stream",
     "text": [
      "les coordonnées sont : x = 3, y = 2 \n"
     ]
    }
   ],
   "source": [
    "# p1 prend les coordonnées spécifiées entre parenthèse (des arguments)\n",
    "p1 = Point(3, 2)\n",
    "print(\"les coordonnées sont : x = {}, y = {} \".format( p1.x, p1.y))"
   ]
  },
  {
   "cell_type": "code",
   "execution_count": 23,
   "metadata": {
    "collapsed": false
   },
   "outputs": [
    {
     "name": "stdout",
     "output_type": "stream",
     "text": [
      "les coordonnées sont : x = 1, y = 2 \n",
      "les coordonnées sont : x = 3, y = 4 \n",
      "la distance d(p1,p2) = \t  8\n"
     ]
    }
   ],
   "source": [
    "p1 = Point(1, 2)\n",
    "p2 = Point(3, 4)\n",
    "print(\"les coordonnées sont : x = {}, y = {} \".format( p1.x, p1.y))\n",
    "print(\"les coordonnées sont : x = {}, y = {} \".format( p2.x, p2.y))\n",
    "print(\"la distance d(p1,p2) = \\t \", Point.distance(p1, p2))"
   ]
  },
  {
   "cell_type": "code",
   "execution_count": 24,
   "metadata": {
    "collapsed": false
   },
   "outputs": [
    {
     "name": "stdout",
     "output_type": "stream",
     "text": [
      "Help on class Point in module __main__:\n",
      "\n",
      "class Point(builtins.object)\n",
      " |  un point dans le plan\n",
      " |  \n",
      " |  Methods defined here:\n",
      " |  \n",
      " |  __init__(self, x=0, y=0)\n",
      " |      constructeur d'objet de la classe Point\n",
      " |  \n",
      " |  distance(p1, p2)\n",
      " |      calcul de la distance au carré\n",
      " |  \n",
      " |  ----------------------------------------------------------------------\n",
      " |  Data descriptors defined here:\n",
      " |  \n",
      " |  __dict__\n",
      " |      dictionary for instance variables (if defined)\n",
      " |  \n",
      " |  __weakref__\n",
      " |      list of weak references to the object (if defined)\n",
      "\n"
     ]
    }
   ],
   "source": [
    "help(Point)"
   ]
  },
  {
   "cell_type": "markdown",
   "metadata": {},
   "source": [
    "## Méthodes privées et méthodes publiques\n",
    "<p>\n",
    "<p>\n",
    "Les méthodes utilisées dans une classe sont soit des méthodes publiques comme la méthode **``distance``** soit des méthodes privées comme la méthodes **\\_\\_init\\_\\_**.\n",
    "<p>\n",
    "Toutes les méthodes privées commencent et finissent par deux caractères soulignés **\\_\\_**, alors qu'une méthode publique n'a pas besoin de ces caractères spéciaux.\n",
    "<p>\n",
    "Nous écrivons maintenant une deuxième méthode publique, il s'agit de la méthode qui permet de bouger un point de sa position d'origine en une nouvelle position.\n",
    "La méthode **move** accepte la différence de coordonnées **dx** et **dy** et applique le mouvent nécessaire au point."
   ]
  },
  {
   "cell_type": "code",
   "execution_count": 25,
   "metadata": {
    "collapsed": true
   },
   "outputs": [],
   "source": [
    "class Point():\n",
    "    \"\"\" un point dans le plan \"\"\"\n",
    "    def __init__(self, x = 0, y = 0):\n",
    "        \"\"\" Constructeur d'objet de la classe \"\"\"\n",
    "        self.x = x\n",
    "        self.y = y\n",
    "    def distance(p1, p2):\n",
    "        \"\"\" calcul de la distance carré \"\"\"\n",
    "        return (p1.x - p2.x)**2 + (p1.y - p2.y) ** 2\n",
    "    def move(self, dx = 0, dy = 0):\n",
    "        \"\"\" modifier la position de l'instance \"\"\"\n",
    "        self.x += dx\n",
    "        self.y += dy"
   ]
  },
  {
   "cell_type": "code",
   "execution_count": 26,
   "metadata": {
    "collapsed": false
   },
   "outputs": [
    {
     "name": "stdout",
     "output_type": "stream",
     "text": [
      "les coordonnées sont : x = 2, y = 2 \n"
     ]
    }
   ],
   "source": [
    "p1 = Point(2, 1)\n",
    "p1.move(0, 1)\n",
    "print(\"les coordonnées sont : x = {}, y = {} \".format( p1.x, p1.y))"
   ]
  },
  {
   "cell_type": "markdown",
   "metadata": {},
   "source": [
    "Et finalement pour compléter l'encapsulation de toutes les méthodes possibles dans la classe, nous créons la méthode d'affichage de la position (les coordonnées). Appelons la méthode **get_position**."
   ]
  },
  {
   "cell_type": "code",
   "execution_count": 4,
   "metadata": {
    "collapsed": true
   },
   "outputs": [],
   "source": [
    "class Point():\n",
    "    \"\"\" un point dans le plan \"\"\"\n",
    "    def __init__(self, x = 0, y = 0):\n",
    "        \"\"\" Constructeur d'objet de la classe \"\"\"\n",
    "        self.x = x\n",
    "        self.y = y\n",
    "    def distance(self, autre):\n",
    "        \"\"\" calcul de la distance carré \"\"\"\n",
    "        return (p1.x - p2.x)**2 + (p1.y - p2.y) ** 2\n",
    "    def move(self, dx = 0, dy = 0):\n",
    "        \"\"\" modifier la position de l'instance \"\"\"\n",
    "        self.x += dx\n",
    "        self.y += dy\n",
    "    def get_position(self):\n",
    "        \"\"\" afficher les coordonnées de l'instance \"\"\"\n",
    "        print(\"les coordonnées de {} sont : x = {}, y = {} \"\n",
    "              .format(self, p1.x, p1.y))"
   ]
  },
  {
   "cell_type": "code",
   "execution_count": 5,
   "metadata": {
    "collapsed": false
   },
   "outputs": [
    {
     "name": "stdout",
     "output_type": "stream",
     "text": [
      "les coordonnées de <__main__.Point object at 0x000001419E149358> sont : x = 0, y = 0 \n",
      "les coordonnées de <__main__.Point object at 0x000001419E149358> sont : x = 1, y = 2 \n",
      "5\n"
     ]
    }
   ],
   "source": [
    "p1 = Point()\n",
    "p2 = Point()\n",
    "p1.get_position()\n",
    "p1.move(1,2)\n",
    "p1.get_position()\n",
    "print(p1.distance(p2))"
   ]
  },
  {
   "cell_type": "markdown",
   "metadata": {},
   "source": [
    "Maintenant, on consultera l'aide de la classe Point.\n",
    "<p>"
   ]
  },
  {
   "cell_type": "code",
   "execution_count": 29,
   "metadata": {
    "collapsed": false
   },
   "outputs": [],
   "source": [
    "# On peut écrire help(Point) ou help(p1), \n",
    "# soit la classe soit l'instance de la classe \n",
    "#help(p1) "
   ]
  },
  {
   "cell_type": "markdown",
   "metadata": {
    "collapsed": true
   },
   "source": [
    "## Méthodes privées spéciales (les primitives)\n",
    "<p><p>\n",
    "Une méthode privée, à l'instar d'une méthode publique, est une fonction spéciale pour la classe. Elle ne doit pas être utilisée par la publique. Comme la fonction **\\_\\_init\\_\\_** présentée ci-dessus. Toutes les méthodes privées commencent et finissent par **\\_\\_** pour les distinguer des méthodes publiques.\n",
    "<p>\n",
    "dans la suite, on présentera des méthodes privées intéressante fréquemment utilisées en programmation orientée objets. Ces fonctions speciales sont les primitives.\n"
   ]
  },
  {
   "cell_type": "markdown",
   "metadata": {},
   "source": [
    "### Constructeur et destructeur\n",
    "<p>\n",
    "Nous avons étudié ci-dessus le constructeur **\\_\\_init\\_\\_**, qui instancie un ibjet de la classe. Le destructeur **\\_\\_del\\_\\_** lermet de supprimer l'instant de la classe. "
   ]
  },
  {
   "cell_type": "code",
   "execution_count": 30,
   "metadata": {
    "collapsed": true
   },
   "outputs": [],
   "source": [
    "class Point():\n",
    "    \"\"\" un point dans le plan \"\"\"\n",
    "    def __init__(self, x = 0, y = 0):\n",
    "        \"\"\" Constructeur d'objet de la classe \"\"\"\n",
    "        self.x = x\n",
    "        self.y = y\n",
    "    def __del__(self):\n",
    "        \"\"\" suppression de l'instance d'objet \"\"\"\n",
    "        print(\"l'objet a été supprimé avec succes! \" )"
   ]
  },
  {
   "cell_type": "code",
   "execution_count": 31,
   "metadata": {
    "collapsed": false
   },
   "outputs": [
    {
     "name": "stdout",
     "output_type": "stream",
     "text": [
      "l'objet a été supprimé avec succes! \n"
     ]
    }
   ],
   "source": [
    "p1 = Point()\n",
    "del(p1)\n",
    "#print(p1)     # cette ligne provoquera une erreur NameErreur"
   ]
  },
  {
   "cell_type": "markdown",
   "metadata": {},
   "source": [
    "### Méthodes ``__str__`` et ``__repr__``\n",
    "<P>\n",
    "Ces deux méthode sont utilisées pour afficher une chaîne de caractère de la syntaxe de la classe. `__str__` est appelée par la primitive str(). Doit renvoyer une représentation sous forme de chaîne de caractères d’un objet.<p>\n",
    "``__repr__`` est Similaire à __str__() sauf que la représentation doit être une expression Python. est appelée par la primitive repr(). \n",
    "<p>\n",
    "la programmation de ces deux méthodes dans la classe permet de personnalisé le retoure des fonctions primitives de Pyhton qui sont **str()** et **repr**."
   ]
  },
  {
   "cell_type": "code",
   "execution_count": 32,
   "metadata": {
    "collapsed": false
   },
   "outputs": [
    {
     "name": "stdout",
     "output_type": "stream",
     "text": [
      "str rend :  <__main__.Point object at 0x000002473CA8E908>\n",
      "repr rend :  <__main__.Point object at 0x000002473CA8E908>\n"
     ]
    }
   ],
   "source": [
    "class Point():\n",
    "    \"\"\" un point dans le plan \"\"\"\n",
    "    def __init__(self, x = 0, y = 0):\n",
    "        \"\"\" Constructeur d'objet de la classe \"\"\"\n",
    "        self.x = x\n",
    "        self.y = y \n",
    "p1 = Point()\n",
    "print(\"str rend : \",str(p1))\n",
    "print(\"repr rend : \",repr(p1))"
   ]
  },
  {
   "cell_type": "code",
   "execution_count": 33,
   "metadata": {
    "collapsed": false
   },
   "outputs": [
    {
     "name": "stdout",
     "output_type": "stream",
     "text": [
      "str rend :   La classe crée des points dans le plan horizontal ! \n",
      "repr rend : \n",
      " \t\t Point(x = 0, y = 0)\n"
     ]
    }
   ],
   "source": [
    "# Ici on écrit une sortie personnalisé pour les fonctions primitives str et repr \n",
    "class Point():\n",
    "    \"\"\" un point dans le plan \"\"\"\n",
    "    def __init__(self, x = 0, y = 0):\n",
    "        \"\"\" Constructeur d'objet de la classe \"\"\"\n",
    "        self.x = x\n",
    "        self.y = y  \n",
    "    def __str__(self):\n",
    "        \"\"\" description de l'instance d'objet \"\"\"\n",
    "        return \" La classe crée des points dans le plan horizontal ! \"\n",
    "    def __repr__(self):\n",
    "        \"\"\" description de l'instance d'objet \"\"\"\n",
    "        return \"Point(x = 0, y = 0)\"\n",
    "p1 = Point()\n",
    "print(\"str rend : \",str(p1))\n",
    "print(\"repr rend : \\n \\t\\t\",repr(p1)) "
   ]
  },
  {
   "cell_type": "markdown",
   "metadata": {},
   "source": [
    "### Méthodes de comparaison: (self. \\_\\_lt\\_\\_, \\_\\_le\\_\\_, \\_\\_eq\\_\\_, \\_\\_ne\\_\\_, \\_\\_gt\\_\\_, \\_\\_ge\\_\\_(autre) )\n",
    "Ensemble de méthodes de comparaison, qui sont utilisées pour comparer l'objet principal **self** à un autre objet de même classe. Ces méthodes doivent renvoyer True ou False (vrai ou faux) :\n",
    "        + a < b correspond à a.__lt__(b) \n",
    "        + a <= b correspond à a.__le__(b)\n",
    "        + a == b correspond à a.__eq__(b)\n",
    "        + a != b correspond à a.__ne__(b)\n",
    "        + a > b correspond à a.__gt__(b) \n",
    "        + a >= b correspond à a.__ge__(b).\n",
    "L'implémentation de ces méthodes dans une classe permettra l'execution des operations de comparaion connus :\n",
    "<p>( voir: https://docs.python.org/3/library/operator.html?highlight=eq#operator.eq ) :"
   ]
  },
  {
   "cell_type": "code",
   "execution_count": 34,
   "metadata": {
    "collapsed": false
   },
   "outputs": [
    {
     "name": "stdout",
     "output_type": "stream",
     "text": [
      "p1.__lt__(p2) rend :  False\n",
      "p2.__lt__(p1) rend :  True\n",
      "p2.__eq__(p1) rend :  False\n"
     ]
    }
   ],
   "source": [
    "# Ici on écrit une sortie personnalisé pour les fonctions primitives str et repr \n",
    "class Point():\n",
    "    \"\"\" un point dans le plan \"\"\"\n",
    "    def __init__(self, x = 0, y = 0):\n",
    "        \"\"\" Constructeur d'objet de la classe \"\"\"\n",
    "        self.x = x\n",
    "        self.y = y  \n",
    "    def __lt__(self, autre):\n",
    "        \"\"\" comparaison de l'objet avec un autre instance d'objet \"\"\"\n",
    "        if  (self.x < autre.x and self.y < autre.y ):\n",
    "            return True\n",
    "        else:\n",
    "            return False\n",
    "    def __eq__(self, autre):\n",
    "        \"\"\" comparaison de l'objet avec un autre instance d'objet \"\"\"\n",
    "        if  (self.x == autre.x and self.y == autre.y ):\n",
    "            return True\n",
    "        else:\n",
    "            return False\n",
    "p1 = Point(2,2)\n",
    "p2 = Point(1,1)\n",
    "print(\"p1.__lt__(p2) rend : \", p1 < p2)\n",
    "print(\"p2.__lt__(p1) rend : \", p2 < p1)\n",
    "print(\"p2.__eq__(p1) rend : \", p1 == p2)"
   ]
  },
  {
   "cell_type": "markdown",
   "metadata": {},
   "source": [
    "## Surcharge des méthodes\n",
    "<p><p>\n",
    "Auparavent, on a discuté de l'héritage des propriétés lorsque une classe reçoit une autre classe comme argument d'entrée. (cf. § héritage ci-haut). Exemple : **class MyList(list):**.\n",
    "<p><p>\n",
    "Cependant, **l'espace des noms** de la classe liste fut héritage dans la nouvelle classe. On peut reprendre une méthode de la classe entrée (**la classe parent**) et on peut la modifier. Donc dans la classe **MyList** la fonction modifiée entre dans l'espace des noms, elle sera héritée à tout objet dérivée de MyList.\n",
    "<p><p>\n",
    "dans l'exemple suivant, nous modifions la méthode de l'addition de deux liste :"
   ]
  },
  {
   "cell_type": "code",
   "execution_count": null,
   "metadata": {
    "collapsed": true
   },
   "outputs": [],
   "source": []
  }
 ],
 "metadata": {
  "anaconda-cloud": {},
  "kernelspec": {
   "display_name": "Python [default]",
   "language": "python",
   "name": "python3"
  },
  "language_info": {
   "codemirror_mode": {
    "name": "ipython",
    "version": 3
   },
   "file_extension": ".py",
   "mimetype": "text/x-python",
   "name": "python",
   "nbconvert_exporter": "python",
   "pygments_lexer": "ipython3",
   "version": "3.5.2"
  }
 },
 "nbformat": 4,
 "nbformat_minor": 0
}
