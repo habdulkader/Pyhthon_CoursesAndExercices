{
 "cells": [
  {
   "cell_type": "markdown",
   "metadata": {},
   "source": [
    "<img src = \"Python_Icon.png\", width=300, height=300>"
   ]
  },
  {
   "cell_type": "markdown",
   "metadata": {},
   "source": [
    "# PROGRAMMATION ORIENTEE OBJETS\n",
    "par Dr. Abdulkader"
   ]
  },
  {
   "cell_type": "markdown",
   "metadata": {},
   "source": [
    "## Surcharge des méthodes\n",
    "<p><p>\n",
    "Auparavent, on a discuté de l'héritage des propriétés lorsque une classe reçoit une autre classe comme argument d'entrée. (cf. § héritage ci-haut). Exemple : **class MyList(list):**.\n",
    "<p><p>\n",
    "Cependant, **l'espace des noms** de la classe liste fut héritage dans la nouvelle classe. On peut reprendre une méthode de la classe entrée (**la classe parent**) et on peut la modifier. Donc dans la classe **MyList** la fonction modifiée entre dans l'espace des noms, elle sera héritée à tout objet dérivée de MyList.\n",
    "<p><p>\n",
    "dans l'exemple suivant, nous modifions la méthode de l'addition de deux liste :"
   ]
  },
  {
   "cell_type": "code",
   "execution_count": null,
   "metadata": {
    "collapsed": true
   },
   "outputs": [],
   "source": [
    "# la somme de deux listes, à la base, sert à concatener deux listes :\n",
    "l1 = list((1, 6))\n",
    "l2 = list((9, 0))\n",
    "print(l1 + l2)       # ça fait une concaténation"
   ]
  },
  {
   "cell_type": "code",
   "execution_count": null,
   "metadata": {
    "collapsed": true
   },
   "outputs": [],
   "source": [
    "class MyList(list):\n",
    "    \"\"\" Une copie de list \"\"\"\n",
    "    # on va modifier la fonction d'addition en une fonction d'addition \n",
    "    # terme par terme au lieu de la concatenation\n",
    "    def __add__(self,autre):\n",
    "        \"\"\" Une méthode pour additionner 2 listes terme par terme \"\"\"\n",
    "        self.addition_ = [a+b for a,b in zip(self, autre)]\n",
    "        return self.addition_\n",
    "l1 = MyList((1, 6))\n",
    "l2 = MyList((9, 0))\n",
    "print(\"la somme de deux liste est : \", l1 + l2)"
   ]
  },
  {
   "cell_type": "markdown",
   "metadata": {},
   "source": [
    "Donc, la surcharge a permis de substituer une méthode héritée (ou existante dans l'espace des noms) par une nouvelle méthode selon les bexoins du programme.\n",
    "<p><p>\n",
    "Si plusieurs méthodes ont le même nom dans une classe, c'est la dernière qui sera active lorsque la méthode est invoquée. Reprenons l'exemple dernier et ajoutons une deuxième méthode **\\_\\_add\\_\\_** :"
   ]
  },
  {
   "cell_type": "code",
   "execution_count": null,
   "metadata": {
    "collapsed": true
   },
   "outputs": [],
   "source": [
    "class MyList(list):\n",
    "    \"\"\" Une copie de list \"\"\"\n",
    "    def __add__(self,autre):\n",
    "        \"\"\" Une méthode pour multiplier 2 listes terme par terme \"\"\"\n",
    "        self.addition_ = [a+b for a,b in zip(self, autre)]\n",
    "        return self.addition_\n",
    "    def __add__(self,autre):\n",
    "        \"\"\" Une méthode pour multiplier 2 listes terme par terme \"\"\"\n",
    "        autre.reverse()\n",
    "        self.addition_ = [a+b for a,b in zip(self, autre)]\n",
    "        return self.addition_\n",
    "l1 = MyList((1, 6))\n",
    "l2 = MyList((9, 0))\n",
    "print(\"la somme de deux liste est : \", l1 + l2)"
   ]
  },
  {
   "cell_type": "markdown",
   "metadata": {},
   "source": [
    "Ce dernier cas de surcharge peut-être le fruit d'une erreur et annulerait le fonctionnement de la méthode surchargé. On fait attention lorsqu'on surcharge une ou plusieurs méthodes /!\\\\."
   ]
  },
  {
   "cell_type": "markdown",
   "metadata": {},
   "source": [
    "## Polymorphisme\n",
    "<p><p>\n",
    "Le polymorphisme, par définition, signifie la coexistence d'une méthode quelconque dans plusieurs endroits, mais l'application de cette méthode donne des résultats différents selon la classe ou elle est programmée.<p>\n",
    "        **Exemple 1 :** la méthode addition (add) existe pour les types list, str, int, complexe, float, tuple, ... Pourtant elle est exécuter différement selon le type de données.<p><p>\n",
    "        **Exemple 2 :** la méthode multiplication (mul); pareil que l'addition.\n",
    "<p><p>\n",
    "En POO, le polymorphisme peut être très enrichissant. Il permettrai d'utiliser des méthodes définies dans d'autres classes, si l'écriture (la syntaxe) convient, au lieu de retaper la fonction plusieurs fois dans des endroits différents.<p>\n",
    "        **Exemple 3 :** si plusieurs classes ont été crées en héritant du type list ses méthodes; Une fonction quelconque, comme **__add__** peut être surchargée dans chaque nouvelle classe d'une façon à diversifier les applications. Cela crée un polymorphisme enrichissant à toutes les classes."
   ]
  },
  {
   "cell_type": "code",
   "execution_count": null,
   "metadata": {
    "collapsed": true
   },
   "outputs": [],
   "source": [
    "class MyList(list):\n",
    "    \"\"\" Une copie de list \"\"\"\n",
    "    def __add__(self,autre):\n",
    "        \"\"\" Une méthode pour multiplier 2 listes terme par terme \"\"\"\n",
    "        self.addition_ = [a+b for a,b in zip(self, autre)]\n",
    "        return self.addition_"
   ]
  },
  {
   "cell_type": "code",
   "execution_count": null,
   "metadata": {
    "collapsed": true
   },
   "outputs": [],
   "source": [
    "L1 = MyList((1,3))\n",
    "L2 = MyList((2,4))\n",
    "print(L1,L2)\n",
    "print(L1 + L2)\n",
    "# concatener les deux liste en utilisant la méthode __add__ de list.\n",
    "print(list.__add__(L1,L2))  "
   ]
  },
  {
   "cell_type": "markdown",
   "metadata": {},
   "source": [
    "Dans la suite, il deux modules contenant des classes (objets). Vous pouvez pratiquer les différentes notions sur ces objets : heritage, polymorphisme, surcharge, ...\n",
    "<p>\n",
    "Vous pouvez pratiquer aussi comment importer une classe ou tout simplement une méthode de la classe, ...<p><p>"
   ]
  },
  {
   "cell_type": "code",
   "execution_count": 12,
   "metadata": {
    "collapsed": false
   },
   "outputs": [
    {
     "name": "stdout",
     "output_type": "stream",
     "text": [
      "Overwriting myModuleClassPointCercle.py\n"
     ]
    }
   ],
   "source": [
    "%%file myModuleClassPointCercle.py\n",
    "\"\"\"\n",
    "Ceci est la documentation d'un module qui contient 2 classes point est cercle\n",
    "\"\"\"\n",
    "from math import pi\n",
    "class Point():\n",
    "    \"\"\" un point dans le plan \"\"\"\n",
    "    def __init__(self, x = 0, y = 0):\n",
    "        \"\"\" Constructeur d'objet de la classe \"\"\"\n",
    "        self.x = x\n",
    "        self.y = y\n",
    "    def __del__(self):\n",
    "        \"\"\" suppression de l'instance d'objet \"\"\"\n",
    "        print(\"l'objet a été supprimé avec succes! \" )\n",
    "    def __str__(self):\n",
    "        \"\"\" représentation de l'instance d'objet \"\"\"\n",
    "        return \" La classe crée des points dans le plan horizontal ! \"\n",
    "    def __repr__(self):\n",
    "        \"\"\" représentation de l'instance d'objet \"\"\"\n",
    "        return \"Point(x = 0, y = 0)\"\n",
    "    def __lt__(self, autre):\n",
    "        \"\"\" comparaison de l'objet avec un autre instance d'objet \"\"\"\n",
    "        if  (self.x < autre.x and self.y < autre.y ):\n",
    "            return True\n",
    "        else:\n",
    "            return False\n",
    "    def __eq__(self, autre):\n",
    "        \"\"\" comparaison de l'objet avec un autre instance d'objet \"\"\"\n",
    "        if  (self.x == autre.x and self.y == autre.y ):\n",
    "            return True\n",
    "        else:\n",
    "            return False\n",
    "    def distance(p1, p2):\n",
    "        \"\"\" calcul de la distance carré \"\"\"\n",
    "        return (p1.x - p2.x)**2 + (p1.y - p2.y) ** 2\n",
    "    def move(self, dx = 0, dy = 0):\n",
    "        \"\"\" modifier la position de l'instance \"\"\"\n",
    "        self.x += dx\n",
    "        self.y += dy\n",
    "    def get_position(self):\n",
    "        \"\"\" afficher les coordonnées de l'instance \"\"\"\n",
    "        print(\"les coordonnées de {} sont : x = {}, y = {} \".format(self, self.x, self.y))\n",
    "\n",
    "# l'objet Circle est un enfant de Point: il herite ses méthodes\n",
    "class Cercle(Point):\n",
    "    \"\"\" Une classe qui manipule des cercles \"\"\"\n",
    "    def __init__(self, center, radius):\n",
    "        \"\"\" Construire le cercle dont le centre et le rayon sont donnés \"\"\"\n",
    "        # Disallow a negative radius\n",
    "        if radius < 0:\n",
    "            raise ValueError('Rayon negative')\n",
    "        self.center = center\n",
    "        self.radius = radius\n",
    "    def get_rayon(self):\n",
    "        \"\"\" retourne le rayon \"\"\"\n",
    "        return self.radius\n",
    "    def get_centre(self):\n",
    "        \"\"\" retourne les coordonnées du centre \"\"\"\n",
    "        return self.center\n",
    "    def get_aire(self):\n",
    "        \"\"\" calcul l'aire du cercle \"\"\"\n",
    "        from math import pi\n",
    "        return pi*self.radius*self.radius\n",
    "    def get_perimetre(self):\n",
    "        \"\"\" calcul et renvoie le perimetre \"\"\"\n",
    "        from math import pi\n",
    "        return 2*pi*self.radius\n",
    "    # surcharge de la méthode move\n",
    "    def move(self, pt):\n",
    "        \"\"\" Bouger le centre dans le plan \"\"\"\n",
    "        self.center = pt\n",
    "    def grow(self):\n",
    "        \"\"\" Gonfler le cercle \"\"\"\n",
    "        self.radius += 1\n",
    "    def shrink(self):\n",
    "        \"\"\" reduire le cercle  \"\"\"\n",
    "        if self.radius > 0:\n",
    "            self.radius -= 1\n",
    "            \n",
    "if __name__ == \"__main__\":\n",
    "    p1 = Point(0, 3)\n",
    "    print(p1.get_position())\n",
    "    c1 = Cercle([0, 0], 13)\n",
    "    print(c1.get_centre())"
   ]
  },
  {
   "cell_type": "code",
   "execution_count": 13,
   "metadata": {
    "collapsed": false
   },
   "outputs": [
    {
     "name": "stdout",
     "output_type": "stream",
     "text": [
      "les coordonnées de  La classe crée des points dans le plan horizontal !  sont : x = 0, y = 3 \n"
     ]
    },
    {
     "data": {
      "text/plain": [
       "[0, 0]"
      ]
     },
     "execution_count": 13,
     "metadata": {},
     "output_type": "execute_result"
    }
   ],
   "source": [
    "from myModuleClassPointCercle import*\n",
    "d1 = Point(0, 3)\n",
    "d1.get_position()\n",
    "c1 = Cercle([0, 0], 13)\n",
    "c1.get_centre()"
   ]
  },
  {
   "cell_type": "code",
   "execution_count": null,
   "metadata": {
    "collapsed": true
   },
   "outputs": [],
   "source": [
    "%%file myModuleClassRectangleSquare.py\n",
    "# -*- coding: UTF-8 -*-\n",
    "\"\"\"\n",
    "Ceci est la documentation d'un ùodule qui contient 2 classes\n",
    "\"\"\"\n",
    "            \n",
    "class Rectangle():\n",
    "    \"\"\"Represent a rectangular section of an image.\"\"\"\n",
    "    def __init__(self, x0, y0, width, height):\n",
    "        \"\"\" Ceate a rectangle with non-zero area. (x0,y0) is the ower left corner, width and height the X and Y extent.\"\"\"\n",
    "        self.x0 = x0\n",
    "        self.y0 = y0\n",
    "        self.width = width\n",
    "        self.height = height\n",
    "    def get_surface(self):\n",
    "        \"\"\"Return the area of the rectangle.\"\"\"\n",
    "        return self.width * self.height\n",
    "    def get_perimeter(self):\n",
    "        \"\"\"Return the perimeter of the rectangle.\"\"\"\n",
    "        return 2 * (self.width + self.height)\n",
    "    def contains(self, x, y):\n",
    "        \"\"\"Return True if (x,y) point is inside a rectangle, nd False otherwise.\"\"\"\n",
    "        return (self.x0 <= x) and (x <= self.x0 + width) and (self.y0 <= y) and (y <= self.y0 + height)\n",
    "    def get_min_x(self):\n",
    "        \"\"\"Return the minimum X coordinate.\"\"\"\n",
    "        return self.x0\n",
    "    def get_min_y(self):\n",
    "        \"\"\"Return the minimum Y coordinate.\"\"\"\n",
    "        return self.y0\n",
    "    def get_max_x(self):\n",
    "        \"\"\"Return the maximum X coordinate.\"\"\"\n",
    "        return self.x1\n",
    "    def get_max_y(self):\n",
    "        \"\"\"Return the maximum Y coordinate.\"\"\"\n",
    "        return self.y1\n",
    "    \n",
    "class Square(Rectangle):\n",
    "    \"\"\"Represent a rectangular section of an image.\"\"\"\n",
    "    def __init__(self, x0, y0, width):\n",
    "        \"\"\" Ceate a rectangle with non-zero area. (x0,y0) is the ower left corner, width and height the X and Y extent.\"\"\"\n",
    "        # profiter de polymorphisme pour creer le carree\n",
    "        Rectangle.__init__(self, x0, y0, width, width)\n",
    "    def get_surface(self):\n",
    "        \"\"\"Return the area of the rectangle.\"\"\"\n",
    "        return self.width * self.height\n",
    "    def get_perimeter(self):\n",
    "        \"\"\"Return the perimeter of the rectangle.\"\"\"\n",
    "        return 2 * (self.width + self.height)\n",
    "    def contains(self, x, y):\n",
    "        \"\"\"Return True if (x,y) point is inside a rectangle, nd False otherwise.\"\"\"\n",
    "        return (self.x0 <= x) and (x <= self.x0 + width) and (self.y0 <= y) and (y <= self.y0 + height)\n",
    "    def get_min_x(self):\n",
    "        \"\"\"Return the minimum X coordinate.\"\"\"\n",
    "        return self.x0\n",
    "    def get_min_y(self):\n",
    "        \"\"\"Return the minimum Y coordinate.\"\"\"\n",
    "        return self.y0\n",
    "    def get_max_x(self):\n",
    "        \"\"\"Return the maximum X coordinate.\"\"\"\n",
    "        return self.x1\n",
    "    def get_max_y(self):\n",
    "        \"\"\"Return the maximum Y coordinate.\"\"\"\n",
    "        return self.y1\n",
    "\n",
    "if __name__ == \"__main__\":\n",
    "    r1 = Rectangle(0, 0, 15, 30)\n",
    "    r1.get_surface()\n",
    "    c1 = Square(0, 0, 13)\n",
    "    c1.get_surface()"
   ]
  },
  {
   "cell_type": "code",
   "execution_count": null,
   "metadata": {
    "collapsed": true
   },
   "outputs": [],
   "source": [
    "from myModuleClassRectangleSquare import *\n",
    "r1 = Rectangle(0, 0, 15, 30)\n",
    "r1.get_surface()"
   ]
  },
  {
   "cell_type": "code",
   "execution_count": null,
   "metadata": {
    "collapsed": true
   },
   "outputs": [],
   "source": [
    "c1 = Square(0, 0, 13)\n",
    "c1.get_surface()"
   ]
  }
 ],
 "metadata": {
  "anaconda-cloud": {},
  "kernelspec": {
   "display_name": "Python [default]",
   "language": "python",
   "name": "python3"
  },
  "language_info": {
   "codemirror_mode": {
    "name": "ipython",
    "version": 3
   },
   "file_extension": ".py",
   "mimetype": "text/x-python",
   "name": "python",
   "nbconvert_exporter": "python",
   "pygments_lexer": "ipython3",
   "version": "3.5.2"
  }
 },
 "nbformat": 4,
 "nbformat_minor": 0
}
